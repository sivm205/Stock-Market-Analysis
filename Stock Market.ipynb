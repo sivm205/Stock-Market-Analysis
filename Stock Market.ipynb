{
 "cells": [
  {
   "cell_type": "code",
   "execution_count": 200,
   "id": "108489b8-617a-4536-a61f-52517678ebb8",
   "metadata": {},
   "outputs": [],
   "source": [
    "import numpy as np\n",
    "import matplotlib.pyplot as plt\n",
    "import os\n",
    "import pandas as pd"
   ]
  },
  {
   "cell_type": "code",
   "execution_count": 13,
   "id": "e63047c9-f068-46f7-a3e2-46b20c3919f0",
   "metadata": {},
   "outputs": [],
   "source": [
    "file_path = 'E:/Copy of Stock Market Tracking.xlsx'"
   ]
  },
  {
   "cell_type": "code",
   "execution_count": 14,
   "id": "d4f63a7e-c389-469a-8497-5fd0184f8dd0",
   "metadata": {},
   "outputs": [
    {
     "data": {
      "text/html": [
       "<div>\n",
       "<style scoped>\n",
       "    .dataframe tbody tr th:only-of-type {\n",
       "        vertical-align: middle;\n",
       "    }\n",
       "\n",
       "    .dataframe tbody tr th {\n",
       "        vertical-align: top;\n",
       "    }\n",
       "\n",
       "    .dataframe thead th {\n",
       "        text-align: right;\n",
       "    }\n",
       "</style>\n",
       "<table border=\"1\" class=\"dataframe\">\n",
       "  <thead>\n",
       "    <tr style=\"text-align: right;\">\n",
       "      <th></th>\n",
       "      <th>Stock</th>\n",
       "      <th>Market Cap (In Rs Cr.)</th>\n",
       "      <th>Current price</th>\n",
       "      <th>PE Ratio</th>\n",
       "      <th>52 Week High</th>\n",
       "      <th>% Below 52 week high</th>\n",
       "      <th>52 Week Low</th>\n",
       "      <th>% Above 52 Week low</th>\n",
       "      <th>Yesterday Closing Price</th>\n",
       "      <th>% Change</th>\n",
       "    </tr>\n",
       "  </thead>\n",
       "  <tbody>\n",
       "    <tr>\n",
       "      <th>0</th>\n",
       "      <td>TCS</td>\n",
       "      <td>1234544.517475</td>\n",
       "      <td>3374.2</td>\n",
       "      <td>30.43</td>\n",
       "      <td>4045.5</td>\n",
       "      <td>0.165937</td>\n",
       "      <td>2926</td>\n",
       "      <td>0.153178</td>\n",
       "      <td>3334.6</td>\n",
       "      <td>0.011875</td>\n",
       "    </tr>\n",
       "    <tr>\n",
       "      <th>1</th>\n",
       "      <td>HUL</td>\n",
       "      <td>616301.326875</td>\n",
       "      <td>2620.6</td>\n",
       "      <td>63.81</td>\n",
       "      <td>2741.6</td>\n",
       "      <td>0.044135</td>\n",
       "      <td>1901.55</td>\n",
       "      <td>0.378139</td>\n",
       "      <td>2590.05</td>\n",
       "      <td>0.011795</td>\n",
       "    </tr>\n",
       "    <tr>\n",
       "      <th>2</th>\n",
       "      <td>Airtel</td>\n",
       "      <td>441027.397246</td>\n",
       "      <td>764.6</td>\n",
       "      <td>65.86</td>\n",
       "      <td>860.55</td>\n",
       "      <td>0.111498</td>\n",
       "      <td>628.75</td>\n",
       "      <td>0.216064</td>\n",
       "      <td>756.9</td>\n",
       "      <td>0.010173</td>\n",
       "    </tr>\n",
       "    <tr>\n",
       "      <th>3</th>\n",
       "      <td>Bajaj Finance</td>\n",
       "      <td>361172.63514</td>\n",
       "      <td>5977</td>\n",
       "      <td>36.52</td>\n",
       "      <td>8045</td>\n",
       "      <td>0.257054</td>\n",
       "      <td>5220</td>\n",
       "      <td>0.145019</td>\n",
       "      <td>5898.4</td>\n",
       "      <td>0.013326</td>\n",
       "    </tr>\n",
       "    <tr>\n",
       "      <th>4</th>\n",
       "      <td>Asian Paints</td>\n",
       "      <td>278960.099566</td>\n",
       "      <td>2912</td>\n",
       "      <td>76.19</td>\n",
       "      <td>3582.9</td>\n",
       "      <td>0.187251</td>\n",
       "      <td>2560</td>\n",
       "      <td>0.1375</td>\n",
       "      <td>2915.95</td>\n",
       "      <td>-0.001355</td>\n",
       "    </tr>\n",
       "  </tbody>\n",
       "</table>\n",
       "</div>"
      ],
      "text/plain": [
       "           Stock Market Cap (In Rs Cr.) Current price PE Ratio 52 Week High  \\\n",
       "0            TCS         1234544.517475        3374.2    30.43       4045.5   \n",
       "1            HUL          616301.326875        2620.6    63.81       2741.6   \n",
       "2         Airtel          441027.397246         764.6    65.86       860.55   \n",
       "3  Bajaj Finance           361172.63514          5977    36.52         8045   \n",
       "4   Asian Paints          278960.099566          2912    76.19       3582.9   \n",
       "\n",
       "  % Below 52 week high 52 Week Low % Above 52 Week low  \\\n",
       "0             0.165937        2926            0.153178   \n",
       "1             0.044135     1901.55            0.378139   \n",
       "2             0.111498      628.75            0.216064   \n",
       "3             0.257054        5220            0.145019   \n",
       "4             0.187251        2560              0.1375   \n",
       "\n",
       "  Yesterday Closing Price  % Change  \n",
       "0                  3334.6  0.011875  \n",
       "1                 2590.05  0.011795  \n",
       "2                   756.9  0.010173  \n",
       "3                  5898.4  0.013326  \n",
       "4                 2915.95 -0.001355  "
      ]
     },
     "execution_count": 14,
     "metadata": {},
     "output_type": "execute_result"
    }
   ],
   "source": [
    "df = pd.read_excel(file_path)\n",
    "df.head()"
   ]
  },
  {
   "cell_type": "code",
   "execution_count": 15,
   "id": "47fba659-328c-496e-96ad-31e881ff7a61",
   "metadata": {},
   "outputs": [
    {
     "data": {
      "text/plain": [
       "Index(['Stock', 'Market Cap (In Rs Cr.)', 'Current price', 'PE Ratio',\n",
       "       '52 Week High', '% Below 52 week high', '52 Week Low',\n",
       "       '% Above 52 Week low', 'Yesterday Closing Price', '% Change'],\n",
       "      dtype='object')"
      ]
     },
     "execution_count": 15,
     "metadata": {},
     "output_type": "execute_result"
    }
   ],
   "source": [
    "df.columns"
   ]
  },
  {
   "cell_type": "code",
   "execution_count": 16,
   "id": "920841a5-dd5a-48a3-b021-5a9522ed1836",
   "metadata": {},
   "outputs": [
    {
     "data": {
      "text/html": [
       "<div>\n",
       "<style scoped>\n",
       "    .dataframe tbody tr th:only-of-type {\n",
       "        vertical-align: middle;\n",
       "    }\n",
       "\n",
       "    .dataframe tbody tr th {\n",
       "        vertical-align: top;\n",
       "    }\n",
       "\n",
       "    .dataframe thead th {\n",
       "        text-align: right;\n",
       "    }\n",
       "</style>\n",
       "<table border=\"1\" class=\"dataframe\">\n",
       "  <thead>\n",
       "    <tr style=\"text-align: right;\">\n",
       "      <th></th>\n",
       "      <th>Stock</th>\n",
       "      <th>Market Cap (In Rs Cr.)</th>\n",
       "      <th>Current price</th>\n",
       "      <th>PE Ratio</th>\n",
       "      <th>52 Week High</th>\n",
       "      <th>% Below 52 week high</th>\n",
       "      <th>52 Week Low</th>\n",
       "      <th>% Above 52 Week low</th>\n",
       "      <th>Yesterday Closing Price</th>\n",
       "      <th>% Change</th>\n",
       "    </tr>\n",
       "  </thead>\n",
       "  <tbody>\n",
       "    <tr>\n",
       "      <th>count</th>\n",
       "      <td>216</td>\n",
       "      <td>2.160000e+02</td>\n",
       "      <td>215.0</td>\n",
       "      <td>214</td>\n",
       "      <td>216</td>\n",
       "      <td>215.000000</td>\n",
       "      <td>215</td>\n",
       "      <td>214.000000</td>\n",
       "      <td>216.0</td>\n",
       "      <td>215.000000</td>\n",
       "    </tr>\n",
       "    <tr>\n",
       "      <th>unique</th>\n",
       "      <td>216</td>\n",
       "      <td>2.160000e+02</td>\n",
       "      <td>215.0</td>\n",
       "      <td>199</td>\n",
       "      <td>215</td>\n",
       "      <td>215.000000</td>\n",
       "      <td>215</td>\n",
       "      <td>214.000000</td>\n",
       "      <td>216.0</td>\n",
       "      <td>215.000000</td>\n",
       "    </tr>\n",
       "    <tr>\n",
       "      <th>top</th>\n",
       "      <td>TCS</td>\n",
       "      <td>1.234545e+06</td>\n",
       "      <td>3374.2</td>\n",
       "      <td></td>\n",
       "      <td>958</td>\n",
       "      <td>0.165937</td>\n",
       "      <td>2926</td>\n",
       "      <td>0.153178</td>\n",
       "      <td>3334.6</td>\n",
       "      <td>0.011875</td>\n",
       "    </tr>\n",
       "    <tr>\n",
       "      <th>freq</th>\n",
       "      <td>1</td>\n",
       "      <td>1.000000e+00</td>\n",
       "      <td>1.0</td>\n",
       "      <td>13</td>\n",
       "      <td>2</td>\n",
       "      <td>1.000000</td>\n",
       "      <td>1</td>\n",
       "      <td>1.000000</td>\n",
       "      <td>1.0</td>\n",
       "      <td>1.000000</td>\n",
       "    </tr>\n",
       "  </tbody>\n",
       "</table>\n",
       "</div>"
      ],
      "text/plain": [
       "       Stock  Market Cap (In Rs Cr.)  Current price PE Ratio  52 Week High  \\\n",
       "count    216            2.160000e+02          215.0      214           216   \n",
       "unique   216            2.160000e+02          215.0      199           215   \n",
       "top      TCS            1.234545e+06         3374.2                    958   \n",
       "freq       1            1.000000e+00            1.0       13             2   \n",
       "\n",
       "        % Below 52 week high  52 Week Low  % Above 52 Week low  \\\n",
       "count             215.000000          215           214.000000   \n",
       "unique            215.000000          215           214.000000   \n",
       "top                 0.165937         2926             0.153178   \n",
       "freq                1.000000            1             1.000000   \n",
       "\n",
       "        Yesterday Closing Price    % Change  \n",
       "count                     216.0  215.000000  \n",
       "unique                    216.0  215.000000  \n",
       "top                      3334.6    0.011875  \n",
       "freq                        1.0    1.000000  "
      ]
     },
     "execution_count": 16,
     "metadata": {},
     "output_type": "execute_result"
    }
   ],
   "source": [
    "df.describe()"
   ]
  },
  {
   "cell_type": "code",
   "execution_count": 17,
   "id": "881c0358-70c1-4c55-8c8c-a994749d5abb",
   "metadata": {},
   "outputs": [
    {
     "name": "stdout",
     "output_type": "stream",
     "text": [
      "<class 'pandas.core.frame.DataFrame'>\n",
      "RangeIndex: 216 entries, 0 to 215\n",
      "Data columns (total 10 columns):\n",
      " #   Column                   Non-Null Count  Dtype \n",
      "---  ------                   --------------  ----- \n",
      " 0   Stock                    216 non-null    object\n",
      " 1   Market Cap (In Rs Cr.)   216 non-null    object\n",
      " 2   Current price            215 non-null    object\n",
      " 3   PE Ratio                 214 non-null    object\n",
      " 4   52 Week High             216 non-null    object\n",
      " 5   % Below 52 week high     215 non-null    object\n",
      " 6   52 Week Low              215 non-null    object\n",
      " 7   % Above 52 Week low      214 non-null    object\n",
      " 8   Yesterday Closing Price  216 non-null    object\n",
      " 9   % Change                 215 non-null    object\n",
      "dtypes: object(10)\n",
      "memory usage: 17.0+ KB\n"
     ]
    }
   ],
   "source": [
    "df.info()"
   ]
  },
  {
   "cell_type": "code",
   "execution_count": 18,
   "id": "2411f489-5d66-482e-89ff-60d337efadb5",
   "metadata": {},
   "outputs": [
    {
     "name": "stdout",
     "output_type": "stream",
     "text": [
      "<class 'pandas.core.frame.DataFrame'>\n",
      "RangeIndex: 216 entries, 0 to 215\n",
      "Data columns (total 10 columns):\n",
      " #   Column                   Non-Null Count  Dtype  \n",
      "---  ------                   --------------  -----  \n",
      " 0   Stock                    216 non-null    object \n",
      " 1   Market Cap (In Rs Cr.)   216 non-null    float64\n",
      " 2   Current price            216 non-null    float64\n",
      " 3   PE Ratio                 216 non-null    float64\n",
      " 4   52 Week High             216 non-null    float64\n",
      " 5   % Below 52 week high     216 non-null    float64\n",
      " 6   52 Week Low              216 non-null    float64\n",
      " 7   % Above 52 Week low      216 non-null    float64\n",
      " 8   Yesterday Closing Price  216 non-null    float64\n",
      " 9   % Change                 216 non-null    float64\n",
      "dtypes: float64(9), object(1)\n",
      "memory usage: 17.0+ KB\n",
      "None\n"
     ]
    }
   ],
   "source": [
    "#few of the columns contain some missing values so I will use KNN to fill this particular columns\n",
    "import pandas as pd\n",
    "from sklearn.impute import KNNImputer\n",
    "\n",
    "# Convert object columns to numeric since only stock data is actual object type so rest should be change\n",
    "numeric_columns = df.columns[1:]  # Assuming the first column is the string column\n",
    "\n",
    "# Handle missing values using KNN imputation\n",
    "imputer = KNNImputer(n_neighbors=5)  # Choose the appropriate number of neighbors\n",
    "\n",
    "for column in numeric_columns:\n",
    "    df[column] = pd.to_numeric(df[column], errors=\"coerce\")\n",
    "\n",
    "    # Perform KNN imputation on the column\n",
    "    df[column] = imputer.fit_transform(df[[column]])\n",
    "\n",
    "# Print the updated dataset\n",
    "print(df.info())\n",
    "\n"
   ]
  },
  {
   "cell_type": "markdown",
   "id": "dc6b26e7-9896-4ed8-b40e-7e1d08de4b2e",
   "metadata": {},
   "source": [
    "#####  Now Data is fine to work with misisng values gets filled and object data type converted into float type"
   ]
  },
  {
   "cell_type": "code",
   "execution_count": 19,
   "id": "9ed282b1-5719-4261-8033-c9f951a1c35c",
   "metadata": {},
   "outputs": [
    {
     "data": {
      "text/html": [
       "<div>\n",
       "<style scoped>\n",
       "    .dataframe tbody tr th:only-of-type {\n",
       "        vertical-align: middle;\n",
       "    }\n",
       "\n",
       "    .dataframe tbody tr th {\n",
       "        vertical-align: top;\n",
       "    }\n",
       "\n",
       "    .dataframe thead th {\n",
       "        text-align: right;\n",
       "    }\n",
       "</style>\n",
       "<table border=\"1\" class=\"dataframe\">\n",
       "  <thead>\n",
       "    <tr style=\"text-align: right;\">\n",
       "      <th></th>\n",
       "      <th>Market Cap (In Rs Cr.)</th>\n",
       "      <th>Current price</th>\n",
       "      <th>PE Ratio</th>\n",
       "      <th>52 Week High</th>\n",
       "      <th>% Below 52 week high</th>\n",
       "      <th>52 Week Low</th>\n",
       "      <th>% Above 52 Week low</th>\n",
       "      <th>Yesterday Closing Price</th>\n",
       "      <th>% Change</th>\n",
       "    </tr>\n",
       "  </thead>\n",
       "  <tbody>\n",
       "    <tr>\n",
       "      <th>count</th>\n",
       "      <td>2.160000e+02</td>\n",
       "      <td>216.000000</td>\n",
       "      <td>216.000000</td>\n",
       "      <td>216.000000</td>\n",
       "      <td>216.000000</td>\n",
       "      <td>216.000000</td>\n",
       "      <td>216.000000</td>\n",
       "      <td>216.000000</td>\n",
       "      <td>216.000000</td>\n",
       "    </tr>\n",
       "    <tr>\n",
       "      <th>mean</th>\n",
       "      <td>6.658845e+04</td>\n",
       "      <td>2776.779907</td>\n",
       "      <td>52.091493</td>\n",
       "      <td>3459.531395</td>\n",
       "      <td>0.250570</td>\n",
       "      <td>2219.259953</td>\n",
       "      <td>0.248529</td>\n",
       "      <td>2765.392791</td>\n",
       "      <td>0.000568</td>\n",
       "    </tr>\n",
       "    <tr>\n",
       "      <th>std</th>\n",
       "      <td>1.641444e+05</td>\n",
       "      <td>7740.654761</td>\n",
       "      <td>77.746102</td>\n",
       "      <td>8753.078173</td>\n",
       "      <td>0.158869</td>\n",
       "      <td>5829.801689</td>\n",
       "      <td>0.223416</td>\n",
       "      <td>7737.269696</td>\n",
       "      <td>0.012881</td>\n",
       "    </tr>\n",
       "    <tr>\n",
       "      <th>min</th>\n",
       "      <td>4.048025e+02</td>\n",
       "      <td>20.150000</td>\n",
       "      <td>3.390000</td>\n",
       "      <td>24.750000</td>\n",
       "      <td>0.000804</td>\n",
       "      <td>12.110000</td>\n",
       "      <td>0.001049</td>\n",
       "      <td>19.900000</td>\n",
       "      <td>-0.053166</td>\n",
       "    </tr>\n",
       "    <tr>\n",
       "      <th>25%</th>\n",
       "      <td>7.059127e+03</td>\n",
       "      <td>459.237500</td>\n",
       "      <td>23.167500</td>\n",
       "      <td>649.487500</td>\n",
       "      <td>0.127966</td>\n",
       "      <td>396.762500</td>\n",
       "      <td>0.087889</td>\n",
       "      <td>465.562500</td>\n",
       "      <td>-0.006064</td>\n",
       "    </tr>\n",
       "    <tr>\n",
       "      <th>50%</th>\n",
       "      <td>2.086164e+04</td>\n",
       "      <td>981.950000</td>\n",
       "      <td>37.985000</td>\n",
       "      <td>1277.875000</td>\n",
       "      <td>0.228039</td>\n",
       "      <td>738.025000</td>\n",
       "      <td>0.203603</td>\n",
       "      <td>954.050000</td>\n",
       "      <td>0.000711</td>\n",
       "    </tr>\n",
       "    <tr>\n",
       "      <th>75%</th>\n",
       "      <td>4.774192e+04</td>\n",
       "      <td>2462.725000</td>\n",
       "      <td>58.165000</td>\n",
       "      <td>3420.025000</td>\n",
       "      <td>0.350096</td>\n",
       "      <td>1923.300000</td>\n",
       "      <td>0.324132</td>\n",
       "      <td>2447.412500</td>\n",
       "      <td>0.006968</td>\n",
       "    </tr>\n",
       "    <tr>\n",
       "      <th>max</th>\n",
       "      <td>1.620922e+06</td>\n",
       "      <td>89700.000000</td>\n",
       "      <td>918.200000</td>\n",
       "      <td>95954.350000</td>\n",
       "      <td>0.791142</td>\n",
       "      <td>62944.500000</td>\n",
       "      <td>1.134087</td>\n",
       "      <td>89498.350000</td>\n",
       "      <td>0.056706</td>\n",
       "    </tr>\n",
       "  </tbody>\n",
       "</table>\n",
       "</div>"
      ],
      "text/plain": [
       "       Market Cap (In Rs Cr.)  Current price    PE Ratio  52 Week High  \\\n",
       "count            2.160000e+02     216.000000  216.000000    216.000000   \n",
       "mean             6.658845e+04    2776.779907   52.091493   3459.531395   \n",
       "std              1.641444e+05    7740.654761   77.746102   8753.078173   \n",
       "min              4.048025e+02      20.150000    3.390000     24.750000   \n",
       "25%              7.059127e+03     459.237500   23.167500    649.487500   \n",
       "50%              2.086164e+04     981.950000   37.985000   1277.875000   \n",
       "75%              4.774192e+04    2462.725000   58.165000   3420.025000   \n",
       "max              1.620922e+06   89700.000000  918.200000  95954.350000   \n",
       "\n",
       "       % Below 52 week high   52 Week Low  % Above 52 Week low  \\\n",
       "count            216.000000    216.000000           216.000000   \n",
       "mean               0.250570   2219.259953             0.248529   \n",
       "std                0.158869   5829.801689             0.223416   \n",
       "min                0.000804     12.110000             0.001049   \n",
       "25%                0.127966    396.762500             0.087889   \n",
       "50%                0.228039    738.025000             0.203603   \n",
       "75%                0.350096   1923.300000             0.324132   \n",
       "max                0.791142  62944.500000             1.134087   \n",
       "\n",
       "       Yesterday Closing Price    % Change  \n",
       "count               216.000000  216.000000  \n",
       "mean               2765.392791    0.000568  \n",
       "std                7737.269696    0.012881  \n",
       "min                  19.900000   -0.053166  \n",
       "25%                 465.562500   -0.006064  \n",
       "50%                 954.050000    0.000711  \n",
       "75%                2447.412500    0.006968  \n",
       "max               89498.350000    0.056706  "
      ]
     },
     "execution_count": 19,
     "metadata": {},
     "output_type": "execute_result"
    }
   ],
   "source": [
    "df.describe()"
   ]
  },
  {
   "cell_type": "markdown",
   "id": "cb483ca8-95b2-43bf-bb1d-51a4c16750ae",
   "metadata": {},
   "source": [
    "### Task 1 : Creating a New Sub Sheet & Fetch all the Data from the Sheet called \"Data Set\" where Data from the PE Ratio is not Blank & PE Ratio < 100 using Query Function  and sort the data by Descending of Market Cap Amount."
   ]
  },
  {
   "cell_type": "code",
   "execution_count": 20,
   "id": "7982ebd7-30df-4b80-9e28-a13c2a167936",
   "metadata": {},
   "outputs": [
    {
     "data": {
      "text/html": [
       "<div>\n",
       "<style scoped>\n",
       "    .dataframe tbody tr th:only-of-type {\n",
       "        vertical-align: middle;\n",
       "    }\n",
       "\n",
       "    .dataframe tbody tr th {\n",
       "        vertical-align: top;\n",
       "    }\n",
       "\n",
       "    .dataframe thead th {\n",
       "        text-align: right;\n",
       "    }\n",
       "</style>\n",
       "<table border=\"1\" class=\"dataframe\">\n",
       "  <thead>\n",
       "    <tr style=\"text-align: right;\">\n",
       "      <th></th>\n",
       "      <th>Stock</th>\n",
       "      <th>Market Cap (In Rs Cr.)</th>\n",
       "      <th>Current price</th>\n",
       "      <th>PE Ratio</th>\n",
       "      <th>52 Week High</th>\n",
       "      <th>% Below 52 week high</th>\n",
       "      <th>52 Week Low</th>\n",
       "      <th>% Above 52 Week low</th>\n",
       "      <th>Yesterday Closing Price</th>\n",
       "      <th>% Change</th>\n",
       "    </tr>\n",
       "  </thead>\n",
       "  <tbody>\n",
       "    <tr>\n",
       "      <th>0</th>\n",
       "      <td>TCS</td>\n",
       "      <td>1.234545e+06</td>\n",
       "      <td>3374.2</td>\n",
       "      <td>30.43</td>\n",
       "      <td>4045.50</td>\n",
       "      <td>0.165937</td>\n",
       "      <td>2926.00</td>\n",
       "      <td>0.153178</td>\n",
       "      <td>3334.60</td>\n",
       "      <td>0.011875</td>\n",
       "    </tr>\n",
       "    <tr>\n",
       "      <th>1</th>\n",
       "      <td>HUL</td>\n",
       "      <td>6.163013e+05</td>\n",
       "      <td>2620.6</td>\n",
       "      <td>63.81</td>\n",
       "      <td>2741.60</td>\n",
       "      <td>0.044135</td>\n",
       "      <td>1901.55</td>\n",
       "      <td>0.378139</td>\n",
       "      <td>2590.05</td>\n",
       "      <td>0.011795</td>\n",
       "    </tr>\n",
       "    <tr>\n",
       "      <th>2</th>\n",
       "      <td>Airtel</td>\n",
       "      <td>4.410274e+05</td>\n",
       "      <td>764.6</td>\n",
       "      <td>65.86</td>\n",
       "      <td>860.55</td>\n",
       "      <td>0.111498</td>\n",
       "      <td>628.75</td>\n",
       "      <td>0.216064</td>\n",
       "      <td>756.90</td>\n",
       "      <td>0.010173</td>\n",
       "    </tr>\n",
       "    <tr>\n",
       "      <th>3</th>\n",
       "      <td>Bajaj Finance</td>\n",
       "      <td>3.611726e+05</td>\n",
       "      <td>5977.0</td>\n",
       "      <td>36.52</td>\n",
       "      <td>8045.00</td>\n",
       "      <td>0.257054</td>\n",
       "      <td>5220.00</td>\n",
       "      <td>0.145019</td>\n",
       "      <td>5898.40</td>\n",
       "      <td>0.013326</td>\n",
       "    </tr>\n",
       "    <tr>\n",
       "      <th>4</th>\n",
       "      <td>Asian Paints</td>\n",
       "      <td>2.789601e+05</td>\n",
       "      <td>2912.0</td>\n",
       "      <td>76.19</td>\n",
       "      <td>3582.90</td>\n",
       "      <td>0.187251</td>\n",
       "      <td>2560.00</td>\n",
       "      <td>0.137500</td>\n",
       "      <td>2915.95</td>\n",
       "      <td>-0.001355</td>\n",
       "    </tr>\n",
       "  </tbody>\n",
       "</table>\n",
       "</div>"
      ],
      "text/plain": [
       "           Stock  Market Cap (In Rs Cr.)  Current price  PE Ratio  \\\n",
       "0            TCS            1.234545e+06         3374.2     30.43   \n",
       "1            HUL            6.163013e+05         2620.6     63.81   \n",
       "2         Airtel            4.410274e+05          764.6     65.86   \n",
       "3  Bajaj Finance            3.611726e+05         5977.0     36.52   \n",
       "4   Asian Paints            2.789601e+05         2912.0     76.19   \n",
       "\n",
       "   52 Week High  % Below 52 week high  52 Week Low  % Above 52 Week low  \\\n",
       "0       4045.50              0.165937      2926.00             0.153178   \n",
       "1       2741.60              0.044135      1901.55             0.378139   \n",
       "2        860.55              0.111498       628.75             0.216064   \n",
       "3       8045.00              0.257054      5220.00             0.145019   \n",
       "4       3582.90              0.187251      2560.00             0.137500   \n",
       "\n",
       "   Yesterday Closing Price  % Change  \n",
       "0                  3334.60  0.011875  \n",
       "1                  2590.05  0.011795  \n",
       "2                   756.90  0.010173  \n",
       "3                  5898.40  0.013326  \n",
       "4                  2915.95 -0.001355  "
      ]
     },
     "execution_count": 20,
     "metadata": {},
     "output_type": "execute_result"
    }
   ],
   "source": [
    "new_sheet = df[(df['PE Ratio']!=\"\" ) & (df['PE Ratio']<100)]\n",
    "new_sheet.sort_values(by = 'PE Ratio', ascending = False)\n",
    "new_sheet.head()"
   ]
  },
  {
   "cell_type": "markdown",
   "id": "1cbc00af-8b91-4723-8c53-556c2366e154",
   "metadata": {},
   "source": [
    "## Task 2 :  Now Creating 2 Columns of Industry & NSE/BSE Code & Fetch Data from the Second Sheet"
   ]
  },
  {
   "cell_type": "code",
   "execution_count": 21,
   "id": "6a1e4ca3-e15a-471f-bff1-8457e91f777f",
   "metadata": {},
   "outputs": [
    {
     "data": {
      "text/html": [
       "<div>\n",
       "<style scoped>\n",
       "    .dataframe tbody tr th:only-of-type {\n",
       "        vertical-align: middle;\n",
       "    }\n",
       "\n",
       "    .dataframe tbody tr th {\n",
       "        vertical-align: top;\n",
       "    }\n",
       "\n",
       "    .dataframe thead th {\n",
       "        text-align: right;\n",
       "    }\n",
       "</style>\n",
       "<table border=\"1\" class=\"dataframe\">\n",
       "  <thead>\n",
       "    <tr style=\"text-align: right;\">\n",
       "      <th></th>\n",
       "      <th>Stock Industry &amp; NSE/BSE Code</th>\n",
       "      <th>Unnamed: 1</th>\n",
       "      <th>Unnamed: 2</th>\n",
       "    </tr>\n",
       "  </thead>\n",
       "  <tbody>\n",
       "    <tr>\n",
       "      <th>0</th>\n",
       "      <td>NaN</td>\n",
       "      <td>NaN</td>\n",
       "      <td>NaN</td>\n",
       "    </tr>\n",
       "    <tr>\n",
       "      <th>1</th>\n",
       "      <td>Stock</td>\n",
       "      <td>Industry</td>\n",
       "      <td>NSE/BSE Code</td>\n",
       "    </tr>\n",
       "    <tr>\n",
       "      <th>2</th>\n",
       "      <td>TCS</td>\n",
       "      <td>IT</td>\n",
       "      <td>BOM:532540</td>\n",
       "    </tr>\n",
       "    <tr>\n",
       "      <th>3</th>\n",
       "      <td>HUL</td>\n",
       "      <td>FMCG</td>\n",
       "      <td>HINDUNILVR</td>\n",
       "    </tr>\n",
       "    <tr>\n",
       "      <th>4</th>\n",
       "      <td>Airtel</td>\n",
       "      <td>Telecom</td>\n",
       "      <td>BHARTIARTL</td>\n",
       "    </tr>\n",
       "    <tr>\n",
       "      <th>5</th>\n",
       "      <td>Bajaj Finance</td>\n",
       "      <td>NBFC</td>\n",
       "      <td>BAJFINANCE</td>\n",
       "    </tr>\n",
       "    <tr>\n",
       "      <th>6</th>\n",
       "      <td>Asian Paints</td>\n",
       "      <td>Paint</td>\n",
       "      <td>ASIANPAINT</td>\n",
       "    </tr>\n",
       "    <tr>\n",
       "      <th>7</th>\n",
       "      <td>HCL Tech</td>\n",
       "      <td>IT</td>\n",
       "      <td>HCLTECH</td>\n",
       "    </tr>\n",
       "    <tr>\n",
       "      <th>8</th>\n",
       "      <td>Maruti Suzuki</td>\n",
       "      <td>Automobile</td>\n",
       "      <td>MARUTI</td>\n",
       "    </tr>\n",
       "    <tr>\n",
       "      <th>9</th>\n",
       "      <td>Avenue Supermart</td>\n",
       "      <td>Retail</td>\n",
       "      <td>DMART</td>\n",
       "    </tr>\n",
       "  </tbody>\n",
       "</table>\n",
       "</div>"
      ],
      "text/plain": [
       "  Stock Industry & NSE/BSE Code  Unnamed: 1    Unnamed: 2\n",
       "0                           NaN         NaN           NaN\n",
       "1                         Stock    Industry  NSE/BSE Code\n",
       "2                           TCS          IT    BOM:532540\n",
       "3                           HUL        FMCG    HINDUNILVR\n",
       "4                        Airtel     Telecom    BHARTIARTL\n",
       "5                 Bajaj Finance        NBFC    BAJFINANCE\n",
       "6                  Asian Paints       Paint    ASIANPAINT\n",
       "7                      HCL Tech          IT       HCLTECH\n",
       "8                 Maruti Suzuki  Automobile        MARUTI\n",
       "9              Avenue Supermart      Retail         DMART"
      ]
     },
     "execution_count": 21,
     "metadata": {},
     "output_type": "execute_result"
    }
   ],
   "source": [
    "import pandas as pd\n",
    "\n",
    "# Read the Excel file\n",
    "df1 = pd.read_csv('E:/Copy of Stock Market Tracking.csv')\n",
    "df1.head(10)\n"
   ]
  },
  {
   "cell_type": "code",
   "execution_count": 22,
   "id": "a510b831-ac0f-4297-9a64-d56632fc5ab0",
   "metadata": {},
   "outputs": [
    {
     "name": "stdout",
     "output_type": "stream",
     "text": [
      "<class 'pandas.core.frame.DataFrame'>\n",
      "RangeIndex: 219 entries, 0 to 218\n",
      "Data columns (total 3 columns):\n",
      " #   Column                         Non-Null Count  Dtype \n",
      "---  ------                         --------------  ----- \n",
      " 0   Stock Industry & NSE/BSE Code  217 non-null    object\n",
      " 1   Unnamed: 1                     211 non-null    object\n",
      " 2   Unnamed: 2                     217 non-null    object\n",
      "dtypes: object(3)\n",
      "memory usage: 5.3+ KB\n"
     ]
    }
   ],
   "source": [
    "df1.info()"
   ]
  },
  {
   "cell_type": "code",
   "execution_count": 23,
   "id": "047406b3-9cfa-4259-bec9-18dc6362c875",
   "metadata": {},
   "outputs": [
    {
     "name": "stderr",
     "output_type": "stream",
     "text": [
      "C:\\Users\\Asus\\AppData\\Local\\Temp\\ipykernel_19940\\1078493678.py:2: FutureWarning: DataFrame.set_axis 'inplace' keyword is deprecated and will be removed in a future version. Use `obj = obj.set_axis(..., copy=False)` instead\n",
      "  df1.set_axis(['Stock', 'Industry', 'NSE & BSE Code'], axis=1,inplace=True)\n"
     ]
    }
   ],
   "source": [
    "#changing the column names\n",
    "df1.set_axis(['Stock', 'Industry', 'NSE & BSE Code'], axis=1,inplace=True)"
   ]
  },
  {
   "cell_type": "code",
   "execution_count": 24,
   "id": "47147004-a7ca-4408-92ad-aee721cb4c38",
   "metadata": {},
   "outputs": [
    {
     "name": "stdout",
     "output_type": "stream",
     "text": [
      "<class 'pandas.core.frame.DataFrame'>\n",
      "RangeIndex: 219 entries, 0 to 218\n",
      "Data columns (total 3 columns):\n",
      " #   Column          Non-Null Count  Dtype \n",
      "---  ------          --------------  ----- \n",
      " 0   Stock           217 non-null    object\n",
      " 1   Industry        211 non-null    object\n",
      " 2   NSE & BSE Code  217 non-null    object\n",
      "dtypes: object(3)\n",
      "memory usage: 5.3+ KB\n"
     ]
    }
   ],
   "source": [
    "df1.info()"
   ]
  },
  {
   "cell_type": "code",
   "execution_count": 25,
   "id": "b745cc63-d375-43d6-a89b-93f5bb8aff7c",
   "metadata": {},
   "outputs": [],
   "source": [
    "df1.dropna(inplace= True)"
   ]
  },
  {
   "cell_type": "code",
   "execution_count": 26,
   "id": "a830c07c-80ea-406d-95d0-120c3669467e",
   "metadata": {},
   "outputs": [
    {
     "name": "stdout",
     "output_type": "stream",
     "text": [
      "<class 'pandas.core.frame.DataFrame'>\n",
      "Int64Index: 211 entries, 1 to 217\n",
      "Data columns (total 3 columns):\n",
      " #   Column          Non-Null Count  Dtype \n",
      "---  ------          --------------  ----- \n",
      " 0   Stock           211 non-null    object\n",
      " 1   Industry        211 non-null    object\n",
      " 2   NSE & BSE Code  211 non-null    object\n",
      "dtypes: object(3)\n",
      "memory usage: 6.6+ KB\n"
     ]
    }
   ],
   "source": [
    "df1.info()"
   ]
  },
  {
   "cell_type": "code",
   "execution_count": 27,
   "id": "54f1dd38-f49a-41b5-b203-1b586b312b86",
   "metadata": {},
   "outputs": [
    {
     "data": {
      "text/html": [
       "<div>\n",
       "<style scoped>\n",
       "    .dataframe tbody tr th:only-of-type {\n",
       "        vertical-align: middle;\n",
       "    }\n",
       "\n",
       "    .dataframe tbody tr th {\n",
       "        vertical-align: top;\n",
       "    }\n",
       "\n",
       "    .dataframe thead th {\n",
       "        text-align: right;\n",
       "    }\n",
       "</style>\n",
       "<table border=\"1\" class=\"dataframe\">\n",
       "  <thead>\n",
       "    <tr style=\"text-align: right;\">\n",
       "      <th></th>\n",
       "      <th>Stock</th>\n",
       "      <th>Market Cap (In Rs Cr.)</th>\n",
       "      <th>Current price</th>\n",
       "      <th>PE Ratio</th>\n",
       "      <th>52 Week High</th>\n",
       "      <th>% Below 52 week high</th>\n",
       "      <th>52 Week Low</th>\n",
       "      <th>% Above 52 Week low</th>\n",
       "      <th>Yesterday Closing Price</th>\n",
       "      <th>% Change</th>\n",
       "      <th>Industry</th>\n",
       "      <th>NSE &amp; BSE Code</th>\n",
       "    </tr>\n",
       "  </thead>\n",
       "  <tbody>\n",
       "    <tr>\n",
       "      <th>0</th>\n",
       "      <td>TCS</td>\n",
       "      <td>1.234545e+06</td>\n",
       "      <td>3374.20</td>\n",
       "      <td>30.430000</td>\n",
       "      <td>4045.50</td>\n",
       "      <td>0.165937</td>\n",
       "      <td>2926.00</td>\n",
       "      <td>0.153178</td>\n",
       "      <td>3334.60</td>\n",
       "      <td>0.011875</td>\n",
       "      <td>IT</td>\n",
       "      <td>BOM:532540</td>\n",
       "    </tr>\n",
       "    <tr>\n",
       "      <th>1</th>\n",
       "      <td>HUL</td>\n",
       "      <td>6.163013e+05</td>\n",
       "      <td>2620.60</td>\n",
       "      <td>63.810000</td>\n",
       "      <td>2741.60</td>\n",
       "      <td>0.044135</td>\n",
       "      <td>1901.55</td>\n",
       "      <td>0.378139</td>\n",
       "      <td>2590.05</td>\n",
       "      <td>0.011795</td>\n",
       "      <td>FMCG</td>\n",
       "      <td>HINDUNILVR</td>\n",
       "    </tr>\n",
       "    <tr>\n",
       "      <th>2</th>\n",
       "      <td>Airtel</td>\n",
       "      <td>4.410274e+05</td>\n",
       "      <td>764.60</td>\n",
       "      <td>65.860000</td>\n",
       "      <td>860.55</td>\n",
       "      <td>0.111498</td>\n",
       "      <td>628.75</td>\n",
       "      <td>0.216064</td>\n",
       "      <td>756.90</td>\n",
       "      <td>0.010173</td>\n",
       "      <td>Telecom</td>\n",
       "      <td>BHARTIARTL</td>\n",
       "    </tr>\n",
       "    <tr>\n",
       "      <th>3</th>\n",
       "      <td>Bajaj Finance</td>\n",
       "      <td>3.611726e+05</td>\n",
       "      <td>5977.00</td>\n",
       "      <td>36.520000</td>\n",
       "      <td>8045.00</td>\n",
       "      <td>0.257054</td>\n",
       "      <td>5220.00</td>\n",
       "      <td>0.145019</td>\n",
       "      <td>5898.40</td>\n",
       "      <td>0.013326</td>\n",
       "      <td>NBFC</td>\n",
       "      <td>BAJFINANCE</td>\n",
       "    </tr>\n",
       "    <tr>\n",
       "      <th>4</th>\n",
       "      <td>Asian Paints</td>\n",
       "      <td>2.789601e+05</td>\n",
       "      <td>2912.00</td>\n",
       "      <td>76.190000</td>\n",
       "      <td>3582.90</td>\n",
       "      <td>0.187251</td>\n",
       "      <td>2560.00</td>\n",
       "      <td>0.137500</td>\n",
       "      <td>2915.95</td>\n",
       "      <td>-0.001355</td>\n",
       "      <td>Paint</td>\n",
       "      <td>ASIANPAINT</td>\n",
       "    </tr>\n",
       "    <tr>\n",
       "      <th>5</th>\n",
       "      <td>HCL Tech</td>\n",
       "      <td>2.917701e+05</td>\n",
       "      <td>1077.00</td>\n",
       "      <td>52.091493</td>\n",
       "      <td>1359.40</td>\n",
       "      <td>0.207739</td>\n",
       "      <td>877.35</td>\n",
       "      <td>0.227560</td>\n",
       "      <td>1071.65</td>\n",
       "      <td>0.004992</td>\n",
       "      <td>IT</td>\n",
       "      <td>HCLTECH</td>\n",
       "    </tr>\n",
       "    <tr>\n",
       "      <th>6</th>\n",
       "      <td>Maruti Suzuki</td>\n",
       "      <td>2.554384e+05</td>\n",
       "      <td>8454.20</td>\n",
       "      <td>42.100000</td>\n",
       "      <td>9769.00</td>\n",
       "      <td>0.134589</td>\n",
       "      <td>6536.55</td>\n",
       "      <td>0.293373</td>\n",
       "      <td>8369.20</td>\n",
       "      <td>0.010156</td>\n",
       "      <td>Automobile</td>\n",
       "      <td>MARUTI</td>\n",
       "    </tr>\n",
       "    <tr>\n",
       "      <th>7</th>\n",
       "      <td>Avenue Supermart</td>\n",
       "      <td>2.501579e+05</td>\n",
       "      <td>3855.00</td>\n",
       "      <td>109.050000</td>\n",
       "      <td>4609.00</td>\n",
       "      <td>0.163593</td>\n",
       "      <td>3186.00</td>\n",
       "      <td>0.209981</td>\n",
       "      <td>3911.80</td>\n",
       "      <td>-0.014520</td>\n",
       "      <td>Retail</td>\n",
       "      <td>DMART</td>\n",
       "    </tr>\n",
       "    <tr>\n",
       "      <th>8</th>\n",
       "      <td>L&amp;T</td>\n",
       "      <td>3.026172e+05</td>\n",
       "      <td>2153.75</td>\n",
       "      <td>31.530000</td>\n",
       "      <td>2210.50</td>\n",
       "      <td>0.025673</td>\n",
       "      <td>1456.80</td>\n",
       "      <td>0.478412</td>\n",
       "      <td>2160.20</td>\n",
       "      <td>-0.002986</td>\n",
       "      <td>Infrastructure</td>\n",
       "      <td>BOM:500510</td>\n",
       "    </tr>\n",
       "    <tr>\n",
       "      <th>9</th>\n",
       "      <td>Bajaj Finserv</td>\n",
       "      <td>2.212925e+05</td>\n",
       "      <td>1391.00</td>\n",
       "      <td>40.480000</td>\n",
       "      <td>3724.20</td>\n",
       "      <td>0.626497</td>\n",
       "      <td>1374.35</td>\n",
       "      <td>0.012115</td>\n",
       "      <td>1387.80</td>\n",
       "      <td>0.002306</td>\n",
       "      <td>Financial Servcies</td>\n",
       "      <td>BAJAJFINSV</td>\n",
       "    </tr>\n",
       "  </tbody>\n",
       "</table>\n",
       "</div>"
      ],
      "text/plain": [
       "              Stock  Market Cap (In Rs Cr.)  Current price    PE Ratio  \\\n",
       "0               TCS            1.234545e+06        3374.20   30.430000   \n",
       "1               HUL            6.163013e+05        2620.60   63.810000   \n",
       "2            Airtel            4.410274e+05         764.60   65.860000   \n",
       "3     Bajaj Finance            3.611726e+05        5977.00   36.520000   \n",
       "4      Asian Paints            2.789601e+05        2912.00   76.190000   \n",
       "5          HCL Tech            2.917701e+05        1077.00   52.091493   \n",
       "6     Maruti Suzuki            2.554384e+05        8454.20   42.100000   \n",
       "7  Avenue Supermart            2.501579e+05        3855.00  109.050000   \n",
       "8               L&T            3.026172e+05        2153.75   31.530000   \n",
       "9     Bajaj Finserv            2.212925e+05        1391.00   40.480000   \n",
       "\n",
       "   52 Week High  % Below 52 week high  52 Week Low  % Above 52 Week low  \\\n",
       "0       4045.50              0.165937      2926.00             0.153178   \n",
       "1       2741.60              0.044135      1901.55             0.378139   \n",
       "2        860.55              0.111498       628.75             0.216064   \n",
       "3       8045.00              0.257054      5220.00             0.145019   \n",
       "4       3582.90              0.187251      2560.00             0.137500   \n",
       "5       1359.40              0.207739       877.35             0.227560   \n",
       "6       9769.00              0.134589      6536.55             0.293373   \n",
       "7       4609.00              0.163593      3186.00             0.209981   \n",
       "8       2210.50              0.025673      1456.80             0.478412   \n",
       "9       3724.20              0.626497      1374.35             0.012115   \n",
       "\n",
       "   Yesterday Closing Price  % Change            Industry NSE & BSE Code  \n",
       "0                  3334.60  0.011875                  IT     BOM:532540  \n",
       "1                  2590.05  0.011795                FMCG     HINDUNILVR  \n",
       "2                   756.90  0.010173             Telecom     BHARTIARTL  \n",
       "3                  5898.40  0.013326                NBFC     BAJFINANCE  \n",
       "4                  2915.95 -0.001355               Paint     ASIANPAINT  \n",
       "5                  1071.65  0.004992                  IT        HCLTECH  \n",
       "6                  8369.20  0.010156          Automobile         MARUTI  \n",
       "7                  3911.80 -0.014520              Retail          DMART  \n",
       "8                  2160.20 -0.002986      Infrastructure     BOM:500510  \n",
       "9                  1387.80  0.002306  Financial Servcies     BAJAJFINSV  "
      ]
     },
     "execution_count": 27,
     "metadata": {},
     "output_type": "execute_result"
    }
   ],
   "source": [
    "merge_df = pd.merge(df , df1, on='Stock',how='inner')\n",
    "merge_df.head(10)"
   ]
  },
  {
   "cell_type": "code",
   "execution_count": 28,
   "id": "2667ddb6-07f6-4b1f-a975-0ab93a738a97",
   "metadata": {},
   "outputs": [
    {
     "name": "stdout",
     "output_type": "stream",
     "text": [
      "<class 'pandas.core.frame.DataFrame'>\n",
      "Int64Index: 210 entries, 0 to 209\n",
      "Data columns (total 12 columns):\n",
      " #   Column                   Non-Null Count  Dtype  \n",
      "---  ------                   --------------  -----  \n",
      " 0   Stock                    210 non-null    object \n",
      " 1   Market Cap (In Rs Cr.)   210 non-null    float64\n",
      " 2   Current price            210 non-null    float64\n",
      " 3   PE Ratio                 210 non-null    float64\n",
      " 4   52 Week High             210 non-null    float64\n",
      " 5   % Below 52 week high     210 non-null    float64\n",
      " 6   52 Week Low              210 non-null    float64\n",
      " 7   % Above 52 Week low      210 non-null    float64\n",
      " 8   Yesterday Closing Price  210 non-null    float64\n",
      " 9   % Change                 210 non-null    float64\n",
      " 10  Industry                 210 non-null    object \n",
      " 11  NSE & BSE Code           210 non-null    object \n",
      "dtypes: float64(9), object(3)\n",
      "memory usage: 21.3+ KB\n"
     ]
    }
   ],
   "source": [
    "merge_df.info()"
   ]
  },
  {
   "cell_type": "markdown",
   "id": "f185ddd1-a842-4b6f-9e0f-a0a15f75b622",
   "metadata": {},
   "source": [
    "#### Task 3 : Now Creating 2 More Columns at the End with the Heading \"Bear Mode 1\" & \"Bear Mode 2\"\n",
    "\n"
   ]
  },
  {
   "cell_type": "code",
   "execution_count": 29,
   "id": "79bcb70a-630f-4b6f-87b4-7b29f6ac1d4c",
   "metadata": {},
   "outputs": [],
   "source": [
    "merge_df['Bear Mode1'] = \"Yes\"\n",
    "merge_df['Bear Mode2'] = \"yes\""
   ]
  },
  {
   "cell_type": "code",
   "execution_count": 30,
   "id": "c4b9204c-9163-4d86-8b99-8cee07f34a79",
   "metadata": {},
   "outputs": [
    {
     "name": "stdout",
     "output_type": "stream",
     "text": [
      "<class 'pandas.core.frame.DataFrame'>\n",
      "Int64Index: 210 entries, 0 to 209\n",
      "Data columns (total 14 columns):\n",
      " #   Column                   Non-Null Count  Dtype  \n",
      "---  ------                   --------------  -----  \n",
      " 0   Stock                    210 non-null    object \n",
      " 1   Market Cap (In Rs Cr.)   210 non-null    float64\n",
      " 2   Current price            210 non-null    float64\n",
      " 3   PE Ratio                 210 non-null    float64\n",
      " 4   52 Week High             210 non-null    float64\n",
      " 5   % Below 52 week high     210 non-null    float64\n",
      " 6   52 Week Low              210 non-null    float64\n",
      " 7   % Above 52 Week low      210 non-null    float64\n",
      " 8   Yesterday Closing Price  210 non-null    float64\n",
      " 9   % Change                 210 non-null    float64\n",
      " 10  Industry                 210 non-null    object \n",
      " 11  NSE & BSE Code           210 non-null    object \n",
      " 12  Bear Mode1               210 non-null    object \n",
      " 13  Bear Mode2               210 non-null    object \n",
      "dtypes: float64(9), object(5)\n",
      "memory usage: 24.6+ KB\n"
     ]
    }
   ],
   "source": [
    "merge_df.info()"
   ]
  },
  {
   "cell_type": "code",
   "execution_count": 31,
   "id": "96f7d502-8d05-485b-8267-51f15b68ef60",
   "metadata": {},
   "outputs": [],
   "source": [
    "def bear_market(bear_mode_attribute):\n",
    "  for i in bear_mode_attribute:\n",
    "    if i > 30:\n",
    "      merge_df['Bear Mode1'] = \"Yes\"\n",
    "    else:\n",
    "      merge_df['Bear Mode1'] = \"No\"\n",
    "bear_market(merge_df['% Change'])\n"
   ]
  },
  {
   "cell_type": "code",
   "execution_count": 32,
   "id": "107c97a8-c86a-4164-b6f5-4df07260fe44",
   "metadata": {},
   "outputs": [
    {
     "data": {
      "text/html": [
       "<div>\n",
       "<style scoped>\n",
       "    .dataframe tbody tr th:only-of-type {\n",
       "        vertical-align: middle;\n",
       "    }\n",
       "\n",
       "    .dataframe tbody tr th {\n",
       "        vertical-align: top;\n",
       "    }\n",
       "\n",
       "    .dataframe thead th {\n",
       "        text-align: right;\n",
       "    }\n",
       "</style>\n",
       "<table border=\"1\" class=\"dataframe\">\n",
       "  <thead>\n",
       "    <tr style=\"text-align: right;\">\n",
       "      <th></th>\n",
       "      <th>Stock</th>\n",
       "      <th>Market Cap (In Rs Cr.)</th>\n",
       "      <th>Current price</th>\n",
       "      <th>PE Ratio</th>\n",
       "      <th>52 Week High</th>\n",
       "      <th>% Below 52 week high</th>\n",
       "      <th>52 Week Low</th>\n",
       "      <th>% Above 52 Week low</th>\n",
       "      <th>Yesterday Closing Price</th>\n",
       "      <th>% Change</th>\n",
       "      <th>Industry</th>\n",
       "      <th>NSE &amp; BSE Code</th>\n",
       "      <th>Bear Mode1</th>\n",
       "      <th>Bear Mode2</th>\n",
       "    </tr>\n",
       "  </thead>\n",
       "  <tbody>\n",
       "    <tr>\n",
       "      <th>0</th>\n",
       "      <td>TCS</td>\n",
       "      <td>1.234545e+06</td>\n",
       "      <td>3374.2</td>\n",
       "      <td>30.43</td>\n",
       "      <td>4045.50</td>\n",
       "      <td>0.165937</td>\n",
       "      <td>2926.00</td>\n",
       "      <td>0.153178</td>\n",
       "      <td>3334.60</td>\n",
       "      <td>0.011875</td>\n",
       "      <td>IT</td>\n",
       "      <td>BOM:532540</td>\n",
       "      <td>No</td>\n",
       "      <td>yes</td>\n",
       "    </tr>\n",
       "    <tr>\n",
       "      <th>1</th>\n",
       "      <td>HUL</td>\n",
       "      <td>6.163013e+05</td>\n",
       "      <td>2620.6</td>\n",
       "      <td>63.81</td>\n",
       "      <td>2741.60</td>\n",
       "      <td>0.044135</td>\n",
       "      <td>1901.55</td>\n",
       "      <td>0.378139</td>\n",
       "      <td>2590.05</td>\n",
       "      <td>0.011795</td>\n",
       "      <td>FMCG</td>\n",
       "      <td>HINDUNILVR</td>\n",
       "      <td>No</td>\n",
       "      <td>yes</td>\n",
       "    </tr>\n",
       "    <tr>\n",
       "      <th>2</th>\n",
       "      <td>Airtel</td>\n",
       "      <td>4.410274e+05</td>\n",
       "      <td>764.6</td>\n",
       "      <td>65.86</td>\n",
       "      <td>860.55</td>\n",
       "      <td>0.111498</td>\n",
       "      <td>628.75</td>\n",
       "      <td>0.216064</td>\n",
       "      <td>756.90</td>\n",
       "      <td>0.010173</td>\n",
       "      <td>Telecom</td>\n",
       "      <td>BHARTIARTL</td>\n",
       "      <td>No</td>\n",
       "      <td>yes</td>\n",
       "    </tr>\n",
       "    <tr>\n",
       "      <th>3</th>\n",
       "      <td>Bajaj Finance</td>\n",
       "      <td>3.611726e+05</td>\n",
       "      <td>5977.0</td>\n",
       "      <td>36.52</td>\n",
       "      <td>8045.00</td>\n",
       "      <td>0.257054</td>\n",
       "      <td>5220.00</td>\n",
       "      <td>0.145019</td>\n",
       "      <td>5898.40</td>\n",
       "      <td>0.013326</td>\n",
       "      <td>NBFC</td>\n",
       "      <td>BAJFINANCE</td>\n",
       "      <td>No</td>\n",
       "      <td>yes</td>\n",
       "    </tr>\n",
       "    <tr>\n",
       "      <th>4</th>\n",
       "      <td>Asian Paints</td>\n",
       "      <td>2.789601e+05</td>\n",
       "      <td>2912.0</td>\n",
       "      <td>76.19</td>\n",
       "      <td>3582.90</td>\n",
       "      <td>0.187251</td>\n",
       "      <td>2560.00</td>\n",
       "      <td>0.137500</td>\n",
       "      <td>2915.95</td>\n",
       "      <td>-0.001355</td>\n",
       "      <td>Paint</td>\n",
       "      <td>ASIANPAINT</td>\n",
       "      <td>No</td>\n",
       "      <td>yes</td>\n",
       "    </tr>\n",
       "  </tbody>\n",
       "</table>\n",
       "</div>"
      ],
      "text/plain": [
       "           Stock  Market Cap (In Rs Cr.)  Current price  PE Ratio  \\\n",
       "0            TCS            1.234545e+06         3374.2     30.43   \n",
       "1            HUL            6.163013e+05         2620.6     63.81   \n",
       "2         Airtel            4.410274e+05          764.6     65.86   \n",
       "3  Bajaj Finance            3.611726e+05         5977.0     36.52   \n",
       "4   Asian Paints            2.789601e+05         2912.0     76.19   \n",
       "\n",
       "   52 Week High  % Below 52 week high  52 Week Low  % Above 52 Week low  \\\n",
       "0       4045.50              0.165937      2926.00             0.153178   \n",
       "1       2741.60              0.044135      1901.55             0.378139   \n",
       "2        860.55              0.111498       628.75             0.216064   \n",
       "3       8045.00              0.257054      5220.00             0.145019   \n",
       "4       3582.90              0.187251      2560.00             0.137500   \n",
       "\n",
       "   Yesterday Closing Price  % Change Industry NSE & BSE Code Bear Mode1  \\\n",
       "0                  3334.60  0.011875       IT     BOM:532540         No   \n",
       "1                  2590.05  0.011795     FMCG     HINDUNILVR         No   \n",
       "2                   756.90  0.010173  Telecom     BHARTIARTL         No   \n",
       "3                  5898.40  0.013326     NBFC     BAJFINANCE         No   \n",
       "4                  2915.95 -0.001355    Paint     ASIANPAINT         No   \n",
       "\n",
       "  Bear Mode2  \n",
       "0        yes  \n",
       "1        yes  \n",
       "2        yes  \n",
       "3        yes  \n",
       "4        yes  "
      ]
     },
     "execution_count": 32,
     "metadata": {},
     "output_type": "execute_result"
    }
   ],
   "source": [
    "merge_df.head()"
   ]
  },
  {
   "cell_type": "markdown",
   "id": "1cbfbe39-aa2b-460f-99dd-46b78f61afe0",
   "metadata": {},
   "source": [
    "##### Below code clearly shows that there is no bear market for the market"
   ]
  },
  {
   "cell_type": "code",
   "execution_count": 33,
   "id": "7ebadb5e-71d3-4a18-a503-90c22af4c218",
   "metadata": {},
   "outputs": [
    {
     "data": {
      "text/html": [
       "<div>\n",
       "<style scoped>\n",
       "    .dataframe tbody tr th:only-of-type {\n",
       "        vertical-align: middle;\n",
       "    }\n",
       "\n",
       "    .dataframe tbody tr th {\n",
       "        vertical-align: top;\n",
       "    }\n",
       "\n",
       "    .dataframe thead th {\n",
       "        text-align: right;\n",
       "    }\n",
       "</style>\n",
       "<table border=\"1\" class=\"dataframe\">\n",
       "  <thead>\n",
       "    <tr style=\"text-align: right;\">\n",
       "      <th></th>\n",
       "      <th>Stock</th>\n",
       "      <th>Market Cap (In Rs Cr.)</th>\n",
       "      <th>Current price</th>\n",
       "      <th>PE Ratio</th>\n",
       "      <th>52 Week High</th>\n",
       "      <th>% Below 52 week high</th>\n",
       "      <th>52 Week Low</th>\n",
       "      <th>% Above 52 Week low</th>\n",
       "      <th>Yesterday Closing Price</th>\n",
       "      <th>% Change</th>\n",
       "      <th>Industry</th>\n",
       "      <th>NSE &amp; BSE Code</th>\n",
       "      <th>Bear Mode1</th>\n",
       "      <th>Bear Mode2</th>\n",
       "    </tr>\n",
       "  </thead>\n",
       "  <tbody>\n",
       "  </tbody>\n",
       "</table>\n",
       "</div>"
      ],
      "text/plain": [
       "Empty DataFrame\n",
       "Columns: [Stock, Market Cap (In Rs Cr.), Current price, PE Ratio, 52 Week High, % Below 52 week high, 52 Week Low, % Above 52 Week low, Yesterday Closing Price, % Change, Industry, NSE & BSE Code, Bear Mode1, Bear Mode2]\n",
       "Index: []"
      ]
     },
     "execution_count": 33,
     "metadata": {},
     "output_type": "execute_result"
    }
   ],
   "source": [
    "merge_df[merge_df['Bear Mode1'] == 'yes']"
   ]
  },
  {
   "cell_type": "code",
   "execution_count": 34,
   "id": "06cedc73-2280-4d9b-8f9f-12aa0128175f",
   "metadata": {},
   "outputs": [],
   "source": [
    "def bear_market(bear_mode_attribute):\n",
    "  for i in bear_mode_attribute:\n",
    "    if i > 30:\n",
    "      merge_df['Bear Mode2'] = \"Yes\"\n",
    "    else:\n",
    "      merge_df['Bear Mode2'] = \"No\"\n",
    "bear_market(merge_df['% Change'])\n"
   ]
  },
  {
   "cell_type": "code",
   "execution_count": 35,
   "id": "004378e1-5111-453a-9200-8bd99bd443e7",
   "metadata": {},
   "outputs": [
    {
     "data": {
      "text/plain": [
       "count     210\n",
       "unique      1\n",
       "top        No\n",
       "freq      210\n",
       "Name: Bear Mode2, dtype: object"
      ]
     },
     "execution_count": 35,
     "metadata": {},
     "output_type": "execute_result"
    }
   ],
   "source": [
    "merge_df['Bear Mode2'].describe()"
   ]
  },
  {
   "cell_type": "markdown",
   "id": "817a8ead-682e-4d7b-8277-4d319925661d",
   "metadata": {},
   "source": [
    "Stock Status : Now Create a Column named \"Stock Status\" & then apply multiple IF Conditions to check if PE Ratio <65, Bear Mode 1 & 2 = \"No\" then Print \"Good Stock\" in the column else \"\"."
   ]
  },
  {
   "cell_type": "code",
   "execution_count": 36,
   "id": "7eb5a9c3-366c-4efa-9892-09301266cb58",
   "metadata": {},
   "outputs": [],
   "source": [
    "#first creating a Stock Status column\n",
    "\n",
    "merge_df['Stock Status'] = \" \"\n",
    "for i in range(len(merge_df)):\n",
    "    if merge_df['PE Ratio'][i] <65 and merge_df['Bear Mode1'][i] !='Yes' and merge_df['Bear Mode2'][i] !='Yes' :\n",
    "        merge_df['Stock Status'] = 'Good Stock'\n",
    "    "
   ]
  },
  {
   "cell_type": "code",
   "execution_count": 37,
   "id": "d2aab9b0-759b-4454-8881-46809d08235c",
   "metadata": {},
   "outputs": [
    {
     "data": {
      "text/html": [
       "<div>\n",
       "<style scoped>\n",
       "    .dataframe tbody tr th:only-of-type {\n",
       "        vertical-align: middle;\n",
       "    }\n",
       "\n",
       "    .dataframe tbody tr th {\n",
       "        vertical-align: top;\n",
       "    }\n",
       "\n",
       "    .dataframe thead th {\n",
       "        text-align: right;\n",
       "    }\n",
       "</style>\n",
       "<table border=\"1\" class=\"dataframe\">\n",
       "  <thead>\n",
       "    <tr style=\"text-align: right;\">\n",
       "      <th></th>\n",
       "      <th>Stock</th>\n",
       "      <th>Market Cap (In Rs Cr.)</th>\n",
       "      <th>Current price</th>\n",
       "      <th>PE Ratio</th>\n",
       "      <th>52 Week High</th>\n",
       "      <th>% Below 52 week high</th>\n",
       "      <th>52 Week Low</th>\n",
       "      <th>% Above 52 Week low</th>\n",
       "      <th>Yesterday Closing Price</th>\n",
       "      <th>% Change</th>\n",
       "      <th>Industry</th>\n",
       "      <th>NSE &amp; BSE Code</th>\n",
       "      <th>Bear Mode1</th>\n",
       "      <th>Bear Mode2</th>\n",
       "      <th>Stock Status</th>\n",
       "    </tr>\n",
       "  </thead>\n",
       "  <tbody>\n",
       "    <tr>\n",
       "      <th>0</th>\n",
       "      <td>TCS</td>\n",
       "      <td>1.234545e+06</td>\n",
       "      <td>3374.2</td>\n",
       "      <td>30.43</td>\n",
       "      <td>4045.50</td>\n",
       "      <td>0.165937</td>\n",
       "      <td>2926.00</td>\n",
       "      <td>0.153178</td>\n",
       "      <td>3334.60</td>\n",
       "      <td>0.011875</td>\n",
       "      <td>IT</td>\n",
       "      <td>BOM:532540</td>\n",
       "      <td>No</td>\n",
       "      <td>No</td>\n",
       "      <td>Good Stock</td>\n",
       "    </tr>\n",
       "    <tr>\n",
       "      <th>1</th>\n",
       "      <td>HUL</td>\n",
       "      <td>6.163013e+05</td>\n",
       "      <td>2620.6</td>\n",
       "      <td>63.81</td>\n",
       "      <td>2741.60</td>\n",
       "      <td>0.044135</td>\n",
       "      <td>1901.55</td>\n",
       "      <td>0.378139</td>\n",
       "      <td>2590.05</td>\n",
       "      <td>0.011795</td>\n",
       "      <td>FMCG</td>\n",
       "      <td>HINDUNILVR</td>\n",
       "      <td>No</td>\n",
       "      <td>No</td>\n",
       "      <td>Good Stock</td>\n",
       "    </tr>\n",
       "    <tr>\n",
       "      <th>2</th>\n",
       "      <td>Airtel</td>\n",
       "      <td>4.410274e+05</td>\n",
       "      <td>764.6</td>\n",
       "      <td>65.86</td>\n",
       "      <td>860.55</td>\n",
       "      <td>0.111498</td>\n",
       "      <td>628.75</td>\n",
       "      <td>0.216064</td>\n",
       "      <td>756.90</td>\n",
       "      <td>0.010173</td>\n",
       "      <td>Telecom</td>\n",
       "      <td>BHARTIARTL</td>\n",
       "      <td>No</td>\n",
       "      <td>No</td>\n",
       "      <td>Good Stock</td>\n",
       "    </tr>\n",
       "    <tr>\n",
       "      <th>3</th>\n",
       "      <td>Bajaj Finance</td>\n",
       "      <td>3.611726e+05</td>\n",
       "      <td>5977.0</td>\n",
       "      <td>36.52</td>\n",
       "      <td>8045.00</td>\n",
       "      <td>0.257054</td>\n",
       "      <td>5220.00</td>\n",
       "      <td>0.145019</td>\n",
       "      <td>5898.40</td>\n",
       "      <td>0.013326</td>\n",
       "      <td>NBFC</td>\n",
       "      <td>BAJFINANCE</td>\n",
       "      <td>No</td>\n",
       "      <td>No</td>\n",
       "      <td>Good Stock</td>\n",
       "    </tr>\n",
       "    <tr>\n",
       "      <th>4</th>\n",
       "      <td>Asian Paints</td>\n",
       "      <td>2.789601e+05</td>\n",
       "      <td>2912.0</td>\n",
       "      <td>76.19</td>\n",
       "      <td>3582.90</td>\n",
       "      <td>0.187251</td>\n",
       "      <td>2560.00</td>\n",
       "      <td>0.137500</td>\n",
       "      <td>2915.95</td>\n",
       "      <td>-0.001355</td>\n",
       "      <td>Paint</td>\n",
       "      <td>ASIANPAINT</td>\n",
       "      <td>No</td>\n",
       "      <td>No</td>\n",
       "      <td>Good Stock</td>\n",
       "    </tr>\n",
       "    <tr>\n",
       "      <th>...</th>\n",
       "      <td>...</td>\n",
       "      <td>...</td>\n",
       "      <td>...</td>\n",
       "      <td>...</td>\n",
       "      <td>...</td>\n",
       "      <td>...</td>\n",
       "      <td>...</td>\n",
       "      <td>...</td>\n",
       "      <td>...</td>\n",
       "      <td>...</td>\n",
       "      <td>...</td>\n",
       "      <td>...</td>\n",
       "      <td>...</td>\n",
       "      <td>...</td>\n",
       "      <td>...</td>\n",
       "    </tr>\n",
       "    <tr>\n",
       "      <th>205</th>\n",
       "      <td>Aarti Industries</td>\n",
       "      <td>2.108142e+04</td>\n",
       "      <td>581.8</td>\n",
       "      <td>17.20</td>\n",
       "      <td>1118.00</td>\n",
       "      <td>0.479606</td>\n",
       "      <td>579.00</td>\n",
       "      <td>0.004836</td>\n",
       "      <td>592.40</td>\n",
       "      <td>-0.017893</td>\n",
       "      <td>Chemical</td>\n",
       "      <td>AARTIIND</td>\n",
       "      <td>No</td>\n",
       "      <td>No</td>\n",
       "      <td>Good Stock</td>\n",
       "    </tr>\n",
       "    <tr>\n",
       "      <th>206</th>\n",
       "      <td>Subex</td>\n",
       "      <td>1.992012e+03</td>\n",
       "      <td>36.2</td>\n",
       "      <td>593.93</td>\n",
       "      <td>54.50</td>\n",
       "      <td>0.335780</td>\n",
       "      <td>18.70</td>\n",
       "      <td>0.935829</td>\n",
       "      <td>36.05</td>\n",
       "      <td>0.004161</td>\n",
       "      <td>Technology</td>\n",
       "      <td>BOM:532348</td>\n",
       "      <td>No</td>\n",
       "      <td>No</td>\n",
       "      <td>Good Stock</td>\n",
       "    </tr>\n",
       "    <tr>\n",
       "      <th>207</th>\n",
       "      <td>Crisil</td>\n",
       "      <td>2.216690e+04</td>\n",
       "      <td>3020.0</td>\n",
       "      <td>38.36</td>\n",
       "      <td>3863.55</td>\n",
       "      <td>0.218335</td>\n",
       "      <td>2540.00</td>\n",
       "      <td>0.188976</td>\n",
       "      <td>3044.50</td>\n",
       "      <td>-0.008047</td>\n",
       "      <td>Reserach</td>\n",
       "      <td>CRISIL</td>\n",
       "      <td>No</td>\n",
       "      <td>No</td>\n",
       "      <td>Good Stock</td>\n",
       "    </tr>\n",
       "    <tr>\n",
       "      <th>208</th>\n",
       "      <td>Lux Industries</td>\n",
       "      <td>4.564430e+03</td>\n",
       "      <td>1524.7</td>\n",
       "      <td>17.12</td>\n",
       "      <td>3925.00</td>\n",
       "      <td>0.611541</td>\n",
       "      <td>1515.10</td>\n",
       "      <td>0.006336</td>\n",
       "      <td>1526.65</td>\n",
       "      <td>-0.001277</td>\n",
       "      <td>Textile</td>\n",
       "      <td>BOM:539542</td>\n",
       "      <td>No</td>\n",
       "      <td>No</td>\n",
       "      <td>Good Stock</td>\n",
       "    </tr>\n",
       "    <tr>\n",
       "      <th>209</th>\n",
       "      <td>LIC</td>\n",
       "      <td>4.506868e+05</td>\n",
       "      <td>712.7</td>\n",
       "      <td>23.63</td>\n",
       "      <td>920.00</td>\n",
       "      <td>0.225326</td>\n",
       "      <td>588.00</td>\n",
       "      <td>0.212075</td>\n",
       "      <td>705.55</td>\n",
       "      <td>0.010134</td>\n",
       "      <td>Insurance</td>\n",
       "      <td>BOM:543526</td>\n",
       "      <td>No</td>\n",
       "      <td>No</td>\n",
       "      <td>Good Stock</td>\n",
       "    </tr>\n",
       "  </tbody>\n",
       "</table>\n",
       "<p>210 rows × 15 columns</p>\n",
       "</div>"
      ],
      "text/plain": [
       "                Stock  Market Cap (In Rs Cr.)  Current price  PE Ratio  \\\n",
       "0                 TCS            1.234545e+06         3374.2     30.43   \n",
       "1                 HUL            6.163013e+05         2620.6     63.81   \n",
       "2              Airtel            4.410274e+05          764.6     65.86   \n",
       "3       Bajaj Finance            3.611726e+05         5977.0     36.52   \n",
       "4        Asian Paints            2.789601e+05         2912.0     76.19   \n",
       "..                ...                     ...            ...       ...   \n",
       "205  Aarti Industries            2.108142e+04          581.8     17.20   \n",
       "206             Subex            1.992012e+03           36.2    593.93   \n",
       "207            Crisil            2.216690e+04         3020.0     38.36   \n",
       "208    Lux Industries            4.564430e+03         1524.7     17.12   \n",
       "209               LIC            4.506868e+05          712.7     23.63   \n",
       "\n",
       "     52 Week High  % Below 52 week high  52 Week Low  % Above 52 Week low  \\\n",
       "0         4045.50              0.165937      2926.00             0.153178   \n",
       "1         2741.60              0.044135      1901.55             0.378139   \n",
       "2          860.55              0.111498       628.75             0.216064   \n",
       "3         8045.00              0.257054      5220.00             0.145019   \n",
       "4         3582.90              0.187251      2560.00             0.137500   \n",
       "..            ...                   ...          ...                  ...   \n",
       "205       1118.00              0.479606       579.00             0.004836   \n",
       "206         54.50              0.335780        18.70             0.935829   \n",
       "207       3863.55              0.218335      2540.00             0.188976   \n",
       "208       3925.00              0.611541      1515.10             0.006336   \n",
       "209        920.00              0.225326       588.00             0.212075   \n",
       "\n",
       "     Yesterday Closing Price  % Change    Industry NSE & BSE Code Bear Mode1  \\\n",
       "0                    3334.60  0.011875          IT     BOM:532540         No   \n",
       "1                    2590.05  0.011795        FMCG     HINDUNILVR         No   \n",
       "2                     756.90  0.010173     Telecom     BHARTIARTL         No   \n",
       "3                    5898.40  0.013326        NBFC     BAJFINANCE         No   \n",
       "4                    2915.95 -0.001355       Paint     ASIANPAINT         No   \n",
       "..                       ...       ...         ...            ...        ...   \n",
       "205                   592.40 -0.017893    Chemical       AARTIIND         No   \n",
       "206                    36.05  0.004161  Technology     BOM:532348         No   \n",
       "207                  3044.50 -0.008047    Reserach         CRISIL         No   \n",
       "208                  1526.65 -0.001277     Textile     BOM:539542         No   \n",
       "209                   705.55  0.010134   Insurance     BOM:543526         No   \n",
       "\n",
       "    Bear Mode2 Stock Status  \n",
       "0           No   Good Stock  \n",
       "1           No   Good Stock  \n",
       "2           No   Good Stock  \n",
       "3           No   Good Stock  \n",
       "4           No   Good Stock  \n",
       "..         ...          ...  \n",
       "205         No   Good Stock  \n",
       "206         No   Good Stock  \n",
       "207         No   Good Stock  \n",
       "208         No   Good Stock  \n",
       "209         No   Good Stock  \n",
       "\n",
       "[210 rows x 15 columns]"
      ]
     },
     "execution_count": 37,
     "metadata": {},
     "output_type": "execute_result"
    }
   ],
   "source": [
    "merge_df[merge_df['Stock Status']=='Good Stock']"
   ]
  },
  {
   "cell_type": "code",
   "execution_count": 38,
   "id": "03aaae73-d2ff-41cf-b548-dca113904259",
   "metadata": {},
   "outputs": [],
   "source": [
    "for i in range(len(merge_df)):\n",
    "    if merge_df['PE Ratio'][i] <65 and merge_df['Bear Mode1'][i] =='NO' and merge_df['Bear Mode2'][i] =='No' :\n",
    "        print('yes')"
   ]
  },
  {
   "cell_type": "markdown",
   "id": "69460f97-3c9c-479b-9dbd-54005e0d5ee2",
   "metadata": {},
   "source": [
    "Now find out the Highest value of the Market Cap & then categorize 60% and Above of the Highest Value as Large Cap Stocks, 40-60% as Medium Cap Stocks & 0-40% as Low Cap Stocks in a new Column at last naming it as Cap Size."
   ]
  },
  {
   "cell_type": "code",
   "execution_count": 51,
   "id": "3ba6fbee-8eda-401c-90db-edececf10851",
   "metadata": {},
   "outputs": [
    {
     "name": "stderr",
     "output_type": "stream",
     "text": [
      "C:\\Users\\Asus\\AppData\\Local\\Temp\\ipykernel_19940\\777766736.py:6: SettingWithCopyWarning: \n",
      "A value is trying to be set on a copy of a slice from a DataFrame\n",
      "\n",
      "See the caveats in the documentation: https://pandas.pydata.org/pandas-docs/stable/user_guide/indexing.html#returning-a-view-versus-a-copy\n",
      "  merge_df['cap_size'][i] = \"Large Cap\"\n",
      "C:\\Users\\Asus\\AppData\\Local\\Temp\\ipykernel_19940\\777766736.py:12: SettingWithCopyWarning: \n",
      "A value is trying to be set on a copy of a slice from a DataFrame\n",
      "\n",
      "See the caveats in the documentation: https://pandas.pydata.org/pandas-docs/stable/user_guide/indexing.html#returning-a-view-versus-a-copy\n",
      "  merge_df['cap_size'][i] = \"Small Cap\"\n"
     ]
    }
   ],
   "source": [
    "# Adding the new column in the data as cap_size\n",
    "merge_df['cap_size'] = ' '\n",
    "highest_market_value = max(merge_df['Market Cap (In Rs Cr.)'])\n",
    "for i in range(len(merge_df)):\n",
    "    if merge_df['Market Cap (In Rs Cr.)'][i] >= (0.6 * highest_market_value):\n",
    "        merge_df['cap_size'][i] = \"Large Cap\"\n",
    "        \n",
    "    elif merge_df['Market Cap (In Rs Cr.)'][i] < (0.6 * highest_market_value) and merge_df['Market Cap (In Rs Cr.)'][i] >= (0.4 * highest_market_value):\n",
    "        merge_df['cap_size'][i] = \"Medium Cap\"\n",
    "        \n",
    "    else:\n",
    "        merge_df['cap_size'][i] = \"Small Cap\"\n"
   ]
  },
  {
   "cell_type": "code",
   "execution_count": 53,
   "id": "bad58d7e-32f7-4fda-a4fe-e4b5d80e4431",
   "metadata": {},
   "outputs": [
    {
     "data": {
      "text/html": [
       "<div>\n",
       "<style scoped>\n",
       "    .dataframe tbody tr th:only-of-type {\n",
       "        vertical-align: middle;\n",
       "    }\n",
       "\n",
       "    .dataframe tbody tr th {\n",
       "        vertical-align: top;\n",
       "    }\n",
       "\n",
       "    .dataframe thead th {\n",
       "        text-align: right;\n",
       "    }\n",
       "</style>\n",
       "<table border=\"1\" class=\"dataframe\">\n",
       "  <thead>\n",
       "    <tr style=\"text-align: right;\">\n",
       "      <th></th>\n",
       "      <th>Stock</th>\n",
       "      <th>Market Cap (In Rs Cr.)</th>\n",
       "      <th>Current price</th>\n",
       "      <th>PE Ratio</th>\n",
       "      <th>52 Week High</th>\n",
       "      <th>% Below 52 week high</th>\n",
       "      <th>52 Week Low</th>\n",
       "      <th>% Above 52 Week low</th>\n",
       "      <th>Yesterday Closing Price</th>\n",
       "      <th>% Change</th>\n",
       "      <th>Industry</th>\n",
       "      <th>NSE &amp; BSE Code</th>\n",
       "      <th>Bear Mode1</th>\n",
       "      <th>Bear Mode2</th>\n",
       "      <th>Stock Status</th>\n",
       "      <th>cap_size</th>\n",
       "    </tr>\n",
       "  </thead>\n",
       "  <tbody>\n",
       "    <tr>\n",
       "      <th>0</th>\n",
       "      <td>TCS</td>\n",
       "      <td>1.234545e+06</td>\n",
       "      <td>3374.20</td>\n",
       "      <td>30.430000</td>\n",
       "      <td>4045.50</td>\n",
       "      <td>0.165937</td>\n",
       "      <td>2926.00</td>\n",
       "      <td>0.153178</td>\n",
       "      <td>3334.60</td>\n",
       "      <td>0.011875</td>\n",
       "      <td>IT</td>\n",
       "      <td>BOM:532540</td>\n",
       "      <td>No</td>\n",
       "      <td>No</td>\n",
       "      <td>Good Stock</td>\n",
       "      <td>Large Cap</td>\n",
       "    </tr>\n",
       "    <tr>\n",
       "      <th>1</th>\n",
       "      <td>HUL</td>\n",
       "      <td>6.163013e+05</td>\n",
       "      <td>2620.60</td>\n",
       "      <td>63.810000</td>\n",
       "      <td>2741.60</td>\n",
       "      <td>0.044135</td>\n",
       "      <td>1901.55</td>\n",
       "      <td>0.378139</td>\n",
       "      <td>2590.05</td>\n",
       "      <td>0.011795</td>\n",
       "      <td>FMCG</td>\n",
       "      <td>HINDUNILVR</td>\n",
       "      <td>No</td>\n",
       "      <td>No</td>\n",
       "      <td>Good Stock</td>\n",
       "      <td>Small Cap</td>\n",
       "    </tr>\n",
       "    <tr>\n",
       "      <th>2</th>\n",
       "      <td>Airtel</td>\n",
       "      <td>4.410274e+05</td>\n",
       "      <td>764.60</td>\n",
       "      <td>65.860000</td>\n",
       "      <td>860.55</td>\n",
       "      <td>0.111498</td>\n",
       "      <td>628.75</td>\n",
       "      <td>0.216064</td>\n",
       "      <td>756.90</td>\n",
       "      <td>0.010173</td>\n",
       "      <td>Telecom</td>\n",
       "      <td>BHARTIARTL</td>\n",
       "      <td>No</td>\n",
       "      <td>No</td>\n",
       "      <td>Good Stock</td>\n",
       "      <td>Small Cap</td>\n",
       "    </tr>\n",
       "    <tr>\n",
       "      <th>3</th>\n",
       "      <td>Bajaj Finance</td>\n",
       "      <td>3.611726e+05</td>\n",
       "      <td>5977.00</td>\n",
       "      <td>36.520000</td>\n",
       "      <td>8045.00</td>\n",
       "      <td>0.257054</td>\n",
       "      <td>5220.00</td>\n",
       "      <td>0.145019</td>\n",
       "      <td>5898.40</td>\n",
       "      <td>0.013326</td>\n",
       "      <td>NBFC</td>\n",
       "      <td>BAJFINANCE</td>\n",
       "      <td>No</td>\n",
       "      <td>No</td>\n",
       "      <td>Good Stock</td>\n",
       "      <td>Small Cap</td>\n",
       "    </tr>\n",
       "    <tr>\n",
       "      <th>4</th>\n",
       "      <td>Asian Paints</td>\n",
       "      <td>2.789601e+05</td>\n",
       "      <td>2912.00</td>\n",
       "      <td>76.190000</td>\n",
       "      <td>3582.90</td>\n",
       "      <td>0.187251</td>\n",
       "      <td>2560.00</td>\n",
       "      <td>0.137500</td>\n",
       "      <td>2915.95</td>\n",
       "      <td>-0.001355</td>\n",
       "      <td>Paint</td>\n",
       "      <td>ASIANPAINT</td>\n",
       "      <td>No</td>\n",
       "      <td>No</td>\n",
       "      <td>Good Stock</td>\n",
       "      <td>Small Cap</td>\n",
       "    </tr>\n",
       "    <tr>\n",
       "      <th>5</th>\n",
       "      <td>HCL Tech</td>\n",
       "      <td>2.917701e+05</td>\n",
       "      <td>1077.00</td>\n",
       "      <td>52.091493</td>\n",
       "      <td>1359.40</td>\n",
       "      <td>0.207739</td>\n",
       "      <td>877.35</td>\n",
       "      <td>0.227560</td>\n",
       "      <td>1071.65</td>\n",
       "      <td>0.004992</td>\n",
       "      <td>IT</td>\n",
       "      <td>HCLTECH</td>\n",
       "      <td>No</td>\n",
       "      <td>No</td>\n",
       "      <td>Good Stock</td>\n",
       "      <td>Small Cap</td>\n",
       "    </tr>\n",
       "    <tr>\n",
       "      <th>6</th>\n",
       "      <td>Maruti Suzuki</td>\n",
       "      <td>2.554384e+05</td>\n",
       "      <td>8454.20</td>\n",
       "      <td>42.100000</td>\n",
       "      <td>9769.00</td>\n",
       "      <td>0.134589</td>\n",
       "      <td>6536.55</td>\n",
       "      <td>0.293373</td>\n",
       "      <td>8369.20</td>\n",
       "      <td>0.010156</td>\n",
       "      <td>Automobile</td>\n",
       "      <td>MARUTI</td>\n",
       "      <td>No</td>\n",
       "      <td>No</td>\n",
       "      <td>Good Stock</td>\n",
       "      <td>Small Cap</td>\n",
       "    </tr>\n",
       "    <tr>\n",
       "      <th>7</th>\n",
       "      <td>Avenue Supermart</td>\n",
       "      <td>2.501579e+05</td>\n",
       "      <td>3855.00</td>\n",
       "      <td>109.050000</td>\n",
       "      <td>4609.00</td>\n",
       "      <td>0.163593</td>\n",
       "      <td>3186.00</td>\n",
       "      <td>0.209981</td>\n",
       "      <td>3911.80</td>\n",
       "      <td>-0.014520</td>\n",
       "      <td>Retail</td>\n",
       "      <td>DMART</td>\n",
       "      <td>No</td>\n",
       "      <td>No</td>\n",
       "      <td>Good Stock</td>\n",
       "      <td>Small Cap</td>\n",
       "    </tr>\n",
       "    <tr>\n",
       "      <th>8</th>\n",
       "      <td>L&amp;T</td>\n",
       "      <td>3.026172e+05</td>\n",
       "      <td>2153.75</td>\n",
       "      <td>31.530000</td>\n",
       "      <td>2210.50</td>\n",
       "      <td>0.025673</td>\n",
       "      <td>1456.80</td>\n",
       "      <td>0.478412</td>\n",
       "      <td>2160.20</td>\n",
       "      <td>-0.002986</td>\n",
       "      <td>Infrastructure</td>\n",
       "      <td>BOM:500510</td>\n",
       "      <td>No</td>\n",
       "      <td>No</td>\n",
       "      <td>Good Stock</td>\n",
       "      <td>Small Cap</td>\n",
       "    </tr>\n",
       "    <tr>\n",
       "      <th>9</th>\n",
       "      <td>Bajaj Finserv</td>\n",
       "      <td>2.212925e+05</td>\n",
       "      <td>1391.00</td>\n",
       "      <td>40.480000</td>\n",
       "      <td>3724.20</td>\n",
       "      <td>0.626497</td>\n",
       "      <td>1374.35</td>\n",
       "      <td>0.012115</td>\n",
       "      <td>1387.80</td>\n",
       "      <td>0.002306</td>\n",
       "      <td>Financial Servcies</td>\n",
       "      <td>BAJAJFINSV</td>\n",
       "      <td>No</td>\n",
       "      <td>No</td>\n",
       "      <td>Good Stock</td>\n",
       "      <td>Small Cap</td>\n",
       "    </tr>\n",
       "  </tbody>\n",
       "</table>\n",
       "</div>"
      ],
      "text/plain": [
       "              Stock  Market Cap (In Rs Cr.)  Current price    PE Ratio  \\\n",
       "0               TCS            1.234545e+06        3374.20   30.430000   \n",
       "1               HUL            6.163013e+05        2620.60   63.810000   \n",
       "2            Airtel            4.410274e+05         764.60   65.860000   \n",
       "3     Bajaj Finance            3.611726e+05        5977.00   36.520000   \n",
       "4      Asian Paints            2.789601e+05        2912.00   76.190000   \n",
       "5          HCL Tech            2.917701e+05        1077.00   52.091493   \n",
       "6     Maruti Suzuki            2.554384e+05        8454.20   42.100000   \n",
       "7  Avenue Supermart            2.501579e+05        3855.00  109.050000   \n",
       "8               L&T            3.026172e+05        2153.75   31.530000   \n",
       "9     Bajaj Finserv            2.212925e+05        1391.00   40.480000   \n",
       "\n",
       "   52 Week High  % Below 52 week high  52 Week Low  % Above 52 Week low  \\\n",
       "0       4045.50              0.165937      2926.00             0.153178   \n",
       "1       2741.60              0.044135      1901.55             0.378139   \n",
       "2        860.55              0.111498       628.75             0.216064   \n",
       "3       8045.00              0.257054      5220.00             0.145019   \n",
       "4       3582.90              0.187251      2560.00             0.137500   \n",
       "5       1359.40              0.207739       877.35             0.227560   \n",
       "6       9769.00              0.134589      6536.55             0.293373   \n",
       "7       4609.00              0.163593      3186.00             0.209981   \n",
       "8       2210.50              0.025673      1456.80             0.478412   \n",
       "9       3724.20              0.626497      1374.35             0.012115   \n",
       "\n",
       "   Yesterday Closing Price  % Change            Industry NSE & BSE Code  \\\n",
       "0                  3334.60  0.011875                  IT     BOM:532540   \n",
       "1                  2590.05  0.011795                FMCG     HINDUNILVR   \n",
       "2                   756.90  0.010173             Telecom     BHARTIARTL   \n",
       "3                  5898.40  0.013326                NBFC     BAJFINANCE   \n",
       "4                  2915.95 -0.001355               Paint     ASIANPAINT   \n",
       "5                  1071.65  0.004992                  IT        HCLTECH   \n",
       "6                  8369.20  0.010156          Automobile         MARUTI   \n",
       "7                  3911.80 -0.014520              Retail          DMART   \n",
       "8                  2160.20 -0.002986      Infrastructure     BOM:500510   \n",
       "9                  1387.80  0.002306  Financial Servcies     BAJAJFINSV   \n",
       "\n",
       "  Bear Mode1 Bear Mode2 Stock Status   cap_size  \n",
       "0         No         No   Good Stock  Large Cap  \n",
       "1         No         No   Good Stock  Small Cap  \n",
       "2         No         No   Good Stock  Small Cap  \n",
       "3         No         No   Good Stock  Small Cap  \n",
       "4         No         No   Good Stock  Small Cap  \n",
       "5         No         No   Good Stock  Small Cap  \n",
       "6         No         No   Good Stock  Small Cap  \n",
       "7         No         No   Good Stock  Small Cap  \n",
       "8         No         No   Good Stock  Small Cap  \n",
       "9         No         No   Good Stock  Small Cap  "
      ]
     },
     "execution_count": 53,
     "metadata": {},
     "output_type": "execute_result"
    }
   ],
   "source": [
    "def get_cap_size(merge_df, highest_market_value):\n",
    "  merge_df['cap_size'] = ' '\n",
    "  for i in range(len(merge_df)):\n",
    "    if merge_df['Market Cap (In Rs Cr.)'][i] >= (0.6 * highest_market_value):\n",
    "      merge_df.loc[i, 'cap_size'] = 'Large Cap'\n",
    "    elif merge_df['Market Cap (In Rs Cr.)'][i] < (0.6 * highest_market_value) and merge_df['Market Cap (In Rs Cr.)'][i] >= (0.4 * highest_market_value):\n",
    "      merge_df.loc[i, 'cap_size'] = 'Medium Cap'\n",
    "    else:\n",
    "      merge_df.loc[i, 'cap_size'] = 'Small Cap'\n",
    "  return merge_df\n",
    "\n",
    "highest_market_value = max(merge_df['Market Cap (In Rs Cr.)'])\n",
    "merge_df = get_cap_size(merge_df, highest_market_value)\n",
    "merge_df.head(10)\n"
   ]
  },
  {
   "cell_type": "code",
   "execution_count": 54,
   "id": "f068f36a-39a7-4c98-850e-a8b5baf0cbcb",
   "metadata": {},
   "outputs": [
    {
     "data": {
      "text/html": [
       "<div>\n",
       "<style scoped>\n",
       "    .dataframe tbody tr th:only-of-type {\n",
       "        vertical-align: middle;\n",
       "    }\n",
       "\n",
       "    .dataframe tbody tr th {\n",
       "        vertical-align: top;\n",
       "    }\n",
       "\n",
       "    .dataframe thead th {\n",
       "        text-align: right;\n",
       "    }\n",
       "</style>\n",
       "<table border=\"1\" class=\"dataframe\">\n",
       "  <thead>\n",
       "    <tr style=\"text-align: right;\">\n",
       "      <th></th>\n",
       "      <th>Stock</th>\n",
       "      <th>Market Cap (In Rs Cr.)</th>\n",
       "      <th>Current price</th>\n",
       "      <th>PE Ratio</th>\n",
       "      <th>52 Week High</th>\n",
       "      <th>% Below 52 week high</th>\n",
       "      <th>52 Week Low</th>\n",
       "      <th>% Above 52 Week low</th>\n",
       "      <th>Yesterday Closing Price</th>\n",
       "      <th>% Change</th>\n",
       "      <th>Industry</th>\n",
       "      <th>NSE &amp; BSE Code</th>\n",
       "      <th>Bear Mode1</th>\n",
       "      <th>Bear Mode2</th>\n",
       "      <th>Stock Status</th>\n",
       "      <th>cap_size</th>\n",
       "    </tr>\n",
       "  </thead>\n",
       "  <tbody>\n",
       "    <tr>\n",
       "      <th>0</th>\n",
       "      <td>TCS</td>\n",
       "      <td>1.234545e+06</td>\n",
       "      <td>3374.2</td>\n",
       "      <td>30.43</td>\n",
       "      <td>4045.50</td>\n",
       "      <td>0.165937</td>\n",
       "      <td>2926.0</td>\n",
       "      <td>0.153178</td>\n",
       "      <td>3334.6</td>\n",
       "      <td>0.011875</td>\n",
       "      <td>IT</td>\n",
       "      <td>BOM:532540</td>\n",
       "      <td>No</td>\n",
       "      <td>No</td>\n",
       "      <td>Good Stock</td>\n",
       "      <td>Large Cap</td>\n",
       "    </tr>\n",
       "    <tr>\n",
       "      <th>169</th>\n",
       "      <td>Reliance</td>\n",
       "      <td>1.620922e+06</td>\n",
       "      <td>2467.9</td>\n",
       "      <td>25.09</td>\n",
       "      <td>2856.15</td>\n",
       "      <td>0.135935</td>\n",
       "      <td>2180.0</td>\n",
       "      <td>0.132064</td>\n",
       "      <td>2471.6</td>\n",
       "      <td>-0.001497</td>\n",
       "      <td>Telecom and oil</td>\n",
       "      <td>RELIANCE</td>\n",
       "      <td>No</td>\n",
       "      <td>No</td>\n",
       "      <td>Good Stock</td>\n",
       "      <td>Large Cap</td>\n",
       "    </tr>\n",
       "  </tbody>\n",
       "</table>\n",
       "</div>"
      ],
      "text/plain": [
       "        Stock  Market Cap (In Rs Cr.)  Current price  PE Ratio  52 Week High  \\\n",
       "0         TCS            1.234545e+06         3374.2     30.43       4045.50   \n",
       "169  Reliance            1.620922e+06         2467.9     25.09       2856.15   \n",
       "\n",
       "     % Below 52 week high  52 Week Low  % Above 52 Week low  \\\n",
       "0                0.165937       2926.0             0.153178   \n",
       "169              0.135935       2180.0             0.132064   \n",
       "\n",
       "     Yesterday Closing Price  % Change         Industry NSE & BSE Code  \\\n",
       "0                     3334.6  0.011875               IT     BOM:532540   \n",
       "169                   2471.6 -0.001497  Telecom and oil       RELIANCE   \n",
       "\n",
       "    Bear Mode1 Bear Mode2 Stock Status   cap_size  \n",
       "0           No         No   Good Stock  Large Cap  \n",
       "169         No         No   Good Stock  Large Cap  "
      ]
     },
     "execution_count": 54,
     "metadata": {},
     "output_type": "execute_result"
    }
   ],
   "source": [
    "#showing only large cap\n",
    "merge_df[merge_df['cap_size']=='Large Cap']\n"
   ]
  },
  {
   "cell_type": "code",
   "execution_count": 55,
   "id": "1ff5d181-9c3e-4b9d-9849-32967c0db7ae",
   "metadata": {},
   "outputs": [
    {
     "data": {
      "text/html": [
       "<div>\n",
       "<style scoped>\n",
       "    .dataframe tbody tr th:only-of-type {\n",
       "        vertical-align: middle;\n",
       "    }\n",
       "\n",
       "    .dataframe tbody tr th {\n",
       "        vertical-align: top;\n",
       "    }\n",
       "\n",
       "    .dataframe thead th {\n",
       "        text-align: right;\n",
       "    }\n",
       "</style>\n",
       "<table border=\"1\" class=\"dataframe\">\n",
       "  <thead>\n",
       "    <tr style=\"text-align: right;\">\n",
       "      <th></th>\n",
       "      <th>Stock</th>\n",
       "      <th>Market Cap (In Rs Cr.)</th>\n",
       "      <th>Current price</th>\n",
       "      <th>PE Ratio</th>\n",
       "      <th>52 Week High</th>\n",
       "      <th>% Below 52 week high</th>\n",
       "      <th>52 Week Low</th>\n",
       "      <th>% Above 52 Week low</th>\n",
       "      <th>Yesterday Closing Price</th>\n",
       "      <th>% Change</th>\n",
       "      <th>Industry</th>\n",
       "      <th>NSE &amp; BSE Code</th>\n",
       "      <th>Bear Mode1</th>\n",
       "      <th>Bear Mode2</th>\n",
       "      <th>Stock Status</th>\n",
       "      <th>cap_size</th>\n",
       "    </tr>\n",
       "  </thead>\n",
       "  <tbody>\n",
       "  </tbody>\n",
       "</table>\n",
       "</div>"
      ],
      "text/plain": [
       "Empty DataFrame\n",
       "Columns: [Stock, Market Cap (In Rs Cr.), Current price, PE Ratio, 52 Week High, % Below 52 week high, 52 Week Low, % Above 52 Week low, Yesterday Closing Price, % Change, Industry, NSE & BSE Code, Bear Mode1, Bear Mode2, Stock Status, cap_size]\n",
       "Index: []"
      ]
     },
     "execution_count": 55,
     "metadata": {},
     "output_type": "execute_result"
    }
   ],
   "source": [
    "merge_df[(merge_df.cap_size)=='Medium Cap' ]"
   ]
  },
  {
   "cell_type": "code",
   "execution_count": 56,
   "id": "3408ca1c-faf8-480c-b614-e46c56b3abea",
   "metadata": {},
   "outputs": [
    {
     "data": {
      "text/plain": [
       "972553.46346006"
      ]
     },
     "execution_count": 56,
     "metadata": {},
     "output_type": "execute_result"
    }
   ],
   "source": [
    "0.6 * highest_market_value"
   ]
  },
  {
   "cell_type": "code",
   "execution_count": 57,
   "id": "f1ce3842-d1e8-46f9-b673-c42f15d565ef",
   "metadata": {},
   "outputs": [
    {
     "data": {
      "text/html": [
       "<div>\n",
       "<style scoped>\n",
       "    .dataframe tbody tr th:only-of-type {\n",
       "        vertical-align: middle;\n",
       "    }\n",
       "\n",
       "    .dataframe tbody tr th {\n",
       "        vertical-align: top;\n",
       "    }\n",
       "\n",
       "    .dataframe thead th {\n",
       "        text-align: right;\n",
       "    }\n",
       "</style>\n",
       "<table border=\"1\" class=\"dataframe\">\n",
       "  <thead>\n",
       "    <tr style=\"text-align: right;\">\n",
       "      <th></th>\n",
       "      <th>Stock</th>\n",
       "      <th>Market Cap (In Rs Cr.)</th>\n",
       "      <th>Current price</th>\n",
       "      <th>PE Ratio</th>\n",
       "      <th>52 Week High</th>\n",
       "      <th>% Below 52 week high</th>\n",
       "      <th>52 Week Low</th>\n",
       "      <th>% Above 52 Week low</th>\n",
       "      <th>Yesterday Closing Price</th>\n",
       "      <th>% Change</th>\n",
       "      <th>Industry</th>\n",
       "      <th>NSE &amp; BSE Code</th>\n",
       "      <th>Bear Mode1</th>\n",
       "      <th>Bear Mode2</th>\n",
       "      <th>Stock Status</th>\n",
       "      <th>cap_size</th>\n",
       "    </tr>\n",
       "  </thead>\n",
       "  <tbody>\n",
       "    <tr>\n",
       "      <th>0</th>\n",
       "      <td>TCS</td>\n",
       "      <td>1.234545e+06</td>\n",
       "      <td>3374.2</td>\n",
       "      <td>30.43</td>\n",
       "      <td>4045.50</td>\n",
       "      <td>0.165937</td>\n",
       "      <td>2926.0</td>\n",
       "      <td>0.153178</td>\n",
       "      <td>3334.6</td>\n",
       "      <td>0.011875</td>\n",
       "      <td>IT</td>\n",
       "      <td>BOM:532540</td>\n",
       "      <td>No</td>\n",
       "      <td>No</td>\n",
       "      <td>Good Stock</td>\n",
       "      <td>Large Cap</td>\n",
       "    </tr>\n",
       "    <tr>\n",
       "      <th>169</th>\n",
       "      <td>Reliance</td>\n",
       "      <td>1.620922e+06</td>\n",
       "      <td>2467.9</td>\n",
       "      <td>25.09</td>\n",
       "      <td>2856.15</td>\n",
       "      <td>0.135935</td>\n",
       "      <td>2180.0</td>\n",
       "      <td>0.132064</td>\n",
       "      <td>2471.6</td>\n",
       "      <td>-0.001497</td>\n",
       "      <td>Telecom and oil</td>\n",
       "      <td>RELIANCE</td>\n",
       "      <td>No</td>\n",
       "      <td>No</td>\n",
       "      <td>Good Stock</td>\n",
       "      <td>Large Cap</td>\n",
       "    </tr>\n",
       "  </tbody>\n",
       "</table>\n",
       "</div>"
      ],
      "text/plain": [
       "        Stock  Market Cap (In Rs Cr.)  Current price  PE Ratio  52 Week High  \\\n",
       "0         TCS            1.234545e+06         3374.2     30.43       4045.50   \n",
       "169  Reliance            1.620922e+06         2467.9     25.09       2856.15   \n",
       "\n",
       "     % Below 52 week high  52 Week Low  % Above 52 Week low  \\\n",
       "0                0.165937       2926.0             0.153178   \n",
       "169              0.135935       2180.0             0.132064   \n",
       "\n",
       "     Yesterday Closing Price  % Change         Industry NSE & BSE Code  \\\n",
       "0                     3334.6  0.011875               IT     BOM:532540   \n",
       "169                   2471.6 -0.001497  Telecom and oil       RELIANCE   \n",
       "\n",
       "    Bear Mode1 Bear Mode2 Stock Status   cap_size  \n",
       "0           No         No   Good Stock  Large Cap  \n",
       "169         No         No   Good Stock  Large Cap  "
      ]
     },
     "execution_count": 57,
     "metadata": {},
     "output_type": "execute_result"
    }
   ],
   "source": [
    "merge_df[merge_df['Market Cap (In Rs Cr.)'] > 972553]"
   ]
  },
  {
   "cell_type": "code",
   "execution_count": 58,
   "id": "578e3539-88c7-4d26-bf8d-a58cb764b84c",
   "metadata": {},
   "outputs": [],
   "source": [
    "Processed_data = merge_df[merge_df['Stock Status']=='Good Stock']"
   ]
  },
  {
   "cell_type": "code",
   "execution_count": 59,
   "id": "3fd5a219-6e30-493d-9df3-c6102f65b72a",
   "metadata": {},
   "outputs": [
    {
     "name": "stdout",
     "output_type": "stream",
     "text": [
      "<class 'pandas.core.frame.DataFrame'>\n",
      "Int64Index: 210 entries, 0 to 209\n",
      "Data columns (total 16 columns):\n",
      " #   Column                   Non-Null Count  Dtype  \n",
      "---  ------                   --------------  -----  \n",
      " 0   Stock                    210 non-null    object \n",
      " 1   Market Cap (In Rs Cr.)   210 non-null    float64\n",
      " 2   Current price            210 non-null    float64\n",
      " 3   PE Ratio                 210 non-null    float64\n",
      " 4   52 Week High             210 non-null    float64\n",
      " 5   % Below 52 week high     210 non-null    float64\n",
      " 6   52 Week Low              210 non-null    float64\n",
      " 7   % Above 52 Week low      210 non-null    float64\n",
      " 8   Yesterday Closing Price  210 non-null    float64\n",
      " 9   % Change                 210 non-null    float64\n",
      " 10  Industry                 210 non-null    object \n",
      " 11  NSE & BSE Code           210 non-null    object \n",
      " 12  Bear Mode1               210 non-null    object \n",
      " 13  Bear Mode2               210 non-null    object \n",
      " 14  Stock Status             210 non-null    object \n",
      " 15  cap_size                 210 non-null    object \n",
      "dtypes: float64(9), object(7)\n",
      "memory usage: 27.9+ KB\n"
     ]
    }
   ],
   "source": [
    "Processed_data.info()"
   ]
  },
  {
   "cell_type": "code",
   "execution_count": null,
   "id": "c8fce4a4-601d-49e1-92d4-5dc984c9c404",
   "metadata": {},
   "outputs": [],
   "source": [
    "''' General Information:\n",
    "\n",
    "What is the total number of stocks in the dataset?\n",
    "What is the range of market capitalization (in Rs Cr.) for the stocks?\n",
    "What is the distribution of the PE ratio across the stocks?\n",
    "What is the average current price of the stocks?\n",
    "How many stocks have a price above their 52-week high? '''\n"
   ]
  },
  {
   "cell_type": "code",
   "execution_count": 73,
   "id": "98bf6fde-fceb-4a3f-925b-0d90ee6186a3",
   "metadata": {},
   "outputs": [
    {
     "name": "stdout",
     "output_type": "stream",
     "text": [
      "the total number of stocks= 210\n"
     ]
    }
   ],
   "source": [
    "print(\"the total number of stocks=\",len(merge_df['Stock'].unique())) "
   ]
  },
  {
   "cell_type": "code",
   "execution_count": 89,
   "id": "1f8d073e-0913-47f3-b60b-e7ccbe17174f",
   "metadata": {},
   "outputs": [
    {
     "name": "stdout",
     "output_type": "stream",
     "text": [
      "the range of market capitalisation varies from 404.8024737 to 1620922.4391001\n"
     ]
    }
   ],
   "source": [
    "print(\"the range of market capitalisation varies from {} to {}\".format(np.min(merge_df['Market Cap (In Rs Cr.)']) , np.max(merge_df['Market Cap (In Rs Cr.)'])))"
   ]
  },
  {
   "cell_type": "code",
   "execution_count": 113,
   "id": "db0abe20-c5b9-4657-96d7-22e925c87f10",
   "metadata": {},
   "outputs": [
    {
     "data": {
      "image/png": "[encoded data removed]",
      "text/plain": [
       "<Figure size 800x600 with 1 Axes>"
      ]
     },
     "metadata": {},
     "output_type": "display_data"
    }
   ],
   "source": [
    "import matplotlib.pyplot as plt\n",
    "\n",
    "min_market_cap = merge_df['Market Cap (In Rs Cr.)'].min()\n",
    "max_market_cap = merge_df['Market Cap (In Rs Cr.)'].max()\n",
    "\n",
    "# Create the bar plot with customizations\n",
    "plt.figure(figsize=(8, 6))\n",
    "plt.bar(['Min', 'Max'], [min_market_cap, max_market_cap], color=['#FF9800', '#FF5722'])\n",
    "\n",
    "# Add value labels above each bar\n",
    "for i, v in enumerate([round(min_market_cap), round(max_market_cap)]):\n",
    "    plt.text(i, v + 0.1 * v, str(v), ha='center', va='bottom', fontweight='bold')\n",
    "\n",
    "# Set y-axis scale to logarithmic\n",
    "plt.yscale('log')\n",
    "\n",
    "# Set labels and title with custom font styles\n",
    "plt.xlabel('Range', fontsize=12, fontweight='bold')\n",
    "plt.ylabel('Market Cap (In Rs Cr.)', fontsize=12, fontweight='bold')\n",
    "plt.title('Range of Market Capitalization', fontsize=14, fontweight='bold')\n",
    "\n",
    "# Customize gridlines\n",
    "plt.grid(axis='y', linestyle='--', alpha=0.5)\n",
    "\n",
    "# Adjust the plot layout\n",
    "plt.tight_layout()\n",
    "\n",
    "# Display the plot\n",
    "plt.show()\n"
   ]
  },
  {
   "cell_type": "code",
   "execution_count": 122,
   "id": "024580da-c821-4fb3-96bf-5ac47d9f685a",
   "metadata": {},
   "outputs": [
    {
     "data": {
      "image/png": "[encoded data removed]",
      "text/plain": [
       "<Figure size 1000x600 with 1 Axes>"
      ]
     },
     "metadata": {},
     "output_type": "display_data"
    }
   ],
   "source": [
    "plt.hist(merge_df['PE Ratio'])\n",
    "plt.show()"
   ]
  },
  {
   "cell_type": "code",
   "execution_count": 119,
   "id": "9f3735fb-aaa4-4f5f-ad75-953ae10eed2d",
   "metadata": {},
   "outputs": [
    {
     "data": {
      "text/html": [
       "<div>\n",
       "<style scoped>\n",
       "    .dataframe tbody tr th:only-of-type {\n",
       "        vertical-align: middle;\n",
       "    }\n",
       "\n",
       "    .dataframe tbody tr th {\n",
       "        vertical-align: top;\n",
       "    }\n",
       "\n",
       "    .dataframe thead th {\n",
       "        text-align: right;\n",
       "    }\n",
       "</style>\n",
       "<table border=\"1\" class=\"dataframe\">\n",
       "  <thead>\n",
       "    <tr style=\"text-align: right;\">\n",
       "      <th></th>\n",
       "      <th>Stock</th>\n",
       "      <th>Market Cap (In Rs Cr.)</th>\n",
       "      <th>Current price</th>\n",
       "      <th>PE Ratio</th>\n",
       "      <th>52 Week High</th>\n",
       "      <th>% Below 52 week high</th>\n",
       "      <th>52 Week Low</th>\n",
       "      <th>% Above 52 Week low</th>\n",
       "      <th>Yesterday Closing Price</th>\n",
       "      <th>% Change</th>\n",
       "      <th>Industry</th>\n",
       "      <th>NSE &amp; BSE Code</th>\n",
       "      <th>Bear Mode1</th>\n",
       "      <th>Bear Mode2</th>\n",
       "      <th>Stock Status</th>\n",
       "      <th>cap_size</th>\n",
       "    </tr>\n",
       "  </thead>\n",
       "  <tbody>\n",
       "    <tr>\n",
       "      <th>0</th>\n",
       "      <td>TCS</td>\n",
       "      <td>1.234545e+06</td>\n",
       "      <td>3374.2</td>\n",
       "      <td>30.43</td>\n",
       "      <td>4045.50</td>\n",
       "      <td>0.165937</td>\n",
       "      <td>2926.00</td>\n",
       "      <td>0.153178</td>\n",
       "      <td>3334.60</td>\n",
       "      <td>0.011875</td>\n",
       "      <td>IT</td>\n",
       "      <td>BOM:532540</td>\n",
       "      <td>No</td>\n",
       "      <td>No</td>\n",
       "      <td>Good Stock</td>\n",
       "      <td>Large Cap</td>\n",
       "    </tr>\n",
       "    <tr>\n",
       "      <th>1</th>\n",
       "      <td>HUL</td>\n",
       "      <td>6.163013e+05</td>\n",
       "      <td>2620.6</td>\n",
       "      <td>63.81</td>\n",
       "      <td>2741.60</td>\n",
       "      <td>0.044135</td>\n",
       "      <td>1901.55</td>\n",
       "      <td>0.378139</td>\n",
       "      <td>2590.05</td>\n",
       "      <td>0.011795</td>\n",
       "      <td>FMCG</td>\n",
       "      <td>HINDUNILVR</td>\n",
       "      <td>No</td>\n",
       "      <td>No</td>\n",
       "      <td>Good Stock</td>\n",
       "      <td>Small Cap</td>\n",
       "    </tr>\n",
       "    <tr>\n",
       "      <th>2</th>\n",
       "      <td>Airtel</td>\n",
       "      <td>4.410274e+05</td>\n",
       "      <td>764.6</td>\n",
       "      <td>65.86</td>\n",
       "      <td>860.55</td>\n",
       "      <td>0.111498</td>\n",
       "      <td>628.75</td>\n",
       "      <td>0.216064</td>\n",
       "      <td>756.90</td>\n",
       "      <td>0.010173</td>\n",
       "      <td>Telecom</td>\n",
       "      <td>BHARTIARTL</td>\n",
       "      <td>No</td>\n",
       "      <td>No</td>\n",
       "      <td>Good Stock</td>\n",
       "      <td>Small Cap</td>\n",
       "    </tr>\n",
       "    <tr>\n",
       "      <th>3</th>\n",
       "      <td>Bajaj Finance</td>\n",
       "      <td>3.611726e+05</td>\n",
       "      <td>5977.0</td>\n",
       "      <td>36.52</td>\n",
       "      <td>8045.00</td>\n",
       "      <td>0.257054</td>\n",
       "      <td>5220.00</td>\n",
       "      <td>0.145019</td>\n",
       "      <td>5898.40</td>\n",
       "      <td>0.013326</td>\n",
       "      <td>NBFC</td>\n",
       "      <td>BAJFINANCE</td>\n",
       "      <td>No</td>\n",
       "      <td>No</td>\n",
       "      <td>Good Stock</td>\n",
       "      <td>Small Cap</td>\n",
       "    </tr>\n",
       "    <tr>\n",
       "      <th>4</th>\n",
       "      <td>Asian Paints</td>\n",
       "      <td>2.789601e+05</td>\n",
       "      <td>2912.0</td>\n",
       "      <td>76.19</td>\n",
       "      <td>3582.90</td>\n",
       "      <td>0.187251</td>\n",
       "      <td>2560.00</td>\n",
       "      <td>0.137500</td>\n",
       "      <td>2915.95</td>\n",
       "      <td>-0.001355</td>\n",
       "      <td>Paint</td>\n",
       "      <td>ASIANPAINT</td>\n",
       "      <td>No</td>\n",
       "      <td>No</td>\n",
       "      <td>Good Stock</td>\n",
       "      <td>Small Cap</td>\n",
       "    </tr>\n",
       "  </tbody>\n",
       "</table>\n",
       "</div>"
      ],
      "text/plain": [
       "           Stock  Market Cap (In Rs Cr.)  Current price  PE Ratio  \\\n",
       "0            TCS            1.234545e+06         3374.2     30.43   \n",
       "1            HUL            6.163013e+05         2620.6     63.81   \n",
       "2         Airtel            4.410274e+05          764.6     65.86   \n",
       "3  Bajaj Finance            3.611726e+05         5977.0     36.52   \n",
       "4   Asian Paints            2.789601e+05         2912.0     76.19   \n",
       "\n",
       "   52 Week High  % Below 52 week high  52 Week Low  % Above 52 Week low  \\\n",
       "0       4045.50              0.165937      2926.00             0.153178   \n",
       "1       2741.60              0.044135      1901.55             0.378139   \n",
       "2        860.55              0.111498       628.75             0.216064   \n",
       "3       8045.00              0.257054      5220.00             0.145019   \n",
       "4       3582.90              0.187251      2560.00             0.137500   \n",
       "\n",
       "   Yesterday Closing Price  % Change Industry NSE & BSE Code Bear Mode1  \\\n",
       "0                  3334.60  0.011875       IT     BOM:532540         No   \n",
       "1                  2590.05  0.011795     FMCG     HINDUNILVR         No   \n",
       "2                   756.90  0.010173  Telecom     BHARTIARTL         No   \n",
       "3                  5898.40  0.013326     NBFC     BAJFINANCE         No   \n",
       "4                  2915.95 -0.001355    Paint     ASIANPAINT         No   \n",
       "\n",
       "  Bear Mode2 Stock Status   cap_size  \n",
       "0         No   Good Stock  Large Cap  \n",
       "1         No   Good Stock  Small Cap  \n",
       "2         No   Good Stock  Small Cap  \n",
       "3         No   Good Stock  Small Cap  \n",
       "4         No   Good Stock  Small Cap  "
      ]
     },
     "execution_count": 119,
     "metadata": {},
     "output_type": "execute_result"
    }
   ],
   "source": [
    "merge_df.head()"
   ]
  },
  {
   "cell_type": "code",
   "execution_count": 125,
   "id": "4ba9e8c2-1158-4a8e-aa00-7db183041e06",
   "metadata": {},
   "outputs": [
    {
     "data": {
      "text/plain": [
       "78.47791641113659"
      ]
     },
     "execution_count": 125,
     "metadata": {},
     "output_type": "execute_result"
    }
   ],
   "source": [
    "np.std(merge_df['PE Ratio'])"
   ]
  },
  {
   "cell_type": "code",
   "execution_count": 170,
   "id": "489cf2a3-b34f-4664-86bc-be1736fdc09b",
   "metadata": {},
   "outputs": [
    {
     "data": {
      "application/vnd.plotly.v1+json": {
       "config": {
        "plotlyServerURL": "https://plot.ly"
       },
       "data": [
        {
         "hovertemplate": "Stock=%{x}<br>PE Ratio=%{y}<extra></extra>",
         "legendgroup": "",
         "marker": {
          "color": "red",
          "size": 3,
          "symbol": "circle"
         },
         "mode": "markers",
         "name": "",
         "orientation": "v",
         "showlegend": false,
         "type": "scatter",
         "x": [
          "TCS",
          "HUL",
          "Airtel",
          "Bajaj Finance",
          "Asian Paints",
          "HCL Tech",
          "Maruti Suzuki",
          "Avenue Supermart",
          "L&T",
          "Bajaj Finserv",
          "Nestle",
          "Ultratech Cement",
          "M&M",
          "Bajaj Auto",
          "Pidilite Industries",
          "SBI life Insurance",
          "Tata Steel",
          "Divi's Lab",
          "Tech Mahindra",
          "Dabur",
          "Britannia",
          "Eicher Motor",
          "Cipla",
          "Ambuja Cement",
          "SBI Cards",
          "L&T Infotech",
          "Havells India",
          "Nykaa",
          "Tata Consumer Product",
          "Tata Power",
          "Marico",
          "Berger Paint",
          "Motherson Sumi",
          "Hero Motocorp",
          "Zomato",
          "Infoedge",
          "Tata Elxsi",
          "UPL",
          "IRCTC",
          "Bandhan Bank",
          "Page Industries",
          "P&G Health",
          "Mphasis",
          "Paytm",
          "Balkrishna Industries",
          "Ashok Leyland",
          "Muthoot Finance",
          "United Breweries",
          "HDFC AMC",
          "PI industries",
          "TVS",
          "Trent",
          "sona comstar",
          "Astral Poly Technic",
          "Polycab",
          "Aurobindo Pharma",
          "Honeywell Auto",
          "MRF",
          "Gujarat Florochemical",
          "Gujarat Gas",
          "Max Financials",
          "Coromandel International",
          "PB Fintech",
          "Indraprastha Gas",
          "Lauras Lab",
          "Deepak Nitrite",
          "Relaxo Footwear",
          "Persistent System",
          "3M India",
          "IPCA Lab",
          "Bata India",
          "Coforge",
          "APL Apollo",
          "Crompton Greves",
          "Supreme Industries",
          "Bayer Cropscience",
          "Sumitomo Chemicals",
          "Dixon Technologies",
          "Tata Chemical",
          "Vinita Organics",
          "Whirlpool",
          "IDFC First",
          "Endurance Technology",
          "Pfizer",
          "Trident",
          "Navin Flourine",
          "LIC Housing Finance",
          "Dr Lal Path Lab",
          "IEX",
          "clean science",
          "Fine Organics",
          "Alembic Pharma",
          "Affle India",
          "Tanla Platform",
          "KPIT",
          "Sheela Form",
          "Indiamart Intermesh",
          "Happiest Mind",
          "CDSL",
          "Exide Battery",
          "Century Plyboard",
          "TTK Prestige",
          "CAMS",
          "Radico Khaitan",
          "KEI Industries",
          "Galaxy Surfactant",
          "Birlasoft",
          "Balaji Amine",
          "Mediplus",
          "Finolex Industries",
          "Borosil Renewable",
          "UTI AMC",
          "Amara Raja Batter",
          "Route Mobile",
          "Laxmi Orgamic",
          "HFCL",
          "Mahangar Gas",
          "Mannapuran Finance",
          "Amber Enterprise",
          "Poly Medicure Ltd",
          "Polyplex Corporation",
          "Sonata Software",
          "Astrazeneca",
          "Latent View",
          "Praj Industries",
          "ICICI Bank",
          "Granules India",
          "TCI Express",
          "Zensar Tech",
          "Mastek",
          "Garware technical",
          "GMM Pfaudler",
          "Sterlite technology",
          "Orient Electric",
          "Avanti Feed",
          "Cera Sanitaryware",
          "craftsman automation",
          "Bharat Rasayan",
          "Heidelberg Cement",
          "Astec Lifesciences",
          "Aarti Drugs",
          "Data Pattern",
          "Thyrocare",
          "Neogen Chemcial",
          "Dhanuka Agritech",
          "Advance Enzymes",
          "Wipro",
          "Newgen",
          "Sequent Science",
          "Tasty Bite Eatable",
          "Heranba",
          "Paras Defense",
          "Somany home innovation ltd",
          "Tata Motor",
          "Apollo pipes",
          "Garware hi-tech",
          "Chemcom Speciality",
          "Nureca",
          "Dr Reddy",
          "HDFC Bank",
          "Finolex Cable",
          "Nippon AMC",
          "Abbott India",
          "Axis Bank",
          "Bank of Baroda",
          "SBI Bank",
          "Federal Bank",
          "Shree Cement",
          "Infosys",
          "Reliance",
          "Acrysil Ltd",
          "HDFC life Insurance",
          "J K Cement",
          "ICICI Pru life insurance",
          "Titan",
          "Goldiam International",
          "United Spirits",
          "Rossari Biotech",
          "Kansai Nerolac",
          "Voltas",
          "L&T Technology",
          "Yesbank",
          "Gland Pharma",
          "Hawkins Cooker",
          "MTAR",
          "Vaibhav Global",
          "Atul Ltd",
          "MapmyIndia",
          "Sun pharma",
          "Caplin Point",
          "Cyient",
          "Varun Beverage",
          "Prince Pipe",
          "Jubilant FoodWorks",
          "Alkyl Amine",
          "HDFC",
          "AU Small Finance",
          "Hindustan Food",
          "Solar Industries",
          "Kotak Bank",
          "stove kraft",
          "Godrej Consumer",
          "Solara Active",
          "Kajaria Ceramic",
          "Metropolis Healthcare",
          "Aarti Industries",
          "Subex",
          "Crisil",
          "Lux Industries",
          "LIC"
         ],
         "xaxis": "x",
         "y": [
          30.43,
          63.81,
          65.86,
          36.52,
          76.19,
          52.09149253731343,
          42.1,
          109.05,
          31.53,
          40.48,
          88.1,
          31.35,
          16.12,
          17.79,
          98.38,
          78.07,
          5.13,
          29.74,
          16.8,
          55.79,
          65.9,
          37.12,
          33.64,
          57.36,
          35.28,
          34.73,
          67.24,
          918.2,
          65.04,
          25.89,
          52.21,
          57.95,
          67.22,
          21.06,
          52.09149253731343,
          8.76,
          57.85,
          13.58,
          57.32,
          9.94,
          61.16,
          87.99,
          24.59,
          52.09149253731343,
          30.72,
          227.06,
          11.41,
          78.07,
          33.2,
          48.33,
          39.03,
          117.93,
          69.24,
          96.08,
          35.5,
          12.08,
          91.84,
          66.97,
          28.23,
          22.9,
          88.04,
          13.43,
          52.09149253731343,
          17.03,
          22.19,
          28.86,
          114.44,
          37.59,
          68.24,
          42.96,
          65.53,
          32.39,
          54.9,
          36.77,
          36.12,
          29.86,
          48.9,
          93.72,
          12.65,
          51.19,
          70.52,
          52.09149253731343,
          42.23,
          31.52,
          30.44,
          73.24,
          6.85,
          72.77,
          41.14,
          61.9,
          32.19,
          42.84,
          55.83,
          19.49,
          59.82,
          57.79,
          56.62,
          59.08,
          37.61,
          3.39,
          31.54,
          35.54,
          38.87,
          52.09149253731343,
          30.59,
          25.47,
          52.09149253731343,
          20.06,
          188.97,
          15.85,
          39.43,
          21.59,
          17.05,
          32.12,
          36.41,
          36.15,
          15.67,
          8.7,
          49.07,
          61.12,
          7.36,
          19.25,
          95.35,
          49.25,
          35.19,
          20.88,
          16.36,
          49.5,
          13.73,
          17.12,
          37.14,
          53.87,
          52.09149253731343,
          53.9,
          21.44,
          37,
          35.75,
          23.12,
          23.18,
          33.56,
          22.17,
          59.65,
          35.81,
          68.51,
          15.26,
          32.26,
          19.15,
          17.49,
          302.86,
          139.72,
          10.9,
          67.14,
          33.36,
          52.09149253731343,
          64.75,
          52.09149253731343,
          15.51,
          52.09149253731343,
          23.13,
          21.39,
          15.6,
          23.69,
          53.6,
          15.67,
          9.72,
          13,
          11.78,
          54.11,
          27.61,
          25.09,
          52.09149253731343,
          85.12,
          36.07,
          78.92,
          68.59,
          17.83,
          46.19,
          39.87,
          52.87,
          70.1,
          34.13,
          45.52,
          23.28,
          34.69,
          70.16,
          35.85,
          37.5,
          65.24,
          60.4,
          52.09149253731343,
          19.98,
          51.22,
          44.19,
          69.25,
          61.31,
          19.81,
          31.44,
          114.36,
          63.66,
          25.87,
          30.76,
          58.81,
          52.09149253731343,
          46.87,
          45.85,
          17.2,
          593.93,
          38.36,
          17.12,
          23.63
         ],
         "yaxis": "y"
        }
       ],
       "layout": {
        "autosize": true,
        "hovermode": "closest",
        "legend": {
         "tracegroupgap": 0
        },
        "plot_bgcolor": "beige",
        "template": {
         "data": {
          "bar": [
           {
            "error_x": {
             "color": "#2a3f5f"
            },
            "error_y": {
             "color": "#2a3f5f"
            },
            "marker": {
             "line": {
              "color": "#E5ECF6",
              "width": 0.5
             },
             "pattern": {
              "fillmode": "overlay",
              "size": 10,
              "solidity": 0.2
             }
            },
            "type": "bar"
           }
          ],
          "barpolar": [
           {
            "marker": {
             "line": {
              "color": "#E5ECF6",
              "width": 0.5
             },
             "pattern": {
              "fillmode": "overlay",
              "size": 10,
              "solidity": 0.2
             }
            },
            "type": "barpolar"
           }
          ],
          "carpet": [
           {
            "aaxis": {
             "endlinecolor": "#2a3f5f",
             "gridcolor": "white",
             "linecolor": "white",
             "minorgridcolor": "white",
             "startlinecolor": "#2a3f5f"
            },
            "baxis": {
             "endlinecolor": "#2a3f5f",
             "gridcolor": "white",
             "linecolor": "white",
             "minorgridcolor": "white",
             "startlinecolor": "#2a3f5f"
            },
            "type": "carpet"
           }
          ],
          "choropleth": [
           {
            "colorbar": {
             "outlinewidth": 0,
             "ticks": ""
            },
            "type": "choropleth"
           }
          ],
          "contour": [
           {
            "colorbar": {
             "outlinewidth": 0,
             "ticks": ""
            },
            "colorscale": [
             [
              0,
              "#0d0887"
             ],
             [
              0.1111111111111111,
              "#46039f"
             ],
             [
              0.2222222222222222,
              "#7201a8"
             ],
             [
              0.3333333333333333,
              "#9c179e"
             ],
             [
              0.4444444444444444,
              "#bd3786"
             ],
             [
              0.5555555555555556,
              "#d8576b"
             ],
             [
              0.6666666666666666,
              "#ed7953"
             ],
             [
              0.7777777777777778,
              "#fb9f3a"
             ],
             [
              0.8888888888888888,
              "#fdca26"
             ],
             [
              1,
              "#f0f921"
             ]
            ],
            "type": "contour"
           }
          ],
          "contourcarpet": [
           {
            "colorbar": {
             "outlinewidth": 0,
             "ticks": ""
            },
            "type": "contourcarpet"
           }
          ],
          "heatmap": [
           {
            "colorbar": {
             "outlinewidth": 0,
             "ticks": ""
            },
            "colorscale": [
             [
              0,
              "#0d0887"
             ],
             [
              0.1111111111111111,
              "#46039f"
             ],
             [
              0.2222222222222222,
              "#7201a8"
             ],
             [
              0.3333333333333333,
              "#9c179e"
             ],
             [
              0.4444444444444444,
              "#bd3786"
             ],
             [
              0.5555555555555556,
              "#d8576b"
             ],
             [
              0.6666666666666666,
              "#ed7953"
             ],
             [
              0.7777777777777778,
              "#fb9f3a"
             ],
             [
              0.8888888888888888,
              "#fdca26"
             ],
             [
              1,
              "#f0f921"
             ]
            ],
            "type": "heatmap"
           }
          ],
          "heatmapgl": [
           {
            "colorbar": {
             "outlinewidth": 0,
             "ticks": ""
            },
            "colorscale": [
             [
              0,
              "#0d0887"
             ],
             [
              0.1111111111111111,
              "#46039f"
             ],
             [
              0.2222222222222222,
              "#7201a8"
             ],
             [
              0.3333333333333333,
              "#9c179e"
             ],
             [
              0.4444444444444444,
              "#bd3786"
             ],
             [
              0.5555555555555556,
              "#d8576b"
             ],
             [
              0.6666666666666666,
              "#ed7953"
             ],
             [
              0.7777777777777778,
              "#fb9f3a"
             ],
             [
              0.8888888888888888,
              "#fdca26"
             ],
             [
              1,
              "#f0f921"
             ]
            ],
            "type": "heatmapgl"
           }
          ],
          "histogram": [
           {
            "marker": {
             "pattern": {
              "fillmode": "overlay",
              "size": 10,
              "solidity": 0.2
             }
            },
            "type": "histogram"
           }
          ],
          "histogram2d": [
           {
            "colorbar": {
             "outlinewidth": 0,
             "ticks": ""
            },
            "colorscale": [
             [
              0,
              "#0d0887"
             ],
             [
              0.1111111111111111,
              "#46039f"
             ],
             [
              0.2222222222222222,
              "#7201a8"
             ],
             [
              0.3333333333333333,
              "#9c179e"
             ],
             [
              0.4444444444444444,
              "#bd3786"
             ],
             [
              0.5555555555555556,
              "#d8576b"
             ],
             [
              0.6666666666666666,
              "#ed7953"
             ],
             [
              0.7777777777777778,
              "#fb9f3a"
             ],
             [
              0.8888888888888888,
              "#fdca26"
             ],
             [
              1,
              "#f0f921"
             ]
            ],
            "type": "histogram2d"
           }
          ],
          "histogram2dcontour": [
           {
            "colorbar": {
             "outlinewidth": 0,
             "ticks": ""
            },
            "colorscale": [
             [
              0,
              "#0d0887"
             ],
             [
              0.1111111111111111,
              "#46039f"
             ],
             [
              0.2222222222222222,
              "#7201a8"
             ],
             [
              0.3333333333333333,
              "#9c179e"
             ],
             [
              0.4444444444444444,
              "#bd3786"
             ],
             [
              0.5555555555555556,
              "#d8576b"
             ],
             [
              0.6666666666666666,
              "#ed7953"
             ],
             [
              0.7777777777777778,
              "#fb9f3a"
             ],
             [
              0.8888888888888888,
              "#fdca26"
             ],
             [
              1,
              "#f0f921"
             ]
            ],
            "type": "histogram2dcontour"
           }
          ],
          "mesh3d": [
           {
            "colorbar": {
             "outlinewidth": 0,
             "ticks": ""
            },
            "type": "mesh3d"
           }
          ],
          "parcoords": [
           {
            "line": {
             "colorbar": {
              "outlinewidth": 0,
              "ticks": ""
             }
            },
            "type": "parcoords"
           }
          ],
          "pie": [
           {
            "automargin": true,
            "type": "pie"
           }
          ],
          "scatter": [
           {
            "fillpattern": {
             "fillmode": "overlay",
             "size": 10,
             "solidity": 0.2
            },
            "type": "scatter"
           }
          ],
          "scatter3d": [
           {
            "line": {
             "colorbar": {
              "outlinewidth": 0,
              "ticks": ""
             }
            },
            "marker": {
             "colorbar": {
              "outlinewidth": 0,
              "ticks": ""
             }
            },
            "type": "scatter3d"
           }
          ],
          "scattercarpet": [
           {
            "marker": {
             "colorbar": {
              "outlinewidth": 0,
              "ticks": ""
             }
            },
            "type": "scattercarpet"
           }
          ],
          "scattergeo": [
           {
            "marker": {
             "colorbar": {
              "outlinewidth": 0,
              "ticks": ""
             }
            },
            "type": "scattergeo"
           }
          ],
          "scattergl": [
           {
            "marker": {
             "colorbar": {
              "outlinewidth": 0,
              "ticks": ""
             }
            },
            "type": "scattergl"
           }
          ],
          "scattermapbox": [
           {
            "marker": {
             "colorbar": {
              "outlinewidth": 0,
              "ticks": ""
             }
            },
            "type": "scattermapbox"
           }
          ],
          "scatterpolar": [
           {
            "marker": {
             "colorbar": {
              "outlinewidth": 0,
              "ticks": ""
             }
            },
            "type": "scatterpolar"
           }
          ],
          "scatterpolargl": [
           {
            "marker": {
             "colorbar": {
              "outlinewidth": 0,
              "ticks": ""
             }
            },
            "type": "scatterpolargl"
           }
          ],
          "scatterternary": [
           {
            "marker": {
             "colorbar": {
              "outlinewidth": 0,
              "ticks": ""
             }
            },
            "type": "scatterternary"
           }
          ],
          "surface": [
           {
            "colorbar": {
             "outlinewidth": 0,
             "ticks": ""
            },
            "colorscale": [
             [
              0,
              "#0d0887"
             ],
             [
              0.1111111111111111,
              "#46039f"
             ],
             [
              0.2222222222222222,
              "#7201a8"
             ],
             [
              0.3333333333333333,
              "#9c179e"
             ],
             [
              0.4444444444444444,
              "#bd3786"
             ],
             [
              0.5555555555555556,
              "#d8576b"
             ],
             [
              0.6666666666666666,
              "#ed7953"
             ],
             [
              0.7777777777777778,
              "#fb9f3a"
             ],
             [
              0.8888888888888888,
              "#fdca26"
             ],
             [
              1,
              "#f0f921"
             ]
            ],
            "type": "surface"
           }
          ],
          "table": [
           {
            "cells": {
             "fill": {
              "color": "#EBF0F8"
             },
             "line": {
              "color": "white"
             }
            },
            "header": {
             "fill": {
              "color": "#C8D4E3"
             },
             "line": {
              "color": "white"
             }
            },
            "type": "table"
           }
          ]
         },
         "layout": {
          "annotationdefaults": {
           "arrowcolor": "#2a3f5f",
           "arrowhead": 0,
           "arrowwidth": 1
          },
          "autotypenumbers": "strict",
          "coloraxis": {
           "colorbar": {
            "outlinewidth": 0,
            "ticks": ""
           }
          },
          "colorscale": {
           "diverging": [
            [
             0,
             "#8e0152"
            ],
            [
             0.1,
             "#c51b7d"
            ],
            [
             0.2,
             "#de77ae"
            ],
            [
             0.3,
             "#f1b6da"
            ],
            [
             0.4,
             "#fde0ef"
            ],
            [
             0.5,
             "#f7f7f7"
            ],
            [
             0.6,
             "#e6f5d0"
            ],
            [
             0.7,
             "#b8e186"
            ],
            [
             0.8,
             "#7fbc41"
            ],
            [
             0.9,
             "#4d9221"
            ],
            [
             1,
             "#276419"
            ]
           ],
           "sequential": [
            [
             0,
             "#0d0887"
            ],
            [
             0.1111111111111111,
             "#46039f"
            ],
            [
             0.2222222222222222,
             "#7201a8"
            ],
            [
             0.3333333333333333,
             "#9c179e"
            ],
            [
             0.4444444444444444,
             "#bd3786"
            ],
            [
             0.5555555555555556,
             "#d8576b"
            ],
            [
             0.6666666666666666,
             "#ed7953"
            ],
            [
             0.7777777777777778,
             "#fb9f3a"
            ],
            [
             0.8888888888888888,
             "#fdca26"
            ],
            [
             1,
             "#f0f921"
            ]
           ],
           "sequentialminus": [
            [
             0,
             "#0d0887"
            ],
            [
             0.1111111111111111,
             "#46039f"
            ],
            [
             0.2222222222222222,
             "#7201a8"
            ],
            [
             0.3333333333333333,
             "#9c179e"
            ],
            [
             0.4444444444444444,
             "#bd3786"
            ],
            [
             0.5555555555555556,
             "#d8576b"
            ],
            [
             0.6666666666666666,
             "#ed7953"
            ],
            [
             0.7777777777777778,
             "#fb9f3a"
            ],
            [
             0.8888888888888888,
             "#fdca26"
            ],
            [
             1,
             "#f0f921"
            ]
           ]
          },
          "colorway": [
           "#636efa",
           "#EF553B",
           "#00cc96",
           "#ab63fa",
           "#FFA15A",
           "#19d3f3",
           "#FF6692",
           "#B6E880",
           "#FF97FF",
           "#FECB52"
          ],
          "font": {
           "color": "#2a3f5f"
          },
          "geo": {
           "bgcolor": "white",
           "lakecolor": "white",
           "landcolor": "#E5ECF6",
           "showlakes": true,
           "showland": true,
           "subunitcolor": "white"
          },
          "hoverlabel": {
           "align": "left"
          },
          "hovermode": "closest",
          "mapbox": {
           "style": "light"
          },
          "paper_bgcolor": "white",
          "plot_bgcolor": "#E5ECF6",
          "polar": {
           "angularaxis": {
            "gridcolor": "white",
            "linecolor": "white",
            "ticks": ""
           },
           "bgcolor": "#E5ECF6",
           "radialaxis": {
            "gridcolor": "white",
            "linecolor": "white",
            "ticks": ""
           }
          },
          "scene": {
           "xaxis": {
            "backgroundcolor": "#E5ECF6",
            "gridcolor": "white",
            "gridwidth": 2,
            "linecolor": "white",
            "showbackground": true,
            "ticks": "",
            "zerolinecolor": "white"
           },
           "yaxis": {
            "backgroundcolor": "#E5ECF6",
            "gridcolor": "white",
            "gridwidth": 2,
            "linecolor": "white",
            "showbackground": true,
            "ticks": "",
            "zerolinecolor": "white"
           },
           "zaxis": {
            "backgroundcolor": "#E5ECF6",
            "gridcolor": "white",
            "gridwidth": 2,
            "linecolor": "white",
            "showbackground": true,
            "ticks": "",
            "zerolinecolor": "white"
           }
          },
          "shapedefaults": {
           "line": {
            "color": "#2a3f5f"
           }
          },
          "ternary": {
           "aaxis": {
            "gridcolor": "white",
            "linecolor": "white",
            "ticks": ""
           },
           "baxis": {
            "gridcolor": "white",
            "linecolor": "white",
            "ticks": ""
           },
           "bgcolor": "#E5ECF6",
           "caxis": {
            "gridcolor": "white",
            "linecolor": "white",
            "ticks": ""
           }
          },
          "title": {
           "x": 0.05
          },
          "xaxis": {
           "automargin": true,
           "gridcolor": "white",
           "linecolor": "white",
           "ticks": "",
           "title": {
            "standoff": 15
           },
           "zerolinecolor": "white",
           "zerolinewidth": 2
          },
          "yaxis": {
           "automargin": true,
           "gridcolor": "white",
           "linecolor": "white",
           "ticks": "",
           "title": {
            "standoff": 15
           },
           "zerolinecolor": "white",
           "zerolinewidth": 2
          }
         }
        },
        "title": {
         "font": {
          "color": "black",
          "size": 14
         },
         "text": "Stock PE Ratio distribution"
        },
        "xaxis": {
         "anchor": "y",
         "autorange": true,
         "domain": [
          0,
          1
         ],
         "range": [
          -12.451278340569223,
          221.45127834056922
         ],
         "title": {
          "font": {
           "size": 15
          },
          "text": "Stock"
         },
         "type": "category"
        },
        "yaxis": {
         "anchor": "x",
         "autorange": true,
         "domain": [
          0,
          1
         ],
         "range": [
          -106.52903100775197,
          1028.119031007752
         ],
         "title": {
          "font": {
           "size": 15
          },
          "text": "PE Ratio"
         },
         "type": "linear"
        }
       }
      },
      "image/png": "[encoded data removed]",
      "text/html": [
       "<div>                            <div id=\"bc77834c-bcb4-45f9-b8cc-dd7dbc41643e\" class=\"plotly-graph-div\" style=\"height:525px; width:100%;\"></div>            <script type=\"text/javascript\">                require([\"plotly\"], function(Plotly) {                    window.PLOTLYENV=window.PLOTLYENV || {};                                    if (document.getElementById(\"bc77834c-bcb4-45f9-b8cc-dd7dbc41643e\")) {                    Plotly.newPlot(                        \"bc77834c-bcb4-45f9-b8cc-dd7dbc41643e\",                        [{\"hovertemplate\":\"Stock=%{x}<br>PE Ratio=%{y}<extra></extra>\",\"legendgroup\":\"\",\"marker\":{\"color\":\"red\",\"symbol\":\"circle\",\"size\":3},\"mode\":\"markers\",\"name\":\"\",\"orientation\":\"v\",\"showlegend\":false,\"x\":[\"TCS\",\"HUL\",\"Airtel\",\"Bajaj Finance\",\"Asian Paints\",\"HCL Tech\",\"Maruti Suzuki\",\"Avenue Supermart\",\"L&T\",\"Bajaj Finserv\",\"Nestle\",\"Ultratech Cement\",\"M&M\",\"Bajaj Auto\",\"Pidilite Industries\",\"SBI life Insurance\",\"Tata Steel\",\"Divi's Lab\",\"Tech Mahindra\",\"Dabur\",\"Britannia\",\"Eicher Motor\",\"Cipla\",\"Ambuja Cement\",\"SBI Cards\",\"L&T Infotech\",\"Havells India\",\"Nykaa\",\"Tata Consumer Product\",\"Tata Power\",\"Marico\",\"Berger Paint\",\"Motherson Sumi\",\"Hero Motocorp\",\"Zomato\",\"Infoedge\",\"Tata Elxsi\",\"UPL\",\"IRCTC\",\"Bandhan Bank\",\"Page Industries\",\"P&G Health\",\"Mphasis\",\"Paytm\",\"Balkrishna Industries\",\"Ashok Leyland\",\"Muthoot Finance\",\"United Breweries\",\"HDFC AMC\",\"PI industries\",\"TVS\",\"Trent\",\"sona comstar\",\"Astral Poly Technic\",\"Polycab\",\"Aurobindo Pharma\",\"Honeywell Auto\",\"MRF\",\"Gujarat Florochemical\",\"Gujarat Gas\",\"Max Financials\",\"Coromandel International\",\"PB Fintech\",\"Indraprastha Gas\",\"Lauras Lab\",\"Deepak Nitrite\",\"Relaxo Footwear\",\"Persistent System\",\"3M India\",\"IPCA Lab\",\"Bata India\",\"Coforge\",\"APL Apollo\",\"Crompton Greves\",\"Supreme Industries\",\"Bayer Cropscience\",\"Sumitomo Chemicals\",\"Dixon Technologies\",\"Tata Chemical\",\"Vinita Organics\",\"Whirlpool\",\"IDFC First\",\"Endurance Technology\",\"Pfizer\",\"Trident\",\"Navin Flourine\",\"LIC Housing Finance\",\"Dr Lal Path Lab\",\"IEX\",\"clean science\",\"Fine Organics\",\"Alembic Pharma\",\"Affle India\",\"Tanla Platform\",\"KPIT\",\"Sheela Form\",\"Indiamart Intermesh\",\"Happiest Mind\",\"CDSL\",\"Exide Battery\",\"Century Plyboard\",\"TTK Prestige\",\"CAMS\",\"Radico Khaitan\",\"KEI Industries\",\"Galaxy Surfactant\",\"Birlasoft\",\"Balaji Amine\",\"Mediplus\",\"Finolex Industries\",\"Borosil Renewable\",\"UTI AMC\",\"Amara Raja Batter\",\"Route Mobile\",\"Laxmi Orgamic\",\"HFCL\",\"Mahangar Gas\",\"Mannapuran Finance\",\"Amber Enterprise\",\"Poly Medicure Ltd\",\"Polyplex Corporation\",\"Sonata Software\",\"Astrazeneca\",\"Latent View\",\"Praj Industries\",\"ICICI Bank\",\"Granules India\",\"TCI Express\",\"Zensar Tech\",\"Mastek\",\"Garware technical\",\"GMM Pfaudler\",\"Sterlite technology\",\"Orient Electric\",\"Avanti Feed\",\"Cera Sanitaryware\",\"craftsman automation\",\"Bharat Rasayan\",\"Heidelberg Cement\",\"Astec Lifesciences\",\"Aarti Drugs\",\"Data Pattern\",\"Thyrocare\",\"Neogen Chemcial\",\"Dhanuka Agritech\",\"Advance Enzymes\",\"Wipro\",\"Newgen\",\"Sequent Science\",\"Tasty Bite Eatable\",\"Heranba\",\"Paras Defense\",\"Somany home innovation ltd\",\"Tata Motor\",\"Apollo pipes\",\"Garware hi-tech\",\"Chemcom Speciality\",\"Nureca\",\"Dr Reddy\",\"HDFC Bank\",\"Finolex Cable\",\"Nippon AMC\",\"Abbott India\",\"Axis Bank\",\"Bank of Baroda\",\"SBI Bank\",\"Federal Bank\",\"Shree Cement\",\"Infosys\",\"Reliance\",\"Acrysil Ltd\",\"HDFC life Insurance\",\"J K Cement\",\"ICICI Pru life insurance\",\"Titan\",\"Goldiam International\",\"United Spirits\",\"Rossari Biotech\",\"Kansai Nerolac\",\"Voltas\",\"L&T Technology\",\"Yesbank\",\"Gland Pharma\",\"Hawkins Cooker\",\"MTAR\",\"Vaibhav Global\",\"Atul Ltd\",\"MapmyIndia\",\"Sun pharma\",\"Caplin Point\",\"Cyient\",\"Varun Beverage\",\"Prince Pipe\",\"Jubilant FoodWorks\",\"Alkyl Amine\",\"HDFC\",\"AU Small Finance\",\"Hindustan Food\",\"Solar Industries\",\"Kotak Bank\",\"stove kraft\",\"Godrej Consumer\",\"Solara Active\",\"Kajaria Ceramic\",\"Metropolis Healthcare\",\"Aarti Industries\",\"Subex\",\"Crisil\",\"Lux Industries\",\"LIC\"],\"xaxis\":\"x\",\"y\":[30.43,63.81,65.86,36.52,76.19,52.09149253731343,42.1,109.05,31.53,40.48,88.1,31.35,16.12,17.79,98.38,78.07,5.13,29.74,16.8,55.79,65.9,37.12,33.64,57.36,35.28,34.73,67.24,918.2,65.04,25.89,52.21,57.95,67.22,21.06,52.09149253731343,8.76,57.85,13.58,57.32,9.94,61.16,87.99,24.59,52.09149253731343,30.72,227.06,11.41,78.07,33.2,48.33,39.03,117.93,69.24,96.08,35.5,12.08,91.84,66.97,28.23,22.9,88.04,13.43,52.09149253731343,17.03,22.19,28.86,114.44,37.59,68.24,42.96,65.53,32.39,54.9,36.77,36.12,29.86,48.9,93.72,12.65,51.19,70.52,52.09149253731343,42.23,31.52,30.44,73.24,6.85,72.77,41.14,61.9,32.19,42.84,55.83,19.49,59.82,57.79,56.62,59.08,37.61,3.39,31.54,35.54,38.87,52.09149253731343,30.59,25.47,52.09149253731343,20.06,188.97,15.85,39.43,21.59,17.05,32.12,36.41,36.15,15.67,8.7,49.07,61.12,7.36,19.25,95.35,49.25,35.19,20.88,16.36,49.5,13.73,17.12,37.14,53.87,52.09149253731343,53.9,21.44,37.0,35.75,23.12,23.18,33.56,22.17,59.65,35.81,68.51,15.26,32.26,19.15,17.49,302.86,139.72,10.9,67.14,33.36,52.09149253731343,64.75,52.09149253731343,15.51,52.09149253731343,23.13,21.39,15.6,23.69,53.6,15.67,9.72,13.0,11.78,54.11,27.61,25.09,52.09149253731343,85.12,36.07,78.92,68.59,17.83,46.19,39.87,52.87,70.1,34.13,45.52,23.28,34.69,70.16,35.85,37.5,65.24,60.4,52.09149253731343,19.98,51.22,44.19,69.25,61.31,19.81,31.44,114.36,63.66,25.87,30.76,58.81,52.09149253731343,46.87,45.85,17.2,593.93,38.36,17.12,23.63],\"yaxis\":\"y\",\"type\":\"scatter\"}],                        {\"template\":{\"data\":{\"histogram2dcontour\":[{\"type\":\"histogram2dcontour\",\"colorbar\":{\"outlinewidth\":0,\"ticks\":\"\"},\"colorscale\":[[0.0,\"#0d0887\"],[0.1111111111111111,\"#46039f\"],[0.2222222222222222,\"#7201a8\"],[0.3333333333333333,\"#9c179e\"],[0.4444444444444444,\"#bd3786\"],[0.5555555555555556,\"#d8576b\"],[0.6666666666666666,\"#ed7953\"],[0.7777777777777778,\"#fb9f3a\"],[0.8888888888888888,\"#fdca26\"],[1.0,\"#f0f921\"]]}],\"choropleth\":[{\"type\":\"choropleth\",\"colorbar\":{\"outlinewidth\":0,\"ticks\":\"\"}}],\"histogram2d\":[{\"type\":\"histogram2d\",\"colorbar\":{\"outlinewidth\":0,\"ticks\":\"\"},\"colorscale\":[[0.0,\"#0d0887\"],[0.1111111111111111,\"#46039f\"],[0.2222222222222222,\"#7201a8\"],[0.3333333333333333,\"#9c179e\"],[0.4444444444444444,\"#bd3786\"],[0.5555555555555556,\"#d8576b\"],[0.6666666666666666,\"#ed7953\"],[0.7777777777777778,\"#fb9f3a\"],[0.8888888888888888,\"#fdca26\"],[1.0,\"#f0f921\"]]}],\"heatmap\":[{\"type\":\"heatmap\",\"colorbar\":{\"outlinewidth\":0,\"ticks\":\"\"},\"colorscale\":[[0.0,\"#0d0887\"],[0.1111111111111111,\"#46039f\"],[0.2222222222222222,\"#7201a8\"],[0.3333333333333333,\"#9c179e\"],[0.4444444444444444,\"#bd3786\"],[0.5555555555555556,\"#d8576b\"],[0.6666666666666666,\"#ed7953\"],[0.7777777777777778,\"#fb9f3a\"],[0.8888888888888888,\"#fdca26\"],[1.0,\"#f0f921\"]]}],\"heatmapgl\":[{\"type\":\"heatmapgl\",\"colorbar\":{\"outlinewidth\":0,\"ticks\":\"\"},\"colorscale\":[[0.0,\"#0d0887\"],[0.1111111111111111,\"#46039f\"],[0.2222222222222222,\"#7201a8\"],[0.3333333333333333,\"#9c179e\"],[0.4444444444444444,\"#bd3786\"],[0.5555555555555556,\"#d8576b\"],[0.6666666666666666,\"#ed7953\"],[0.7777777777777778,\"#fb9f3a\"],[0.8888888888888888,\"#fdca26\"],[1.0,\"#f0f921\"]]}],\"contourcarpet\":[{\"type\":\"contourcarpet\",\"colorbar\":{\"outlinewidth\":0,\"ticks\":\"\"}}],\"contour\":[{\"type\":\"contour\",\"colorbar\":{\"outlinewidth\":0,\"ticks\":\"\"},\"colorscale\":[[0.0,\"#0d0887\"],[0.1111111111111111,\"#46039f\"],[0.2222222222222222,\"#7201a8\"],[0.3333333333333333,\"#9c179e\"],[0.4444444444444444,\"#bd3786\"],[0.5555555555555556,\"#d8576b\"],[0.6666666666666666,\"#ed7953\"],[0.7777777777777778,\"#fb9f3a\"],[0.8888888888888888,\"#fdca26\"],[1.0,\"#f0f921\"]]}],\"surface\":[{\"type\":\"surface\",\"colorbar\":{\"outlinewidth\":0,\"ticks\":\"\"},\"colorscale\":[[0.0,\"#0d0887\"],[0.1111111111111111,\"#46039f\"],[0.2222222222222222,\"#7201a8\"],[0.3333333333333333,\"#9c179e\"],[0.4444444444444444,\"#bd3786\"],[0.5555555555555556,\"#d8576b\"],[0.6666666666666666,\"#ed7953\"],[0.7777777777777778,\"#fb9f3a\"],[0.8888888888888888,\"#fdca26\"],[1.0,\"#f0f921\"]]}],\"mesh3d\":[{\"type\":\"mesh3d\",\"colorbar\":{\"outlinewidth\":0,\"ticks\":\"\"}}],\"scatter\":[{\"fillpattern\":{\"fillmode\":\"overlay\",\"size\":10,\"solidity\":0.2},\"type\":\"scatter\"}],\"parcoords\":[{\"type\":\"parcoords\",\"line\":{\"colorbar\":{\"outlinewidth\":0,\"ticks\":\"\"}}}],\"scatterpolargl\":[{\"type\":\"scatterpolargl\",\"marker\":{\"colorbar\":{\"outlinewidth\":0,\"ticks\":\"\"}}}],\"bar\":[{\"error_x\":{\"color\":\"#2a3f5f\"},\"error_y\":{\"color\":\"#2a3f5f\"},\"marker\":{\"line\":{\"color\":\"#E5ECF6\",\"width\":0.5},\"pattern\":{\"fillmode\":\"overlay\",\"size\":10,\"solidity\":0.2}},\"type\":\"bar\"}],\"scattergeo\":[{\"type\":\"scattergeo\",\"marker\":{\"colorbar\":{\"outlinewidth\":0,\"ticks\":\"\"}}}],\"scatterpolar\":[{\"type\":\"scatterpolar\",\"marker\":{\"colorbar\":{\"outlinewidth\":0,\"ticks\":\"\"}}}],\"histogram\":[{\"marker\":{\"pattern\":{\"fillmode\":\"overlay\",\"size\":10,\"solidity\":0.2}},\"type\":\"histogram\"}],\"scattergl\":[{\"type\":\"scattergl\",\"marker\":{\"colorbar\":{\"outlinewidth\":0,\"ticks\":\"\"}}}],\"scatter3d\":[{\"type\":\"scatter3d\",\"line\":{\"colorbar\":{\"outlinewidth\":0,\"ticks\":\"\"}},\"marker\":{\"colorbar\":{\"outlinewidth\":0,\"ticks\":\"\"}}}],\"scattermapbox\":[{\"type\":\"scattermapbox\",\"marker\":{\"colorbar\":{\"outlinewidth\":0,\"ticks\":\"\"}}}],\"scatterternary\":[{\"type\":\"scatterternary\",\"marker\":{\"colorbar\":{\"outlinewidth\":0,\"ticks\":\"\"}}}],\"scattercarpet\":[{\"type\":\"scattercarpet\",\"marker\":{\"colorbar\":{\"outlinewidth\":0,\"ticks\":\"\"}}}],\"carpet\":[{\"aaxis\":{\"endlinecolor\":\"#2a3f5f\",\"gridcolor\":\"white\",\"linecolor\":\"white\",\"minorgridcolor\":\"white\",\"startlinecolor\":\"#2a3f5f\"},\"baxis\":{\"endlinecolor\":\"#2a3f5f\",\"gridcolor\":\"white\",\"linecolor\":\"white\",\"minorgridcolor\":\"white\",\"startlinecolor\":\"#2a3f5f\"},\"type\":\"carpet\"}],\"table\":[{\"cells\":{\"fill\":{\"color\":\"#EBF0F8\"},\"line\":{\"color\":\"white\"}},\"header\":{\"fill\":{\"color\":\"#C8D4E3\"},\"line\":{\"color\":\"white\"}},\"type\":\"table\"}],\"barpolar\":[{\"marker\":{\"line\":{\"color\":\"#E5ECF6\",\"width\":0.5},\"pattern\":{\"fillmode\":\"overlay\",\"size\":10,\"solidity\":0.2}},\"type\":\"barpolar\"}],\"pie\":[{\"automargin\":true,\"type\":\"pie\"}]},\"layout\":{\"autotypenumbers\":\"strict\",\"colorway\":[\"#636efa\",\"#EF553B\",\"#00cc96\",\"#ab63fa\",\"#FFA15A\",\"#19d3f3\",\"#FF6692\",\"#B6E880\",\"#FF97FF\",\"#FECB52\"],\"font\":{\"color\":\"#2a3f5f\"},\"hovermode\":\"closest\",\"hoverlabel\":{\"align\":\"left\"},\"paper_bgcolor\":\"white\",\"plot_bgcolor\":\"#E5ECF6\",\"polar\":{\"bgcolor\":\"#E5ECF6\",\"angularaxis\":{\"gridcolor\":\"white\",\"linecolor\":\"white\",\"ticks\":\"\"},\"radialaxis\":{\"gridcolor\":\"white\",\"linecolor\":\"white\",\"ticks\":\"\"}},\"ternary\":{\"bgcolor\":\"#E5ECF6\",\"aaxis\":{\"gridcolor\":\"white\",\"linecolor\":\"white\",\"ticks\":\"\"},\"baxis\":{\"gridcolor\":\"white\",\"linecolor\":\"white\",\"ticks\":\"\"},\"caxis\":{\"gridcolor\":\"white\",\"linecolor\":\"white\",\"ticks\":\"\"}},\"coloraxis\":{\"colorbar\":{\"outlinewidth\":0,\"ticks\":\"\"}},\"colorscale\":{\"sequential\":[[0.0,\"#0d0887\"],[0.1111111111111111,\"#46039f\"],[0.2222222222222222,\"#7201a8\"],[0.3333333333333333,\"#9c179e\"],[0.4444444444444444,\"#bd3786\"],[0.5555555555555556,\"#d8576b\"],[0.6666666666666666,\"#ed7953\"],[0.7777777777777778,\"#fb9f3a\"],[0.8888888888888888,\"#fdca26\"],[1.0,\"#f0f921\"]],\"sequentialminus\":[[0.0,\"#0d0887\"],[0.1111111111111111,\"#46039f\"],[0.2222222222222222,\"#7201a8\"],[0.3333333333333333,\"#9c179e\"],[0.4444444444444444,\"#bd3786\"],[0.5555555555555556,\"#d8576b\"],[0.6666666666666666,\"#ed7953\"],[0.7777777777777778,\"#fb9f3a\"],[0.8888888888888888,\"#fdca26\"],[1.0,\"#f0f921\"]],\"diverging\":[[0,\"#8e0152\"],[0.1,\"#c51b7d\"],[0.2,\"#de77ae\"],[0.3,\"#f1b6da\"],[0.4,\"#fde0ef\"],[0.5,\"#f7f7f7\"],[0.6,\"#e6f5d0\"],[0.7,\"#b8e186\"],[0.8,\"#7fbc41\"],[0.9,\"#4d9221\"],[1,\"#276419\"]]},\"xaxis\":{\"gridcolor\":\"white\",\"linecolor\":\"white\",\"ticks\":\"\",\"title\":{\"standoff\":15},\"zerolinecolor\":\"white\",\"automargin\":true,\"zerolinewidth\":2},\"yaxis\":{\"gridcolor\":\"white\",\"linecolor\":\"white\",\"ticks\":\"\",\"title\":{\"standoff\":15},\"zerolinecolor\":\"white\",\"automargin\":true,\"zerolinewidth\":2},\"scene\":{\"xaxis\":{\"backgroundcolor\":\"#E5ECF6\",\"gridcolor\":\"white\",\"linecolor\":\"white\",\"showbackground\":true,\"ticks\":\"\",\"zerolinecolor\":\"white\",\"gridwidth\":2},\"yaxis\":{\"backgroundcolor\":\"#E5ECF6\",\"gridcolor\":\"white\",\"linecolor\":\"white\",\"showbackground\":true,\"ticks\":\"\",\"zerolinecolor\":\"white\",\"gridwidth\":2},\"zaxis\":{\"backgroundcolor\":\"#E5ECF6\",\"gridcolor\":\"white\",\"linecolor\":\"white\",\"showbackground\":true,\"ticks\":\"\",\"zerolinecolor\":\"white\",\"gridwidth\":2}},\"shapedefaults\":{\"line\":{\"color\":\"#2a3f5f\"}},\"annotationdefaults\":{\"arrowcolor\":\"#2a3f5f\",\"arrowhead\":0,\"arrowwidth\":1},\"geo\":{\"bgcolor\":\"white\",\"landcolor\":\"#E5ECF6\",\"subunitcolor\":\"white\",\"showland\":true,\"showlakes\":true,\"lakecolor\":\"white\"},\"title\":{\"x\":0.05},\"mapbox\":{\"style\":\"light\"}}},\"xaxis\":{\"anchor\":\"y\",\"domain\":[0.0,1.0],\"title\":{\"text\":\"Stock\",\"font\":{\"size\":15}}},\"yaxis\":{\"anchor\":\"x\",\"domain\":[0.0,1.0],\"title\":{\"text\":\"PE Ratio\",\"font\":{\"size\":15}}},\"legend\":{\"tracegroupgap\":0},\"title\":{\"text\":\"Stock PE Ratio distribution\",\"font\":{\"size\":14,\"color\":\"black\"}},\"plot_bgcolor\":\"beige\",\"hovermode\":\"closest\"},                        {\"responsive\": true}                    ).then(function(){\n",
       "                            \n",
       "var gd = document.getElementById('bc77834c-bcb4-45f9-b8cc-dd7dbc41643e');\n",
       "var x = new MutationObserver(function (mutations, observer) {{\n",
       "        var display = window.getComputedStyle(gd).display;\n",
       "        if (!display || display === 'none') {{\n",
       "            console.log([gd, 'removed!']);\n",
       "            Plotly.purge(gd);\n",
       "            observer.disconnect();\n",
       "        }}\n",
       "}});\n",
       "\n",
       "// Listen for the removal of the full notebook cells\n",
       "var notebookContainer = gd.closest('#notebook-container');\n",
       "if (notebookContainer) {{\n",
       "    x.observe(notebookContainer, {childList: true});\n",
       "}}\n",
       "\n",
       "// Listen for the clearing of the current output cell\n",
       "var outputEl = gd.closest('.output');\n",
       "if (outputEl) {{\n",
       "    x.observe(outputEl, {childList: true});\n",
       "}}\n",
       "\n",
       "                        })                };                });            </script>        </div>"
      ]
     },
     "metadata": {},
     "output_type": "display_data"
    }
   ],
   "source": [
    "import plotly.express as px\n",
    "\n",
    "fig = px.scatter(merge_df, x='Stock', y='PE Ratio',\n",
    "                 title='Stock PE Ratio distribution')\n",
    "\n",
    "fig.update_traces(marker=dict(size=3, color='red'))\n",
    "\n",
    "fig.update_layout(\n",
    "    plot_bgcolor='beige',\n",
    "    xaxis=dict(title_font=dict(size=15)),\n",
    "    yaxis=dict(title_font=dict(size=15)),\n",
    "    title=dict(font=dict(size=14, color='black')),\n",
    "    hovermode='closest'\n",
    ")\n",
    "\n",
    "fig.show()\n"
   ]
  },
  {
   "cell_type": "code",
   "execution_count": 191,
   "id": "34e1ceda-e933-406a-8ed2-a385c53a7091",
   "metadata": {},
   "outputs": [
    {
     "data": {
      "application/vnd.plotly.v1+json": {
       "config": {
        "plotlyServerURL": "https://plot.ly"
       },
       "data": [
        {
         "hovertemplate": "Stock=%{x}<br>Current price=%{y}<extra></extra>",
         "legendgroup": "",
         "marker": {
          "color": "#636efa",
          "symbol": "circle"
         },
         "mode": "markers",
         "name": "",
         "orientation": "v",
         "showlegend": false,
         "type": "scatter",
         "x": [
          "TCS",
          "HUL",
          "Airtel",
          "Bajaj Finance",
          "Asian Paints",
          "HCL Tech",
          "Maruti Suzuki",
          "Avenue Supermart",
          "L&T",
          "Bajaj Finserv",
          "Nestle",
          "Ultratech Cement",
          "M&M",
          "Bajaj Auto",
          "Pidilite Industries",
          "SBI life Insurance",
          "Tata Steel",
          "Divi's Lab",
          "Tech Mahindra",
          "Dabur",
          "Britannia",
          "Eicher Motor",
          "Cipla",
          "Ambuja Cement",
          "SBI Cards",
          "L&T Infotech",
          "Havells India",
          "Nykaa",
          "Tata Consumer Product",
          "Tata Power",
          "Marico",
          "Berger Paint",
          "Motherson Sumi",
          "Hero Motocorp",
          "Zomato",
          "Infoedge",
          "Tata Elxsi",
          "UPL",
          "IRCTC",
          "Bandhan Bank",
          "Page Industries",
          "P&G Health",
          "Mphasis",
          "Paytm",
          "Balkrishna Industries",
          "Ashok Leyland",
          "Muthoot Finance",
          "United Breweries",
          "HDFC AMC",
          "PI industries",
          "TVS",
          "Trent",
          "sona comstar",
          "Astral Poly Technic",
          "Polycab",
          "Aurobindo Pharma",
          "Honeywell Auto",
          "MRF",
          "Gujarat Florochemical",
          "Gujarat Gas",
          "Max Financials",
          "Coromandel International",
          "PB Fintech",
          "Indraprastha Gas",
          "Lauras Lab",
          "Deepak Nitrite",
          "Relaxo Footwear",
          "Persistent System",
          "3M India",
          "IPCA Lab",
          "Bata India",
          "Coforge",
          "APL Apollo",
          "Crompton Greves",
          "Supreme Industries",
          "Bayer Cropscience",
          "Sumitomo Chemicals",
          "Dixon Technologies",
          "Tata Chemical",
          "Vinita Organics",
          "Whirlpool",
          "IDFC First",
          "Endurance Technology",
          "Pfizer",
          "Trident",
          "Navin Flourine",
          "LIC Housing Finance",
          "Dr Lal Path Lab",
          "IEX",
          "clean science",
          "Fine Organics",
          "Alembic Pharma",
          "Affle India",
          "Tanla Platform",
          "KPIT",
          "Sheela Form",
          "Indiamart Intermesh",
          "Happiest Mind",
          "CDSL",
          "Exide Battery",
          "Century Plyboard",
          "TTK Prestige",
          "CAMS",
          "Radico Khaitan",
          "KEI Industries",
          "Galaxy Surfactant",
          "Birlasoft",
          "Balaji Amine",
          "Mediplus",
          "Finolex Industries",
          "Borosil Renewable",
          "UTI AMC",
          "Amara Raja Batter",
          "Route Mobile",
          "Laxmi Orgamic",
          "HFCL",
          "Mahangar Gas",
          "Mannapuran Finance",
          "Amber Enterprise",
          "Poly Medicure Ltd",
          "Polyplex Corporation",
          "Sonata Software",
          "Astrazeneca",
          "Latent View",
          "Praj Industries",
          "ICICI Bank",
          "Granules India",
          "TCI Express",
          "Zensar Tech",
          "Mastek",
          "Garware technical",
          "GMM Pfaudler",
          "Sterlite technology",
          "Orient Electric",
          "Avanti Feed",
          "Cera Sanitaryware",
          "craftsman automation",
          "Bharat Rasayan",
          "Heidelberg Cement",
          "Astec Lifesciences",
          "Aarti Drugs",
          "Data Pattern",
          "Thyrocare",
          "Neogen Chemcial",
          "Dhanuka Agritech",
          "Advance Enzymes",
          "Wipro",
          "Newgen",
          "Sequent Science",
          "Tasty Bite Eatable",
          "Heranba",
          "Paras Defense",
          "Somany home innovation ltd",
          "Tata Motor",
          "Apollo pipes",
          "Garware hi-tech",
          "Chemcom Speciality",
          "Nureca",
          "Dr Reddy",
          "HDFC Bank",
          "Finolex Cable",
          "Nippon AMC",
          "Abbott India",
          "Axis Bank",
          "Bank of Baroda",
          "SBI Bank",
          "Federal Bank",
          "Shree Cement",
          "Infosys",
          "Reliance",
          "Acrysil Ltd",
          "HDFC life Insurance",
          "J K Cement",
          "ICICI Pru life insurance",
          "Titan",
          "Goldiam International",
          "United Spirits",
          "Rossari Biotech",
          "Kansai Nerolac",
          "Voltas",
          "L&T Technology",
          "Yesbank",
          "Gland Pharma",
          "Hawkins Cooker",
          "MTAR",
          "Vaibhav Global",
          "Atul Ltd",
          "MapmyIndia",
          "Sun pharma",
          "Caplin Point",
          "Cyient",
          "Varun Beverage",
          "Prince Pipe",
          "Jubilant FoodWorks",
          "Alkyl Amine",
          "HDFC",
          "AU Small Finance",
          "Hindustan Food",
          "Solar Industries",
          "Kotak Bank",
          "stove kraft",
          "Godrej Consumer",
          "Solara Active",
          "Kajaria Ceramic",
          "Metropolis Healthcare",
          "Aarti Industries",
          "Subex",
          "Crisil",
          "Lux Industries",
          "LIC"
         ],
         "xaxis": "x",
         "y": [
          3374.2,
          2620.6,
          764.6,
          5977,
          2912,
          1077,
          8454.2,
          3855,
          2153.75,
          1391,
          19782.3,
          7244.95,
          1327.55,
          3602.45,
          2513,
          1307,
          120.45,
          3352.15,
          1002.8,
          544,
          4328,
          3164.9,
          1068.85,
          518.7,
          786.05,
          4289.8,
          1167.55,
          147.6,
          752.8,
          206.55,
          497.5,
          564,
          77.15,
          2732,
          53.25,
          3731.8,
          6223,
          718.45,
          641,
          237.75,
          40260,
          13875,
          2035.55,
          559.9,
          2229,
          146.95,
          1065.5,
          1625,
          2148,
          3262,
          999.5,
          1205.75,
          426,
          2046.5,
          2662,
          435.3,
          39710,
          89700,
          2793.5,
          450.2,
          799.4,
          872,
          2776.7799065420563,
          416.85,
          357.4,
          1944.05,
          892.35,
          4009,
          22300,
          872.85,
          1580,
          3868.05,
          1136,
          337.35,
          2461,
          4669.05,
          493.2,
          3635,
          975.8,
          2000,
          1441.55,
          60.2,
          1398.5,
          4224.9,
          33.75,
          4080.6,
          402.9,
          2174.05,
          141.55,
          1463.5,
          5630,
          555,
          1024,
          731.9,
          696.3,
          1260,
          4477,
          885.05,
          1077.9,
          182.85,
          523.9,
          789.5,
          2274,
          1068,
          1436.05,
          2358,
          293.1,
          2562.7,
          629,
          173,
          499.35,
          807.2,
          576.5,
          1190.8,
          289.4,
          73.6,
          853.05,
          121.55,
          1870,
          891.5,
          1555,
          582,
          3515.05,
          367.25,
          353,
          873.25,
          318.6,
          1795,
          211.35,
          1714.7,
          3024.95,
          1567.45,
          171,
          267.2,
          389.4,
          5294,
          3465.1,
          9517.9,
          186.9,
          1669.3,
          448,
          1227.1,
          571.8,
          1242.8,
          717.5,
          276.7,
          393.65,
          382.15,
          85.4,
          10430,
          481.35,
          577.8,
          462.25,
          411.45,
          510,
          638.25,
          288.1,
          404.35,
          4323.5,
          1601,
          553.4,
          252.6,
          22241,
          933.9,
          184.9,
          600.05,
          138.45,
          24025,
          1503.5,
          2467.9,
          446.8,
          604,
          2900.45,
          468.9,
          2417.65,
          165.55,
          846.75,
          717,
          415,
          805.9,
          3446.95,
          20.15,
          1453.65,
          6195,
          1688.15,
          299,
          7701.2,
          1071.5,
          1031.05,
          2776.7799065420563,
          876,
          1134.8,
          590.7,
          498.25,
          2714.9,
          2619.25,
          619,
          578.05,
          4338,
          1780.5,
          498.5,
          916.75,
          423,
          1118,
          1380.05,
          581.8,
          36.2,
          3020,
          1524.7,
          712.7
         ],
         "yaxis": "y"
        }
       ],
       "layout": {
        "autosize": true,
        "legend": {
         "tracegroupgap": 0
        },
        "template": {
         "data": {
          "bar": [
           {
            "error_x": {
             "color": "#2a3f5f"
            },
            "error_y": {
             "color": "#2a3f5f"
            },
            "marker": {
             "line": {
              "color": "#E5ECF6",
              "width": 0.5
             },
             "pattern": {
              "fillmode": "overlay",
              "size": 10,
              "solidity": 0.2
             }
            },
            "type": "bar"
           }
          ],
          "barpolar": [
           {
            "marker": {
             "line": {
              "color": "#E5ECF6",
              "width": 0.5
             },
             "pattern": {
              "fillmode": "overlay",
              "size": 10,
              "solidity": 0.2
             }
            },
            "type": "barpolar"
           }
          ],
          "carpet": [
           {
            "aaxis": {
             "endlinecolor": "#2a3f5f",
             "gridcolor": "white",
             "linecolor": "white",
             "minorgridcolor": "white",
             "startlinecolor": "#2a3f5f"
            },
            "baxis": {
             "endlinecolor": "#2a3f5f",
             "gridcolor": "white",
             "linecolor": "white",
             "minorgridcolor": "white",
             "startlinecolor": "#2a3f5f"
            },
            "type": "carpet"
           }
          ],
          "choropleth": [
           {
            "colorbar": {
             "outlinewidth": 0,
             "ticks": ""
            },
            "type": "choropleth"
           }
          ],
          "contour": [
           {
            "colorbar": {
             "outlinewidth": 0,
             "ticks": ""
            },
            "colorscale": [
             [
              0,
              "#0d0887"
             ],
             [
              0.1111111111111111,
              "#46039f"
             ],
             [
              0.2222222222222222,
              "#7201a8"
             ],
             [
              0.3333333333333333,
              "#9c179e"
             ],
             [
              0.4444444444444444,
              "#bd3786"
             ],
             [
              0.5555555555555556,
              "#d8576b"
             ],
             [
              0.6666666666666666,
              "#ed7953"
             ],
             [
              0.7777777777777778,
              "#fb9f3a"
             ],
             [
              0.8888888888888888,
              "#fdca26"
             ],
             [
              1,
              "#f0f921"
             ]
            ],
            "type": "contour"
           }
          ],
          "contourcarpet": [
           {
            "colorbar": {
             "outlinewidth": 0,
             "ticks": ""
            },
            "type": "contourcarpet"
           }
          ],
          "heatmap": [
           {
            "colorbar": {
             "outlinewidth": 0,
             "ticks": ""
            },
            "colorscale": [
             [
              0,
              "#0d0887"
             ],
             [
              0.1111111111111111,
              "#46039f"
             ],
             [
              0.2222222222222222,
              "#7201a8"
             ],
             [
              0.3333333333333333,
              "#9c179e"
             ],
             [
              0.4444444444444444,
              "#bd3786"
             ],
             [
              0.5555555555555556,
              "#d8576b"
             ],
             [
              0.6666666666666666,
              "#ed7953"
             ],
             [
              0.7777777777777778,
              "#fb9f3a"
             ],
             [
              0.8888888888888888,
              "#fdca26"
             ],
             [
              1,
              "#f0f921"
             ]
            ],
            "type": "heatmap"
           }
          ],
          "heatmapgl": [
           {
            "colorbar": {
             "outlinewidth": 0,
             "ticks": ""
            },
            "colorscale": [
             [
              0,
              "#0d0887"
             ],
             [
              0.1111111111111111,
              "#46039f"
             ],
             [
              0.2222222222222222,
              "#7201a8"
             ],
             [
              0.3333333333333333,
              "#9c179e"
             ],
             [
              0.4444444444444444,
              "#bd3786"
             ],
             [
              0.5555555555555556,
              "#d8576b"
             ],
             [
              0.6666666666666666,
              "#ed7953"
             ],
             [
              0.7777777777777778,
              "#fb9f3a"
             ],
             [
              0.8888888888888888,
              "#fdca26"
             ],
             [
              1,
              "#f0f921"
             ]
            ],
            "type": "heatmapgl"
           }
          ],
          "histogram": [
           {
            "marker": {
             "pattern": {
              "fillmode": "overlay",
              "size": 10,
              "solidity": 0.2
             }
            },
            "type": "histogram"
           }
          ],
          "histogram2d": [
           {
            "colorbar": {
             "outlinewidth": 0,
             "ticks": ""
            },
            "colorscale": [
             [
              0,
              "#0d0887"
             ],
             [
              0.1111111111111111,
              "#46039f"
             ],
             [
              0.2222222222222222,
              "#7201a8"
             ],
             [
              0.3333333333333333,
              "#9c179e"
             ],
             [
              0.4444444444444444,
              "#bd3786"
             ],
             [
              0.5555555555555556,
              "#d8576b"
             ],
             [
              0.6666666666666666,
              "#ed7953"
             ],
             [
              0.7777777777777778,
              "#fb9f3a"
             ],
             [
              0.8888888888888888,
              "#fdca26"
             ],
             [
              1,
              "#f0f921"
             ]
            ],
            "type": "histogram2d"
           }
          ],
          "histogram2dcontour": [
           {
            "colorbar": {
             "outlinewidth": 0,
             "ticks": ""
            },
            "colorscale": [
             [
              0,
              "#0d0887"
             ],
             [
              0.1111111111111111,
              "#46039f"
             ],
             [
              0.2222222222222222,
              "#7201a8"
             ],
             [
              0.3333333333333333,
              "#9c179e"
             ],
             [
              0.4444444444444444,
              "#bd3786"
             ],
             [
              0.5555555555555556,
              "#d8576b"
             ],
             [
              0.6666666666666666,
              "#ed7953"
             ],
             [
              0.7777777777777778,
              "#fb9f3a"
             ],
             [
              0.8888888888888888,
              "#fdca26"
             ],
             [
              1,
              "#f0f921"
             ]
            ],
            "type": "histogram2dcontour"
           }
          ],
          "mesh3d": [
           {
            "colorbar": {
             "outlinewidth": 0,
             "ticks": ""
            },
            "type": "mesh3d"
           }
          ],
          "parcoords": [
           {
            "line": {
             "colorbar": {
              "outlinewidth": 0,
              "ticks": ""
             }
            },
            "type": "parcoords"
           }
          ],
          "pie": [
           {
            "automargin": true,
            "type": "pie"
           }
          ],
          "scatter": [
           {
            "fillpattern": {
             "fillmode": "overlay",
             "size": 10,
             "solidity": 0.2
            },
            "type": "scatter"
           }
          ],
          "scatter3d": [
           {
            "line": {
             "colorbar": {
              "outlinewidth": 0,
              "ticks": ""
             }
            },
            "marker": {
             "colorbar": {
              "outlinewidth": 0,
              "ticks": ""
             }
            },
            "type": "scatter3d"
           }
          ],
          "scattercarpet": [
           {
            "marker": {
             "colorbar": {
              "outlinewidth": 0,
              "ticks": ""
             }
            },
            "type": "scattercarpet"
           }
          ],
          "scattergeo": [
           {
            "marker": {
             "colorbar": {
              "outlinewidth": 0,
              "ticks": ""
             }
            },
            "type": "scattergeo"
           }
          ],
          "scattergl": [
           {
            "marker": {
             "colorbar": {
              "outlinewidth": 0,
              "ticks": ""
             }
            },
            "type": "scattergl"
           }
          ],
          "scattermapbox": [
           {
            "marker": {
             "colorbar": {
              "outlinewidth": 0,
              "ticks": ""
             }
            },
            "type": "scattermapbox"
           }
          ],
          "scatterpolar": [
           {
            "marker": {
             "colorbar": {
              "outlinewidth": 0,
              "ticks": ""
             }
            },
            "type": "scatterpolar"
           }
          ],
          "scatterpolargl": [
           {
            "marker": {
             "colorbar": {
              "outlinewidth": 0,
              "ticks": ""
             }
            },
            "type": "scatterpolargl"
           }
          ],
          "scatterternary": [
           {
            "marker": {
             "colorbar": {
              "outlinewidth": 0,
              "ticks": ""
             }
            },
            "type": "scatterternary"
           }
          ],
          "surface": [
           {
            "colorbar": {
             "outlinewidth": 0,
             "ticks": ""
            },
            "colorscale": [
             [
              0,
              "#0d0887"
             ],
             [
              0.1111111111111111,
              "#46039f"
             ],
             [
              0.2222222222222222,
              "#7201a8"
             ],
             [
              0.3333333333333333,
              "#9c179e"
             ],
             [
              0.4444444444444444,
              "#bd3786"
             ],
             [
              0.5555555555555556,
              "#d8576b"
             ],
             [
              0.6666666666666666,
              "#ed7953"
             ],
             [
              0.7777777777777778,
              "#fb9f3a"
             ],
             [
              0.8888888888888888,
              "#fdca26"
             ],
             [
              1,
              "#f0f921"
             ]
            ],
            "type": "surface"
           }
          ],
          "table": [
           {
            "cells": {
             "fill": {
              "color": "#EBF0F8"
             },
             "line": {
              "color": "white"
             }
            },
            "header": {
             "fill": {
              "color": "#C8D4E3"
             },
             "line": {
              "color": "white"
             }
            },
            "type": "table"
           }
          ]
         },
         "layout": {
          "annotationdefaults": {
           "arrowcolor": "#2a3f5f",
           "arrowhead": 0,
           "arrowwidth": 1
          },
          "autotypenumbers": "strict",
          "coloraxis": {
           "colorbar": {
            "outlinewidth": 0,
            "ticks": ""
           }
          },
          "colorscale": {
           "diverging": [
            [
             0,
             "#8e0152"
            ],
            [
             0.1,
             "#c51b7d"
            ],
            [
             0.2,
             "#de77ae"
            ],
            [
             0.3,
             "#f1b6da"
            ],
            [
             0.4,
             "#fde0ef"
            ],
            [
             0.5,
             "#f7f7f7"
            ],
            [
             0.6,
             "#e6f5d0"
            ],
            [
             0.7,
             "#b8e186"
            ],
            [
             0.8,
             "#7fbc41"
            ],
            [
             0.9,
             "#4d9221"
            ],
            [
             1,
             "#276419"
            ]
           ],
           "sequential": [
            [
             0,
             "#0d0887"
            ],
            [
             0.1111111111111111,
             "#46039f"
            ],
            [
             0.2222222222222222,
             "#7201a8"
            ],
            [
             0.3333333333333333,
             "#9c179e"
            ],
            [
             0.4444444444444444,
             "#bd3786"
            ],
            [
             0.5555555555555556,
             "#d8576b"
            ],
            [
             0.6666666666666666,
             "#ed7953"
            ],
            [
             0.7777777777777778,
             "#fb9f3a"
            ],
            [
             0.8888888888888888,
             "#fdca26"
            ],
            [
             1,
             "#f0f921"
            ]
           ],
           "sequentialminus": [
            [
             0,
             "#0d0887"
            ],
            [
             0.1111111111111111,
             "#46039f"
            ],
            [
             0.2222222222222222,
             "#7201a8"
            ],
            [
             0.3333333333333333,
             "#9c179e"
            ],
            [
             0.4444444444444444,
             "#bd3786"
            ],
            [
             0.5555555555555556,
             "#d8576b"
            ],
            [
             0.6666666666666666,
             "#ed7953"
            ],
            [
             0.7777777777777778,
             "#fb9f3a"
            ],
            [
             0.8888888888888888,
             "#fdca26"
            ],
            [
             1,
             "#f0f921"
            ]
           ]
          },
          "colorway": [
           "#636efa",
           "#EF553B",
           "#00cc96",
           "#ab63fa",
           "#FFA15A",
           "#19d3f3",
           "#FF6692",
           "#B6E880",
           "#FF97FF",
           "#FECB52"
          ],
          "font": {
           "color": "#2a3f5f"
          },
          "geo": {
           "bgcolor": "white",
           "lakecolor": "white",
           "landcolor": "#E5ECF6",
           "showlakes": true,
           "showland": true,
           "subunitcolor": "white"
          },
          "hoverlabel": {
           "align": "left"
          },
          "hovermode": "closest",
          "mapbox": {
           "style": "light"
          },
          "paper_bgcolor": "white",
          "plot_bgcolor": "#E5ECF6",
          "polar": {
           "angularaxis": {
            "gridcolor": "white",
            "linecolor": "white",
            "ticks": ""
           },
           "bgcolor": "#E5ECF6",
           "radialaxis": {
            "gridcolor": "white",
            "linecolor": "white",
            "ticks": ""
           }
          },
          "scene": {
           "xaxis": {
            "backgroundcolor": "#E5ECF6",
            "gridcolor": "white",
            "gridwidth": 2,
            "linecolor": "white",
            "showbackground": true,
            "ticks": "",
            "zerolinecolor": "white"
           },
           "yaxis": {
            "backgroundcolor": "#E5ECF6",
            "gridcolor": "white",
            "gridwidth": 2,
            "linecolor": "white",
            "showbackground": true,
            "ticks": "",
            "zerolinecolor": "white"
           },
           "zaxis": {
            "backgroundcolor": "#E5ECF6",
            "gridcolor": "white",
            "gridwidth": 2,
            "linecolor": "white",
            "showbackground": true,
            "ticks": "",
            "zerolinecolor": "white"
           }
          },
          "shapedefaults": {
           "line": {
            "color": "#2a3f5f"
           }
          },
          "ternary": {
           "aaxis": {
            "gridcolor": "white",
            "linecolor": "white",
            "ticks": ""
           },
           "baxis": {
            "gridcolor": "white",
            "linecolor": "white",
            "ticks": ""
           },
           "bgcolor": "#E5ECF6",
           "caxis": {
            "gridcolor": "white",
            "linecolor": "white",
            "ticks": ""
           }
          },
          "title": {
           "x": 0.05
          },
          "xaxis": {
           "automargin": true,
           "gridcolor": "white",
           "linecolor": "white",
           "ticks": "",
           "title": {
            "standoff": 15
           },
           "zerolinecolor": "white",
           "zerolinewidth": 2
          },
          "yaxis": {
           "automargin": true,
           "gridcolor": "white",
           "linecolor": "white",
           "ticks": "",
           "title": {
            "standoff": 15
           },
           "zerolinecolor": "white",
           "zerolinewidth": 2
          }
         }
        },
        "title": {
         "text": "Average Current Price= 2843.72"
        },
        "xaxis": {
         "anchor": "y",
         "autorange": true,
         "domain": [
          0,
          1
         ],
         "range": [
          -12.663223390117194,
          221.6632233901172
         ],
         "title": {
          "text": "Stock"
         },
         "type": "category"
        },
        "yaxis": {
         "anchor": "x",
         "autorange": true,
         "domain": [
          0,
          1
         ],
         "range": [
          -12420.467914171659,
          102140.61791417166
         ],
         "title": {
          "text": "Current price"
         },
         "type": "linear"
        }
       }
      },
      "image/png": "[encoded data removed]",
      "text/html": [
       "<div>                            <div id=\"9db34057-cc6c-4965-8896-76002767516f\" class=\"plotly-graph-div\" style=\"height:525px; width:100%;\"></div>            <script type=\"text/javascript\">                require([\"plotly\"], function(Plotly) {                    window.PLOTLYENV=window.PLOTLYENV || {};                                    if (document.getElementById(\"9db34057-cc6c-4965-8896-76002767516f\")) {                    Plotly.newPlot(                        \"9db34057-cc6c-4965-8896-76002767516f\",                        [{\"hovertemplate\":\"Stock=%{x}<br>Current price=%{y}<extra></extra>\",\"legendgroup\":\"\",\"marker\":{\"color\":\"#636efa\",\"symbol\":\"circle\"},\"mode\":\"markers\",\"name\":\"\",\"orientation\":\"v\",\"showlegend\":false,\"x\":[\"TCS\",\"HUL\",\"Airtel\",\"Bajaj Finance\",\"Asian Paints\",\"HCL Tech\",\"Maruti Suzuki\",\"Avenue Supermart\",\"L&T\",\"Bajaj Finserv\",\"Nestle\",\"Ultratech Cement\",\"M&M\",\"Bajaj Auto\",\"Pidilite Industries\",\"SBI life Insurance\",\"Tata Steel\",\"Divi's Lab\",\"Tech Mahindra\",\"Dabur\",\"Britannia\",\"Eicher Motor\",\"Cipla\",\"Ambuja Cement\",\"SBI Cards\",\"L&T Infotech\",\"Havells India\",\"Nykaa\",\"Tata Consumer Product\",\"Tata Power\",\"Marico\",\"Berger Paint\",\"Motherson Sumi\",\"Hero Motocorp\",\"Zomato\",\"Infoedge\",\"Tata Elxsi\",\"UPL\",\"IRCTC\",\"Bandhan Bank\",\"Page Industries\",\"P&G Health\",\"Mphasis\",\"Paytm\",\"Balkrishna Industries\",\"Ashok Leyland\",\"Muthoot Finance\",\"United Breweries\",\"HDFC AMC\",\"PI industries\",\"TVS\",\"Trent\",\"sona comstar\",\"Astral Poly Technic\",\"Polycab\",\"Aurobindo Pharma\",\"Honeywell Auto\",\"MRF\",\"Gujarat Florochemical\",\"Gujarat Gas\",\"Max Financials\",\"Coromandel International\",\"PB Fintech\",\"Indraprastha Gas\",\"Lauras Lab\",\"Deepak Nitrite\",\"Relaxo Footwear\",\"Persistent System\",\"3M India\",\"IPCA Lab\",\"Bata India\",\"Coforge\",\"APL Apollo\",\"Crompton Greves\",\"Supreme Industries\",\"Bayer Cropscience\",\"Sumitomo Chemicals\",\"Dixon Technologies\",\"Tata Chemical\",\"Vinita Organics\",\"Whirlpool\",\"IDFC First\",\"Endurance Technology\",\"Pfizer\",\"Trident\",\"Navin Flourine\",\"LIC Housing Finance\",\"Dr Lal Path Lab\",\"IEX\",\"clean science\",\"Fine Organics\",\"Alembic Pharma\",\"Affle India\",\"Tanla Platform\",\"KPIT\",\"Sheela Form\",\"Indiamart Intermesh\",\"Happiest Mind\",\"CDSL\",\"Exide Battery\",\"Century Plyboard\",\"TTK Prestige\",\"CAMS\",\"Radico Khaitan\",\"KEI Industries\",\"Galaxy Surfactant\",\"Birlasoft\",\"Balaji Amine\",\"Mediplus\",\"Finolex Industries\",\"Borosil Renewable\",\"UTI AMC\",\"Amara Raja Batter\",\"Route Mobile\",\"Laxmi Orgamic\",\"HFCL\",\"Mahangar Gas\",\"Mannapuran Finance\",\"Amber Enterprise\",\"Poly Medicure Ltd\",\"Polyplex Corporation\",\"Sonata Software\",\"Astrazeneca\",\"Latent View\",\"Praj Industries\",\"ICICI Bank\",\"Granules India\",\"TCI Express\",\"Zensar Tech\",\"Mastek\",\"Garware technical\",\"GMM Pfaudler\",\"Sterlite technology\",\"Orient Electric\",\"Avanti Feed\",\"Cera Sanitaryware\",\"craftsman automation\",\"Bharat Rasayan\",\"Heidelberg Cement\",\"Astec Lifesciences\",\"Aarti Drugs\",\"Data Pattern\",\"Thyrocare\",\"Neogen Chemcial\",\"Dhanuka Agritech\",\"Advance Enzymes\",\"Wipro\",\"Newgen\",\"Sequent Science\",\"Tasty Bite Eatable\",\"Heranba\",\"Paras Defense\",\"Somany home innovation ltd\",\"Tata Motor\",\"Apollo pipes\",\"Garware hi-tech\",\"Chemcom Speciality\",\"Nureca\",\"Dr Reddy\",\"HDFC Bank\",\"Finolex Cable\",\"Nippon AMC\",\"Abbott India\",\"Axis Bank\",\"Bank of Baroda\",\"SBI Bank\",\"Federal Bank\",\"Shree Cement\",\"Infosys\",\"Reliance\",\"Acrysil Ltd\",\"HDFC life Insurance\",\"J K Cement\",\"ICICI Pru life insurance\",\"Titan\",\"Goldiam International\",\"United Spirits\",\"Rossari Biotech\",\"Kansai Nerolac\",\"Voltas\",\"L&T Technology\",\"Yesbank\",\"Gland Pharma\",\"Hawkins Cooker\",\"MTAR\",\"Vaibhav Global\",\"Atul Ltd\",\"MapmyIndia\",\"Sun pharma\",\"Caplin Point\",\"Cyient\",\"Varun Beverage\",\"Prince Pipe\",\"Jubilant FoodWorks\",\"Alkyl Amine\",\"HDFC\",\"AU Small Finance\",\"Hindustan Food\",\"Solar Industries\",\"Kotak Bank\",\"stove kraft\",\"Godrej Consumer\",\"Solara Active\",\"Kajaria Ceramic\",\"Metropolis Healthcare\",\"Aarti Industries\",\"Subex\",\"Crisil\",\"Lux Industries\",\"LIC\"],\"xaxis\":\"x\",\"y\":[3374.2,2620.6,764.6,5977.0,2912.0,1077.0,8454.2,3855.0,2153.75,1391.0,19782.3,7244.95,1327.55,3602.45,2513.0,1307.0,120.45,3352.15,1002.8,544.0,4328.0,3164.9,1068.85,518.7,786.05,4289.8,1167.55,147.6,752.8,206.55,497.5,564.0,77.15,2732.0,53.25,3731.8,6223.0,718.45,641.0,237.75,40260.0,13875.0,2035.55,559.9,2229.0,146.95,1065.5,1625.0,2148.0,3262.0,999.5,1205.75,426.0,2046.5,2662.0,435.3,39710.0,89700.0,2793.5,450.2,799.4,872.0,2776.7799065420563,416.85,357.4,1944.05,892.35,4009.0,22300.0,872.85,1580.0,3868.05,1136.0,337.35,2461.0,4669.05,493.2,3635.0,975.8,2000.0,1441.55,60.2,1398.5,4224.9,33.75,4080.6,402.9,2174.05,141.55,1463.5,5630.0,555.0,1024.0,731.9,696.3,1260.0,4477.0,885.05,1077.9,182.85,523.9,789.5,2274.0,1068.0,1436.05,2358.0,293.1,2562.7,629.0,173.0,499.35,807.2,576.5,1190.8,289.4,73.6,853.05,121.55,1870.0,891.5,1555.0,582.0,3515.05,367.25,353.0,873.25,318.6,1795.0,211.35,1714.7,3024.95,1567.45,171.0,267.2,389.4,5294.0,3465.1,9517.9,186.9,1669.3,448.0,1227.1,571.8,1242.8,717.5,276.7,393.65,382.15,85.4,10430.0,481.35,577.8,462.25,411.45,510.0,638.25,288.1,404.35,4323.5,1601.0,553.4,252.6,22241.0,933.9,184.9,600.05,138.45,24025.0,1503.5,2467.9,446.8,604.0,2900.45,468.9,2417.65,165.55,846.75,717.0,415.0,805.9,3446.95,20.15,1453.65,6195.0,1688.15,299.0,7701.2,1071.5,1031.05,2776.7799065420563,876.0,1134.8,590.7,498.25,2714.9,2619.25,619.0,578.05,4338.0,1780.5,498.5,916.75,423.0,1118.0,1380.05,581.8,36.2,3020.0,1524.7,712.7],\"yaxis\":\"y\",\"type\":\"scatter\"}],                        {\"template\":{\"data\":{\"histogram2dcontour\":[{\"type\":\"histogram2dcontour\",\"colorbar\":{\"outlinewidth\":0,\"ticks\":\"\"},\"colorscale\":[[0.0,\"#0d0887\"],[0.1111111111111111,\"#46039f\"],[0.2222222222222222,\"#7201a8\"],[0.3333333333333333,\"#9c179e\"],[0.4444444444444444,\"#bd3786\"],[0.5555555555555556,\"#d8576b\"],[0.6666666666666666,\"#ed7953\"],[0.7777777777777778,\"#fb9f3a\"],[0.8888888888888888,\"#fdca26\"],[1.0,\"#f0f921\"]]}],\"choropleth\":[{\"type\":\"choropleth\",\"colorbar\":{\"outlinewidth\":0,\"ticks\":\"\"}}],\"histogram2d\":[{\"type\":\"histogram2d\",\"colorbar\":{\"outlinewidth\":0,\"ticks\":\"\"},\"colorscale\":[[0.0,\"#0d0887\"],[0.1111111111111111,\"#46039f\"],[0.2222222222222222,\"#7201a8\"],[0.3333333333333333,\"#9c179e\"],[0.4444444444444444,\"#bd3786\"],[0.5555555555555556,\"#d8576b\"],[0.6666666666666666,\"#ed7953\"],[0.7777777777777778,\"#fb9f3a\"],[0.8888888888888888,\"#fdca26\"],[1.0,\"#f0f921\"]]}],\"heatmap\":[{\"type\":\"heatmap\",\"colorbar\":{\"outlinewidth\":0,\"ticks\":\"\"},\"colorscale\":[[0.0,\"#0d0887\"],[0.1111111111111111,\"#46039f\"],[0.2222222222222222,\"#7201a8\"],[0.3333333333333333,\"#9c179e\"],[0.4444444444444444,\"#bd3786\"],[0.5555555555555556,\"#d8576b\"],[0.6666666666666666,\"#ed7953\"],[0.7777777777777778,\"#fb9f3a\"],[0.8888888888888888,\"#fdca26\"],[1.0,\"#f0f921\"]]}],\"heatmapgl\":[{\"type\":\"heatmapgl\",\"colorbar\":{\"outlinewidth\":0,\"ticks\":\"\"},\"colorscale\":[[0.0,\"#0d0887\"],[0.1111111111111111,\"#46039f\"],[0.2222222222222222,\"#7201a8\"],[0.3333333333333333,\"#9c179e\"],[0.4444444444444444,\"#bd3786\"],[0.5555555555555556,\"#d8576b\"],[0.6666666666666666,\"#ed7953\"],[0.7777777777777778,\"#fb9f3a\"],[0.8888888888888888,\"#fdca26\"],[1.0,\"#f0f921\"]]}],\"contourcarpet\":[{\"type\":\"contourcarpet\",\"colorbar\":{\"outlinewidth\":0,\"ticks\":\"\"}}],\"contour\":[{\"type\":\"contour\",\"colorbar\":{\"outlinewidth\":0,\"ticks\":\"\"},\"colorscale\":[[0.0,\"#0d0887\"],[0.1111111111111111,\"#46039f\"],[0.2222222222222222,\"#7201a8\"],[0.3333333333333333,\"#9c179e\"],[0.4444444444444444,\"#bd3786\"],[0.5555555555555556,\"#d8576b\"],[0.6666666666666666,\"#ed7953\"],[0.7777777777777778,\"#fb9f3a\"],[0.8888888888888888,\"#fdca26\"],[1.0,\"#f0f921\"]]}],\"surface\":[{\"type\":\"surface\",\"colorbar\":{\"outlinewidth\":0,\"ticks\":\"\"},\"colorscale\":[[0.0,\"#0d0887\"],[0.1111111111111111,\"#46039f\"],[0.2222222222222222,\"#7201a8\"],[0.3333333333333333,\"#9c179e\"],[0.4444444444444444,\"#bd3786\"],[0.5555555555555556,\"#d8576b\"],[0.6666666666666666,\"#ed7953\"],[0.7777777777777778,\"#fb9f3a\"],[0.8888888888888888,\"#fdca26\"],[1.0,\"#f0f921\"]]}],\"mesh3d\":[{\"type\":\"mesh3d\",\"colorbar\":{\"outlinewidth\":0,\"ticks\":\"\"}}],\"scatter\":[{\"fillpattern\":{\"fillmode\":\"overlay\",\"size\":10,\"solidity\":0.2},\"type\":\"scatter\"}],\"parcoords\":[{\"type\":\"parcoords\",\"line\":{\"colorbar\":{\"outlinewidth\":0,\"ticks\":\"\"}}}],\"scatterpolargl\":[{\"type\":\"scatterpolargl\",\"marker\":{\"colorbar\":{\"outlinewidth\":0,\"ticks\":\"\"}}}],\"bar\":[{\"error_x\":{\"color\":\"#2a3f5f\"},\"error_y\":{\"color\":\"#2a3f5f\"},\"marker\":{\"line\":{\"color\":\"#E5ECF6\",\"width\":0.5},\"pattern\":{\"fillmode\":\"overlay\",\"size\":10,\"solidity\":0.2}},\"type\":\"bar\"}],\"scattergeo\":[{\"type\":\"scattergeo\",\"marker\":{\"colorbar\":{\"outlinewidth\":0,\"ticks\":\"\"}}}],\"scatterpolar\":[{\"type\":\"scatterpolar\",\"marker\":{\"colorbar\":{\"outlinewidth\":0,\"ticks\":\"\"}}}],\"histogram\":[{\"marker\":{\"pattern\":{\"fillmode\":\"overlay\",\"size\":10,\"solidity\":0.2}},\"type\":\"histogram\"}],\"scattergl\":[{\"type\":\"scattergl\",\"marker\":{\"colorbar\":{\"outlinewidth\":0,\"ticks\":\"\"}}}],\"scatter3d\":[{\"type\":\"scatter3d\",\"line\":{\"colorbar\":{\"outlinewidth\":0,\"ticks\":\"\"}},\"marker\":{\"colorbar\":{\"outlinewidth\":0,\"ticks\":\"\"}}}],\"scattermapbox\":[{\"type\":\"scattermapbox\",\"marker\":{\"colorbar\":{\"outlinewidth\":0,\"ticks\":\"\"}}}],\"scatterternary\":[{\"type\":\"scatterternary\",\"marker\":{\"colorbar\":{\"outlinewidth\":0,\"ticks\":\"\"}}}],\"scattercarpet\":[{\"type\":\"scattercarpet\",\"marker\":{\"colorbar\":{\"outlinewidth\":0,\"ticks\":\"\"}}}],\"carpet\":[{\"aaxis\":{\"endlinecolor\":\"#2a3f5f\",\"gridcolor\":\"white\",\"linecolor\":\"white\",\"minorgridcolor\":\"white\",\"startlinecolor\":\"#2a3f5f\"},\"baxis\":{\"endlinecolor\":\"#2a3f5f\",\"gridcolor\":\"white\",\"linecolor\":\"white\",\"minorgridcolor\":\"white\",\"startlinecolor\":\"#2a3f5f\"},\"type\":\"carpet\"}],\"table\":[{\"cells\":{\"fill\":{\"color\":\"#EBF0F8\"},\"line\":{\"color\":\"white\"}},\"header\":{\"fill\":{\"color\":\"#C8D4E3\"},\"line\":{\"color\":\"white\"}},\"type\":\"table\"}],\"barpolar\":[{\"marker\":{\"line\":{\"color\":\"#E5ECF6\",\"width\":0.5},\"pattern\":{\"fillmode\":\"overlay\",\"size\":10,\"solidity\":0.2}},\"type\":\"barpolar\"}],\"pie\":[{\"automargin\":true,\"type\":\"pie\"}]},\"layout\":{\"autotypenumbers\":\"strict\",\"colorway\":[\"#636efa\",\"#EF553B\",\"#00cc96\",\"#ab63fa\",\"#FFA15A\",\"#19d3f3\",\"#FF6692\",\"#B6E880\",\"#FF97FF\",\"#FECB52\"],\"font\":{\"color\":\"#2a3f5f\"},\"hovermode\":\"closest\",\"hoverlabel\":{\"align\":\"left\"},\"paper_bgcolor\":\"white\",\"plot_bgcolor\":\"#E5ECF6\",\"polar\":{\"bgcolor\":\"#E5ECF6\",\"angularaxis\":{\"gridcolor\":\"white\",\"linecolor\":\"white\",\"ticks\":\"\"},\"radialaxis\":{\"gridcolor\":\"white\",\"linecolor\":\"white\",\"ticks\":\"\"}},\"ternary\":{\"bgcolor\":\"#E5ECF6\",\"aaxis\":{\"gridcolor\":\"white\",\"linecolor\":\"white\",\"ticks\":\"\"},\"baxis\":{\"gridcolor\":\"white\",\"linecolor\":\"white\",\"ticks\":\"\"},\"caxis\":{\"gridcolor\":\"white\",\"linecolor\":\"white\",\"ticks\":\"\"}},\"coloraxis\":{\"colorbar\":{\"outlinewidth\":0,\"ticks\":\"\"}},\"colorscale\":{\"sequential\":[[0.0,\"#0d0887\"],[0.1111111111111111,\"#46039f\"],[0.2222222222222222,\"#7201a8\"],[0.3333333333333333,\"#9c179e\"],[0.4444444444444444,\"#bd3786\"],[0.5555555555555556,\"#d8576b\"],[0.6666666666666666,\"#ed7953\"],[0.7777777777777778,\"#fb9f3a\"],[0.8888888888888888,\"#fdca26\"],[1.0,\"#f0f921\"]],\"sequentialminus\":[[0.0,\"#0d0887\"],[0.1111111111111111,\"#46039f\"],[0.2222222222222222,\"#7201a8\"],[0.3333333333333333,\"#9c179e\"],[0.4444444444444444,\"#bd3786\"],[0.5555555555555556,\"#d8576b\"],[0.6666666666666666,\"#ed7953\"],[0.7777777777777778,\"#fb9f3a\"],[0.8888888888888888,\"#fdca26\"],[1.0,\"#f0f921\"]],\"diverging\":[[0,\"#8e0152\"],[0.1,\"#c51b7d\"],[0.2,\"#de77ae\"],[0.3,\"#f1b6da\"],[0.4,\"#fde0ef\"],[0.5,\"#f7f7f7\"],[0.6,\"#e6f5d0\"],[0.7,\"#b8e186\"],[0.8,\"#7fbc41\"],[0.9,\"#4d9221\"],[1,\"#276419\"]]},\"xaxis\":{\"gridcolor\":\"white\",\"linecolor\":\"white\",\"ticks\":\"\",\"title\":{\"standoff\":15},\"zerolinecolor\":\"white\",\"automargin\":true,\"zerolinewidth\":2},\"yaxis\":{\"gridcolor\":\"white\",\"linecolor\":\"white\",\"ticks\":\"\",\"title\":{\"standoff\":15},\"zerolinecolor\":\"white\",\"automargin\":true,\"zerolinewidth\":2},\"scene\":{\"xaxis\":{\"backgroundcolor\":\"#E5ECF6\",\"gridcolor\":\"white\",\"linecolor\":\"white\",\"showbackground\":true,\"ticks\":\"\",\"zerolinecolor\":\"white\",\"gridwidth\":2},\"yaxis\":{\"backgroundcolor\":\"#E5ECF6\",\"gridcolor\":\"white\",\"linecolor\":\"white\",\"showbackground\":true,\"ticks\":\"\",\"zerolinecolor\":\"white\",\"gridwidth\":2},\"zaxis\":{\"backgroundcolor\":\"#E5ECF6\",\"gridcolor\":\"white\",\"linecolor\":\"white\",\"showbackground\":true,\"ticks\":\"\",\"zerolinecolor\":\"white\",\"gridwidth\":2}},\"shapedefaults\":{\"line\":{\"color\":\"#2a3f5f\"}},\"annotationdefaults\":{\"arrowcolor\":\"#2a3f5f\",\"arrowhead\":0,\"arrowwidth\":1},\"geo\":{\"bgcolor\":\"white\",\"landcolor\":\"#E5ECF6\",\"subunitcolor\":\"white\",\"showland\":true,\"showlakes\":true,\"lakecolor\":\"white\"},\"title\":{\"x\":0.05},\"mapbox\":{\"style\":\"light\"}}},\"xaxis\":{\"anchor\":\"y\",\"domain\":[0.0,1.0],\"title\":{\"text\":\"Stock\"}},\"yaxis\":{\"anchor\":\"x\",\"domain\":[0.0,1.0],\"title\":{\"text\":\"Current price\"}},\"legend\":{\"tracegroupgap\":0},\"title\":{\"text\":\"Average Current Price= 2843.72\"}},                        {\"responsive\": true}                    ).then(function(){\n",
       "                            \n",
       "var gd = document.getElementById('9db34057-cc6c-4965-8896-76002767516f');\n",
       "var x = new MutationObserver(function (mutations, observer) {{\n",
       "        var display = window.getComputedStyle(gd).display;\n",
       "        if (!display || display === 'none') {{\n",
       "            console.log([gd, 'removed!']);\n",
       "            Plotly.purge(gd);\n",
       "            observer.disconnect();\n",
       "        }}\n",
       "}});\n",
       "\n",
       "// Listen for the removal of the full notebook cells\n",
       "var notebookContainer = gd.closest('#notebook-container');\n",
       "if (notebookContainer) {{\n",
       "    x.observe(notebookContainer, {childList: true});\n",
       "}}\n",
       "\n",
       "// Listen for the clearing of the current output cell\n",
       "var outputEl = gd.closest('.output');\n",
       "if (outputEl) {{\n",
       "    x.observe(outputEl, {childList: true});\n",
       "}}\n",
       "\n",
       "                        })                };                });            </script>        </div>"
      ]
     },
     "metadata": {},
     "output_type": "display_data"
    }
   ],
   "source": [
    "import plotly.express as px\n",
    "avg_price = str(round(np.mean(merge_df['Current price']),2))\n",
    "\n",
    "fig = px.scatter(merge_df, x='Stock' , y='Current price' ,\n",
    "                title= 'Average Current Price= '+avg_price)\n",
    "fig.show()"
   ]
  },
  {
   "cell_type": "code",
   "execution_count": 192,
   "id": "0da8d3e1-caf4-4ad1-a723-009fce58eb5d",
   "metadata": {},
   "outputs": [
    {
     "data": {
      "text/html": [
       "<div>\n",
       "<style scoped>\n",
       "    .dataframe tbody tr th:only-of-type {\n",
       "        vertical-align: middle;\n",
       "    }\n",
       "\n",
       "    .dataframe tbody tr th {\n",
       "        vertical-align: top;\n",
       "    }\n",
       "\n",
       "    .dataframe thead th {\n",
       "        text-align: right;\n",
       "    }\n",
       "</style>\n",
       "<table border=\"1\" class=\"dataframe\">\n",
       "  <thead>\n",
       "    <tr style=\"text-align: right;\">\n",
       "      <th></th>\n",
       "      <th>Stock</th>\n",
       "      <th>Market Cap (In Rs Cr.)</th>\n",
       "      <th>Current price</th>\n",
       "      <th>PE Ratio</th>\n",
       "      <th>52 Week High</th>\n",
       "      <th>% Below 52 week high</th>\n",
       "      <th>52 Week Low</th>\n",
       "      <th>% Above 52 Week low</th>\n",
       "      <th>Yesterday Closing Price</th>\n",
       "      <th>% Change</th>\n",
       "      <th>Industry</th>\n",
       "      <th>NSE &amp; BSE Code</th>\n",
       "      <th>Bear Mode1</th>\n",
       "      <th>Bear Mode2</th>\n",
       "      <th>Stock Status</th>\n",
       "      <th>cap_size</th>\n",
       "    </tr>\n",
       "  </thead>\n",
       "  <tbody>\n",
       "    <tr>\n",
       "      <th>62</th>\n",
       "      <td>PB Fintech</td>\n",
       "      <td>20673.263394</td>\n",
       "      <td>2776.779907</td>\n",
       "      <td>52.091493</td>\n",
       "      <td>1052.05</td>\n",
       "      <td>0.25057</td>\n",
       "      <td>356.2</td>\n",
       "      <td>0.248529</td>\n",
       "      <td>465.85</td>\n",
       "      <td>0.000568</td>\n",
       "      <td>Technology</td>\n",
       "      <td>BOM:543390</td>\n",
       "      <td>No</td>\n",
       "      <td>No</td>\n",
       "      <td>Good Stock</td>\n",
       "      <td>Small Cap</td>\n",
       "    </tr>\n",
       "  </tbody>\n",
       "</table>\n",
       "</div>"
      ],
      "text/plain": [
       "         Stock  Market Cap (In Rs Cr.)  Current price   PE Ratio  \\\n",
       "62  PB Fintech            20673.263394    2776.779907  52.091493   \n",
       "\n",
       "    52 Week High  % Below 52 week high  52 Week Low  % Above 52 Week low  \\\n",
       "62       1052.05               0.25057        356.2             0.248529   \n",
       "\n",
       "    Yesterday Closing Price  % Change    Industry NSE & BSE Code Bear Mode1  \\\n",
       "62                   465.85  0.000568  Technology     BOM:543390         No   \n",
       "\n",
       "   Bear Mode2 Stock Status   cap_size  \n",
       "62         No   Good Stock  Small Cap  "
      ]
     },
     "execution_count": 192,
     "metadata": {},
     "output_type": "execute_result"
    }
   ],
   "source": [
    "merge_df[merge_df['Current price'] > merge_df['52 Week High']]"
   ]
  },
  {
   "cell_type": "code",
   "execution_count": 195,
   "id": "99bd1935-29ba-481a-8940-597298c45d8b",
   "metadata": {},
   "outputs": [
    {
     "data": {
      "application/vnd.plotly.v1+json": {
       "config": {
        "plotlyServerURL": "https://plot.ly"
       },
       "data": [
        {
         "hovertemplate": "Stock=%{x}<br>Current Price=%{y}<extra></extra>",
         "legendgroup": "PB Fintech",
         "marker": {
          "color": "#636efa",
          "size": 10,
          "symbol": "circle"
         },
         "mode": "markers",
         "name": "PB Fintech",
         "orientation": "v",
         "showlegend": true,
         "type": "scatter",
         "x": [
          "PB Fintech"
         ],
         "xaxis": "x",
         "y": [
          2776.7799065420563
         ],
         "yaxis": "y"
        }
       ],
       "layout": {
        "autosize": true,
        "legend": {
         "title": {
          "text": "Stock"
         },
         "tracegroupgap": 0
        },
        "template": {
         "data": {
          "bar": [
           {
            "error_x": {
             "color": "#2a3f5f"
            },
            "error_y": {
             "color": "#2a3f5f"
            },
            "marker": {
             "line": {
              "color": "#E5ECF6",
              "width": 0.5
             },
             "pattern": {
              "fillmode": "overlay",
              "size": 10,
              "solidity": 0.2
             }
            },
            "type": "bar"
           }
          ],
          "barpolar": [
           {
            "marker": {
             "line": {
              "color": "#E5ECF6",
              "width": 0.5
             },
             "pattern": {
              "fillmode": "overlay",
              "size": 10,
              "solidity": 0.2
             }
            },
            "type": "barpolar"
           }
          ],
          "carpet": [
           {
            "aaxis": {
             "endlinecolor": "#2a3f5f",
             "gridcolor": "white",
             "linecolor": "white",
             "minorgridcolor": "white",
             "startlinecolor": "#2a3f5f"
            },
            "baxis": {
             "endlinecolor": "#2a3f5f",
             "gridcolor": "white",
             "linecolor": "white",
             "minorgridcolor": "white",
             "startlinecolor": "#2a3f5f"
            },
            "type": "carpet"
           }
          ],
          "choropleth": [
           {
            "colorbar": {
             "outlinewidth": 0,
             "ticks": ""
            },
            "type": "choropleth"
           }
          ],
          "contour": [
           {
            "colorbar": {
             "outlinewidth": 0,
             "ticks": ""
            },
            "colorscale": [
             [
              0,
              "#0d0887"
             ],
             [
              0.1111111111111111,
              "#46039f"
             ],
             [
              0.2222222222222222,
              "#7201a8"
             ],
             [
              0.3333333333333333,
              "#9c179e"
             ],
             [
              0.4444444444444444,
              "#bd3786"
             ],
             [
              0.5555555555555556,
              "#d8576b"
             ],
             [
              0.6666666666666666,
              "#ed7953"
             ],
             [
              0.7777777777777778,
              "#fb9f3a"
             ],
             [
              0.8888888888888888,
              "#fdca26"
             ],
             [
              1,
              "#f0f921"
             ]
            ],
            "type": "contour"
           }
          ],
          "contourcarpet": [
           {
            "colorbar": {
             "outlinewidth": 0,
             "ticks": ""
            },
            "type": "contourcarpet"
           }
          ],
          "heatmap": [
           {
            "colorbar": {
             "outlinewidth": 0,
             "ticks": ""
            },
            "colorscale": [
             [
              0,
              "#0d0887"
             ],
             [
              0.1111111111111111,
              "#46039f"
             ],
             [
              0.2222222222222222,
              "#7201a8"
             ],
             [
              0.3333333333333333,
              "#9c179e"
             ],
             [
              0.4444444444444444,
              "#bd3786"
             ],
             [
              0.5555555555555556,
              "#d8576b"
             ],
             [
              0.6666666666666666,
              "#ed7953"
             ],
             [
              0.7777777777777778,
              "#fb9f3a"
             ],
             [
              0.8888888888888888,
              "#fdca26"
             ],
             [
              1,
              "#f0f921"
             ]
            ],
            "type": "heatmap"
           }
          ],
          "heatmapgl": [
           {
            "colorbar": {
             "outlinewidth": 0,
             "ticks": ""
            },
            "colorscale": [
             [
              0,
              "#0d0887"
             ],
             [
              0.1111111111111111,
              "#46039f"
             ],
             [
              0.2222222222222222,
              "#7201a8"
             ],
             [
              0.3333333333333333,
              "#9c179e"
             ],
             [
              0.4444444444444444,
              "#bd3786"
             ],
             [
              0.5555555555555556,
              "#d8576b"
             ],
             [
              0.6666666666666666,
              "#ed7953"
             ],
             [
              0.7777777777777778,
              "#fb9f3a"
             ],
             [
              0.8888888888888888,
              "#fdca26"
             ],
             [
              1,
              "#f0f921"
             ]
            ],
            "type": "heatmapgl"
           }
          ],
          "histogram": [
           {
            "marker": {
             "pattern": {
              "fillmode": "overlay",
              "size": 10,
              "solidity": 0.2
             }
            },
            "type": "histogram"
           }
          ],
          "histogram2d": [
           {
            "colorbar": {
             "outlinewidth": 0,
             "ticks": ""
            },
            "colorscale": [
             [
              0,
              "#0d0887"
             ],
             [
              0.1111111111111111,
              "#46039f"
             ],
             [
              0.2222222222222222,
              "#7201a8"
             ],
             [
              0.3333333333333333,
              "#9c179e"
             ],
             [
              0.4444444444444444,
              "#bd3786"
             ],
             [
              0.5555555555555556,
              "#d8576b"
             ],
             [
              0.6666666666666666,
              "#ed7953"
             ],
             [
              0.7777777777777778,
              "#fb9f3a"
             ],
             [
              0.8888888888888888,
              "#fdca26"
             ],
             [
              1,
              "#f0f921"
             ]
            ],
            "type": "histogram2d"
           }
          ],
          "histogram2dcontour": [
           {
            "colorbar": {
             "outlinewidth": 0,
             "ticks": ""
            },
            "colorscale": [
             [
              0,
              "#0d0887"
             ],
             [
              0.1111111111111111,
              "#46039f"
             ],
             [
              0.2222222222222222,
              "#7201a8"
             ],
             [
              0.3333333333333333,
              "#9c179e"
             ],
             [
              0.4444444444444444,
              "#bd3786"
             ],
             [
              0.5555555555555556,
              "#d8576b"
             ],
             [
              0.6666666666666666,
              "#ed7953"
             ],
             [
              0.7777777777777778,
              "#fb9f3a"
             ],
             [
              0.8888888888888888,
              "#fdca26"
             ],
             [
              1,
              "#f0f921"
             ]
            ],
            "type": "histogram2dcontour"
           }
          ],
          "mesh3d": [
           {
            "colorbar": {
             "outlinewidth": 0,
             "ticks": ""
            },
            "type": "mesh3d"
           }
          ],
          "parcoords": [
           {
            "line": {
             "colorbar": {
              "outlinewidth": 0,
              "ticks": ""
             }
            },
            "type": "parcoords"
           }
          ],
          "pie": [
           {
            "automargin": true,
            "type": "pie"
           }
          ],
          "scatter": [
           {
            "fillpattern": {
             "fillmode": "overlay",
             "size": 10,
             "solidity": 0.2
            },
            "type": "scatter"
           }
          ],
          "scatter3d": [
           {
            "line": {
             "colorbar": {
              "outlinewidth": 0,
              "ticks": ""
             }
            },
            "marker": {
             "colorbar": {
              "outlinewidth": 0,
              "ticks": ""
             }
            },
            "type": "scatter3d"
           }
          ],
          "scattercarpet": [
           {
            "marker": {
             "colorbar": {
              "outlinewidth": 0,
              "ticks": ""
             }
            },
            "type": "scattercarpet"
           }
          ],
          "scattergeo": [
           {
            "marker": {
             "colorbar": {
              "outlinewidth": 0,
              "ticks": ""
             }
            },
            "type": "scattergeo"
           }
          ],
          "scattergl": [
           {
            "marker": {
             "colorbar": {
              "outlinewidth": 0,
              "ticks": ""
             }
            },
            "type": "scattergl"
           }
          ],
          "scattermapbox": [
           {
            "marker": {
             "colorbar": {
              "outlinewidth": 0,
              "ticks": ""
             }
            },
            "type": "scattermapbox"
           }
          ],
          "scatterpolar": [
           {
            "marker": {
             "colorbar": {
              "outlinewidth": 0,
              "ticks": ""
             }
            },
            "type": "scatterpolar"
           }
          ],
          "scatterpolargl": [
           {
            "marker": {
             "colorbar": {
              "outlinewidth": 0,
              "ticks": ""
             }
            },
            "type": "scatterpolargl"
           }
          ],
          "scatterternary": [
           {
            "marker": {
             "colorbar": {
              "outlinewidth": 0,
              "ticks": ""
             }
            },
            "type": "scatterternary"
           }
          ],
          "surface": [
           {
            "colorbar": {
             "outlinewidth": 0,
             "ticks": ""
            },
            "colorscale": [
             [
              0,
              "#0d0887"
             ],
             [
              0.1111111111111111,
              "#46039f"
             ],
             [
              0.2222222222222222,
              "#7201a8"
             ],
             [
              0.3333333333333333,
              "#9c179e"
             ],
             [
              0.4444444444444444,
              "#bd3786"
             ],
             [
              0.5555555555555556,
              "#d8576b"
             ],
             [
              0.6666666666666666,
              "#ed7953"
             ],
             [
              0.7777777777777778,
              "#fb9f3a"
             ],
             [
              0.8888888888888888,
              "#fdca26"
             ],
             [
              1,
              "#f0f921"
             ]
            ],
            "type": "surface"
           }
          ],
          "table": [
           {
            "cells": {
             "fill": {
              "color": "#EBF0F8"
             },
             "line": {
              "color": "white"
             }
            },
            "header": {
             "fill": {
              "color": "#C8D4E3"
             },
             "line": {
              "color": "white"
             }
            },
            "type": "table"
           }
          ]
         },
         "layout": {
          "annotationdefaults": {
           "arrowcolor": "#2a3f5f",
           "arrowhead": 0,
           "arrowwidth": 1
          },
          "autotypenumbers": "strict",
          "coloraxis": {
           "colorbar": {
            "outlinewidth": 0,
            "ticks": ""
           }
          },
          "colorscale": {
           "diverging": [
            [
             0,
             "#8e0152"
            ],
            [
             0.1,
             "#c51b7d"
            ],
            [
             0.2,
             "#de77ae"
            ],
            [
             0.3,
             "#f1b6da"
            ],
            [
             0.4,
             "#fde0ef"
            ],
            [
             0.5,
             "#f7f7f7"
            ],
            [
             0.6,
             "#e6f5d0"
            ],
            [
             0.7,
             "#b8e186"
            ],
            [
             0.8,
             "#7fbc41"
            ],
            [
             0.9,
             "#4d9221"
            ],
            [
             1,
             "#276419"
            ]
           ],
           "sequential": [
            [
             0,
             "#0d0887"
            ],
            [
             0.1111111111111111,
             "#46039f"
            ],
            [
             0.2222222222222222,
             "#7201a8"
            ],
            [
             0.3333333333333333,
             "#9c179e"
            ],
            [
             0.4444444444444444,
             "#bd3786"
            ],
            [
             0.5555555555555556,
             "#d8576b"
            ],
            [
             0.6666666666666666,
             "#ed7953"
            ],
            [
             0.7777777777777778,
             "#fb9f3a"
            ],
            [
             0.8888888888888888,
             "#fdca26"
            ],
            [
             1,
             "#f0f921"
            ]
           ],
           "sequentialminus": [
            [
             0,
             "#0d0887"
            ],
            [
             0.1111111111111111,
             "#46039f"
            ],
            [
             0.2222222222222222,
             "#7201a8"
            ],
            [
             0.3333333333333333,
             "#9c179e"
            ],
            [
             0.4444444444444444,
             "#bd3786"
            ],
            [
             0.5555555555555556,
             "#d8576b"
            ],
            [
             0.6666666666666666,
             "#ed7953"
            ],
            [
             0.7777777777777778,
             "#fb9f3a"
            ],
            [
             0.8888888888888888,
             "#fdca26"
            ],
            [
             1,
             "#f0f921"
            ]
           ]
          },
          "colorway": [
           "#636efa",
           "#EF553B",
           "#00cc96",
           "#ab63fa",
           "#FFA15A",
           "#19d3f3",
           "#FF6692",
           "#B6E880",
           "#FF97FF",
           "#FECB52"
          ],
          "font": {
           "color": "#2a3f5f"
          },
          "geo": {
           "bgcolor": "white",
           "lakecolor": "white",
           "landcolor": "#E5ECF6",
           "showlakes": true,
           "showland": true,
           "subunitcolor": "white"
          },
          "hoverlabel": {
           "align": "left"
          },
          "hovermode": "closest",
          "mapbox": {
           "style": "light"
          },
          "paper_bgcolor": "white",
          "plot_bgcolor": "#E5ECF6",
          "polar": {
           "angularaxis": {
            "gridcolor": "white",
            "linecolor": "white",
            "ticks": ""
           },
           "bgcolor": "#E5ECF6",
           "radialaxis": {
            "gridcolor": "white",
            "linecolor": "white",
            "ticks": ""
           }
          },
          "scene": {
           "xaxis": {
            "backgroundcolor": "#E5ECF6",
            "gridcolor": "white",
            "gridwidth": 2,
            "linecolor": "white",
            "showbackground": true,
            "ticks": "",
            "zerolinecolor": "white"
           },
           "yaxis": {
            "backgroundcolor": "#E5ECF6",
            "gridcolor": "white",
            "gridwidth": 2,
            "linecolor": "white",
            "showbackground": true,
            "ticks": "",
            "zerolinecolor": "white"
           },
           "zaxis": {
            "backgroundcolor": "#E5ECF6",
            "gridcolor": "white",
            "gridwidth": 2,
            "linecolor": "white",
            "showbackground": true,
            "ticks": "",
            "zerolinecolor": "white"
           }
          },
          "shapedefaults": {
           "line": {
            "color": "#2a3f5f"
           }
          },
          "ternary": {
           "aaxis": {
            "gridcolor": "white",
            "linecolor": "white",
            "ticks": ""
           },
           "baxis": {
            "gridcolor": "white",
            "linecolor": "white",
            "ticks": ""
           },
           "bgcolor": "#E5ECF6",
           "caxis": {
            "gridcolor": "white",
            "linecolor": "white",
            "ticks": ""
           }
          },
          "title": {
           "x": 0.05
          },
          "xaxis": {
           "automargin": true,
           "gridcolor": "white",
           "linecolor": "white",
           "ticks": "",
           "title": {
            "standoff": 15
           },
           "zerolinecolor": "white",
           "zerolinewidth": 2
          },
          "yaxis": {
           "automargin": true,
           "gridcolor": "white",
           "linecolor": "white",
           "ticks": "",
           "title": {
            "standoff": 15
           },
           "zerolinecolor": "white",
           "zerolinewidth": 2
          }
         }
        },
        "title": {
         "text": "Stocks with Current Price > 52-Week High"
        },
        "xaxis": {
         "anchor": "y",
         "autorange": true,
         "categoryarray": [
          "PB Fintech"
         ],
         "categoryorder": "array",
         "domain": [
          0,
          1
         ],
         "range": [
          -1,
          1
         ],
         "title": {
          "text": "Stock"
         },
         "type": "category"
        },
        "yaxis": {
         "anchor": "x",
         "autorange": true,
         "domain": [
          0,
          1
         ],
         "range": [
          2775.7799065420563,
          2777.7799065420563
         ],
         "title": {
          "text": "Current Price"
         },
         "type": "linear"
        }
       }
      },
      "image/png": "[encoded data removed]",
      "text/html": [
       "<div>                            <div id=\"68cee60e-518f-42e5-9cb5-31ddb240dc97\" class=\"plotly-graph-div\" style=\"height:525px; width:100%;\"></div>            <script type=\"text/javascript\">                require([\"plotly\"], function(Plotly) {                    window.PLOTLYENV=window.PLOTLYENV || {};                                    if (document.getElementById(\"68cee60e-518f-42e5-9cb5-31ddb240dc97\")) {                    Plotly.newPlot(                        \"68cee60e-518f-42e5-9cb5-31ddb240dc97\",                        [{\"hovertemplate\":\"Stock=%{x}<br>Current Price=%{y}<extra></extra>\",\"legendgroup\":\"PB Fintech\",\"marker\":{\"color\":\"#636efa\",\"symbol\":\"circle\",\"size\":10},\"mode\":\"markers\",\"name\":\"PB Fintech\",\"orientation\":\"v\",\"showlegend\":true,\"x\":[\"PB Fintech\"],\"xaxis\":\"x\",\"y\":[2776.7799065420563],\"yaxis\":\"y\",\"type\":\"scatter\"}],                        {\"template\":{\"data\":{\"histogram2dcontour\":[{\"type\":\"histogram2dcontour\",\"colorbar\":{\"outlinewidth\":0,\"ticks\":\"\"},\"colorscale\":[[0.0,\"#0d0887\"],[0.1111111111111111,\"#46039f\"],[0.2222222222222222,\"#7201a8\"],[0.3333333333333333,\"#9c179e\"],[0.4444444444444444,\"#bd3786\"],[0.5555555555555556,\"#d8576b\"],[0.6666666666666666,\"#ed7953\"],[0.7777777777777778,\"#fb9f3a\"],[0.8888888888888888,\"#fdca26\"],[1.0,\"#f0f921\"]]}],\"choropleth\":[{\"type\":\"choropleth\",\"colorbar\":{\"outlinewidth\":0,\"ticks\":\"\"}}],\"histogram2d\":[{\"type\":\"histogram2d\",\"colorbar\":{\"outlinewidth\":0,\"ticks\":\"\"},\"colorscale\":[[0.0,\"#0d0887\"],[0.1111111111111111,\"#46039f\"],[0.2222222222222222,\"#7201a8\"],[0.3333333333333333,\"#9c179e\"],[0.4444444444444444,\"#bd3786\"],[0.5555555555555556,\"#d8576b\"],[0.6666666666666666,\"#ed7953\"],[0.7777777777777778,\"#fb9f3a\"],[0.8888888888888888,\"#fdca26\"],[1.0,\"#f0f921\"]]}],\"heatmap\":[{\"type\":\"heatmap\",\"colorbar\":{\"outlinewidth\":0,\"ticks\":\"\"},\"colorscale\":[[0.0,\"#0d0887\"],[0.1111111111111111,\"#46039f\"],[0.2222222222222222,\"#7201a8\"],[0.3333333333333333,\"#9c179e\"],[0.4444444444444444,\"#bd3786\"],[0.5555555555555556,\"#d8576b\"],[0.6666666666666666,\"#ed7953\"],[0.7777777777777778,\"#fb9f3a\"],[0.8888888888888888,\"#fdca26\"],[1.0,\"#f0f921\"]]}],\"heatmapgl\":[{\"type\":\"heatmapgl\",\"colorbar\":{\"outlinewidth\":0,\"ticks\":\"\"},\"colorscale\":[[0.0,\"#0d0887\"],[0.1111111111111111,\"#46039f\"],[0.2222222222222222,\"#7201a8\"],[0.3333333333333333,\"#9c179e\"],[0.4444444444444444,\"#bd3786\"],[0.5555555555555556,\"#d8576b\"],[0.6666666666666666,\"#ed7953\"],[0.7777777777777778,\"#fb9f3a\"],[0.8888888888888888,\"#fdca26\"],[1.0,\"#f0f921\"]]}],\"contourcarpet\":[{\"type\":\"contourcarpet\",\"colorbar\":{\"outlinewidth\":0,\"ticks\":\"\"}}],\"contour\":[{\"type\":\"contour\",\"colorbar\":{\"outlinewidth\":0,\"ticks\":\"\"},\"colorscale\":[[0.0,\"#0d0887\"],[0.1111111111111111,\"#46039f\"],[0.2222222222222222,\"#7201a8\"],[0.3333333333333333,\"#9c179e\"],[0.4444444444444444,\"#bd3786\"],[0.5555555555555556,\"#d8576b\"],[0.6666666666666666,\"#ed7953\"],[0.7777777777777778,\"#fb9f3a\"],[0.8888888888888888,\"#fdca26\"],[1.0,\"#f0f921\"]]}],\"surface\":[{\"type\":\"surface\",\"colorbar\":{\"outlinewidth\":0,\"ticks\":\"\"},\"colorscale\":[[0.0,\"#0d0887\"],[0.1111111111111111,\"#46039f\"],[0.2222222222222222,\"#7201a8\"],[0.3333333333333333,\"#9c179e\"],[0.4444444444444444,\"#bd3786\"],[0.5555555555555556,\"#d8576b\"],[0.6666666666666666,\"#ed7953\"],[0.7777777777777778,\"#fb9f3a\"],[0.8888888888888888,\"#fdca26\"],[1.0,\"#f0f921\"]]}],\"mesh3d\":[{\"type\":\"mesh3d\",\"colorbar\":{\"outlinewidth\":0,\"ticks\":\"\"}}],\"scatter\":[{\"fillpattern\":{\"fillmode\":\"overlay\",\"size\":10,\"solidity\":0.2},\"type\":\"scatter\"}],\"parcoords\":[{\"type\":\"parcoords\",\"line\":{\"colorbar\":{\"outlinewidth\":0,\"ticks\":\"\"}}}],\"scatterpolargl\":[{\"type\":\"scatterpolargl\",\"marker\":{\"colorbar\":{\"outlinewidth\":0,\"ticks\":\"\"}}}],\"bar\":[{\"error_x\":{\"color\":\"#2a3f5f\"},\"error_y\":{\"color\":\"#2a3f5f\"},\"marker\":{\"line\":{\"color\":\"#E5ECF6\",\"width\":0.5},\"pattern\":{\"fillmode\":\"overlay\",\"size\":10,\"solidity\":0.2}},\"type\":\"bar\"}],\"scattergeo\":[{\"type\":\"scattergeo\",\"marker\":{\"colorbar\":{\"outlinewidth\":0,\"ticks\":\"\"}}}],\"scatterpolar\":[{\"type\":\"scatterpolar\",\"marker\":{\"colorbar\":{\"outlinewidth\":0,\"ticks\":\"\"}}}],\"histogram\":[{\"marker\":{\"pattern\":{\"fillmode\":\"overlay\",\"size\":10,\"solidity\":0.2}},\"type\":\"histogram\"}],\"scattergl\":[{\"type\":\"scattergl\",\"marker\":{\"colorbar\":{\"outlinewidth\":0,\"ticks\":\"\"}}}],\"scatter3d\":[{\"type\":\"scatter3d\",\"line\":{\"colorbar\":{\"outlinewidth\":0,\"ticks\":\"\"}},\"marker\":{\"colorbar\":{\"outlinewidth\":0,\"ticks\":\"\"}}}],\"scattermapbox\":[{\"type\":\"scattermapbox\",\"marker\":{\"colorbar\":{\"outlinewidth\":0,\"ticks\":\"\"}}}],\"scatterternary\":[{\"type\":\"scatterternary\",\"marker\":{\"colorbar\":{\"outlinewidth\":0,\"ticks\":\"\"}}}],\"scattercarpet\":[{\"type\":\"scattercarpet\",\"marker\":{\"colorbar\":{\"outlinewidth\":0,\"ticks\":\"\"}}}],\"carpet\":[{\"aaxis\":{\"endlinecolor\":\"#2a3f5f\",\"gridcolor\":\"white\",\"linecolor\":\"white\",\"minorgridcolor\":\"white\",\"startlinecolor\":\"#2a3f5f\"},\"baxis\":{\"endlinecolor\":\"#2a3f5f\",\"gridcolor\":\"white\",\"linecolor\":\"white\",\"minorgridcolor\":\"white\",\"startlinecolor\":\"#2a3f5f\"},\"type\":\"carpet\"}],\"table\":[{\"cells\":{\"fill\":{\"color\":\"#EBF0F8\"},\"line\":{\"color\":\"white\"}},\"header\":{\"fill\":{\"color\":\"#C8D4E3\"},\"line\":{\"color\":\"white\"}},\"type\":\"table\"}],\"barpolar\":[{\"marker\":{\"line\":{\"color\":\"#E5ECF6\",\"width\":0.5},\"pattern\":{\"fillmode\":\"overlay\",\"size\":10,\"solidity\":0.2}},\"type\":\"barpolar\"}],\"pie\":[{\"automargin\":true,\"type\":\"pie\"}]},\"layout\":{\"autotypenumbers\":\"strict\",\"colorway\":[\"#636efa\",\"#EF553B\",\"#00cc96\",\"#ab63fa\",\"#FFA15A\",\"#19d3f3\",\"#FF6692\",\"#B6E880\",\"#FF97FF\",\"#FECB52\"],\"font\":{\"color\":\"#2a3f5f\"},\"hovermode\":\"closest\",\"hoverlabel\":{\"align\":\"left\"},\"paper_bgcolor\":\"white\",\"plot_bgcolor\":\"#E5ECF6\",\"polar\":{\"bgcolor\":\"#E5ECF6\",\"angularaxis\":{\"gridcolor\":\"white\",\"linecolor\":\"white\",\"ticks\":\"\"},\"radialaxis\":{\"gridcolor\":\"white\",\"linecolor\":\"white\",\"ticks\":\"\"}},\"ternary\":{\"bgcolor\":\"#E5ECF6\",\"aaxis\":{\"gridcolor\":\"white\",\"linecolor\":\"white\",\"ticks\":\"\"},\"baxis\":{\"gridcolor\":\"white\",\"linecolor\":\"white\",\"ticks\":\"\"},\"caxis\":{\"gridcolor\":\"white\",\"linecolor\":\"white\",\"ticks\":\"\"}},\"coloraxis\":{\"colorbar\":{\"outlinewidth\":0,\"ticks\":\"\"}},\"colorscale\":{\"sequential\":[[0.0,\"#0d0887\"],[0.1111111111111111,\"#46039f\"],[0.2222222222222222,\"#7201a8\"],[0.3333333333333333,\"#9c179e\"],[0.4444444444444444,\"#bd3786\"],[0.5555555555555556,\"#d8576b\"],[0.6666666666666666,\"#ed7953\"],[0.7777777777777778,\"#fb9f3a\"],[0.8888888888888888,\"#fdca26\"],[1.0,\"#f0f921\"]],\"sequentialminus\":[[0.0,\"#0d0887\"],[0.1111111111111111,\"#46039f\"],[0.2222222222222222,\"#7201a8\"],[0.3333333333333333,\"#9c179e\"],[0.4444444444444444,\"#bd3786\"],[0.5555555555555556,\"#d8576b\"],[0.6666666666666666,\"#ed7953\"],[0.7777777777777778,\"#fb9f3a\"],[0.8888888888888888,\"#fdca26\"],[1.0,\"#f0f921\"]],\"diverging\":[[0,\"#8e0152\"],[0.1,\"#c51b7d\"],[0.2,\"#de77ae\"],[0.3,\"#f1b6da\"],[0.4,\"#fde0ef\"],[0.5,\"#f7f7f7\"],[0.6,\"#e6f5d0\"],[0.7,\"#b8e186\"],[0.8,\"#7fbc41\"],[0.9,\"#4d9221\"],[1,\"#276419\"]]},\"xaxis\":{\"gridcolor\":\"white\",\"linecolor\":\"white\",\"ticks\":\"\",\"title\":{\"standoff\":15},\"zerolinecolor\":\"white\",\"automargin\":true,\"zerolinewidth\":2},\"yaxis\":{\"gridcolor\":\"white\",\"linecolor\":\"white\",\"ticks\":\"\",\"title\":{\"standoff\":15},\"zerolinecolor\":\"white\",\"automargin\":true,\"zerolinewidth\":2},\"scene\":{\"xaxis\":{\"backgroundcolor\":\"#E5ECF6\",\"gridcolor\":\"white\",\"linecolor\":\"white\",\"showbackground\":true,\"ticks\":\"\",\"zerolinecolor\":\"white\",\"gridwidth\":2},\"yaxis\":{\"backgroundcolor\":\"#E5ECF6\",\"gridcolor\":\"white\",\"linecolor\":\"white\",\"showbackground\":true,\"ticks\":\"\",\"zerolinecolor\":\"white\",\"gridwidth\":2},\"zaxis\":{\"backgroundcolor\":\"#E5ECF6\",\"gridcolor\":\"white\",\"linecolor\":\"white\",\"showbackground\":true,\"ticks\":\"\",\"zerolinecolor\":\"white\",\"gridwidth\":2}},\"shapedefaults\":{\"line\":{\"color\":\"#2a3f5f\"}},\"annotationdefaults\":{\"arrowcolor\":\"#2a3f5f\",\"arrowhead\":0,\"arrowwidth\":1},\"geo\":{\"bgcolor\":\"white\",\"landcolor\":\"#E5ECF6\",\"subunitcolor\":\"white\",\"showland\":true,\"showlakes\":true,\"lakecolor\":\"white\"},\"title\":{\"x\":0.05},\"mapbox\":{\"style\":\"light\"}}},\"xaxis\":{\"anchor\":\"y\",\"domain\":[0.0,1.0],\"title\":{\"text\":\"Stock\"},\"categoryorder\":\"array\",\"categoryarray\":[\"PB Fintech\"]},\"yaxis\":{\"anchor\":\"x\",\"domain\":[0.0,1.0],\"title\":{\"text\":\"Current Price\"}},\"legend\":{\"title\":{\"text\":\"Stock\"},\"tracegroupgap\":0},\"title\":{\"text\":\"Stocks with Current Price > 52-Week High\"}},                        {\"responsive\": true}                    ).then(function(){\n",
       "                            \n",
       "var gd = document.getElementById('68cee60e-518f-42e5-9cb5-31ddb240dc97');\n",
       "var x = new MutationObserver(function (mutations, observer) {{\n",
       "        var display = window.getComputedStyle(gd).display;\n",
       "        if (!display || display === 'none') {{\n",
       "            console.log([gd, 'removed!']);\n",
       "            Plotly.purge(gd);\n",
       "            observer.disconnect();\n",
       "        }}\n",
       "}});\n",
       "\n",
       "// Listen for the removal of the full notebook cells\n",
       "var notebookContainer = gd.closest('#notebook-container');\n",
       "if (notebookContainer) {{\n",
       "    x.observe(notebookContainer, {childList: true});\n",
       "}}\n",
       "\n",
       "// Listen for the clearing of the current output cell\n",
       "var outputEl = gd.closest('.output');\n",
       "if (outputEl) {{\n",
       "    x.observe(outputEl, {childList: true});\n",
       "}}\n",
       "\n",
       "                        })                };                });            </script>        </div>"
      ]
     },
     "metadata": {},
     "output_type": "display_data"
    }
   ],
   "source": [
    "import plotly.express as px\n",
    "\n",
    "filtered_df = merge_df[merge_df['Current price'] > merge_df['52 Week High']]\n",
    "\n",
    "fig = px.scatter(filtered_df, x='Stock', y='Current price', color='Stock',\n",
    "                 title='Stocks with Current Price > 52-Week High',\n",
    "                 labels={'Stock': 'Stock', 'Current price': 'Current Price'})\n",
    "\n",
    "fig.update_traces(marker=dict(size=10))\n",
    "\n",
    "\n",
    "\n",
    "fig.show()\n"
   ]
  },
  {
   "cell_type": "code",
   "execution_count": null,
   "id": "8dae6153-f39b-4ec1-b23e-5fd86a319059",
   "metadata": {},
   "outputs": [
    {
     "data": {
      "image/png": "[encoded data removed]",
      "text/plain": [
       "<Figure size 640x480 with 1 Axes>"
      ]
     },
     "metadata": {},
     "output_type": "display_data"
    }
   ],
   "source": [
    "merge_df['Market Cap (In Rs Cr.)'].plot(kind=\"area\", color= 'r', grid= \"True\")\n",
    "plt.xlabel(\"Market Capitalisation\")\n",
    "plt.ylabel(\"Market Value in cr.\")\n",
    "plt.rcParams['figure.figsize'] = (10, 6)\n",
    "plt.title(\"Market Capitalization vs. Market Rate\")\n",
    "plt.legend([\"Market Capitalisation vs Market value\"])\n",
    "plt.show()"
   ]
  },
  {
   "cell_type": "code",
   "execution_count": 62,
   "id": "a7f97e8f-4f03-4ee3-b935-67983c502830",
   "metadata": {},
   "outputs": [
    {
     "data": {
      "image/png": "[encoded data removed]",
      "text/plain": [
       "<Figure size 1000x600 with 1 Axes>"
      ]
     },
     "metadata": {},
     "output_type": "display_data"
    }
   ],
   "source": [
    "#What is the average PE ratio for the stocks in the dataset? This will give us an idea of how expensive the stocks in the dataset are.\n",
    "merge_df['Market Cap (In Rs Cr.)'].plot(kind=\"area\", color= 'r', grid= \"True\")\n",
    "plt.xlabel(\"Market Capitalisation\")\n",
    "plt.ylabel(\"Market Value in cr.\")\n",
    "plt.rcParams['figure.figsize'] = (10, 6)\n",
    "plt.title(\"Market Capitalization vs. Market Rate\")\n",
    "plt.legend([\"Average PE Ratio=\",str(np.mean(merge_df['PE Ratio']))])\n",
    "plt.show()"
   ]
  },
  {
   "cell_type": "code",
   "execution_count": 63,
   "id": "1db665e8-6ac6-47f7-90ea-7482330be98d",
   "metadata": {},
   "outputs": [
    {
     "data": {
      "text/plain": [
       "array([[1.        , 0.01683598],\n",
       "       [0.01683598, 1.        ]])"
      ]
     },
     "execution_count": 63,
     "metadata": {},
     "output_type": "execute_result"
    }
   ],
   "source": [
    "#What is the correlation between market capitalization and current price? This will tell us whether there is a relationship between the size\n",
    "#of a company and its stock price.\n",
    "\n",
    "corr_mat = np.corrcoef(merge_df['Market Cap (In Rs Cr.)'] , merge_df['Current price'])\n",
    "corr_mat"
   ]
  },
  {
   "cell_type": "code",
   "execution_count": 64,
   "id": "a28d95ed-9db7-4db3-ae05-5afc6457edcc",
   "metadata": {},
   "outputs": [
    {
     "data": {
      "image/png": "[encoded data removed]",
      "text/plain": [
       "<Figure size 1000x600 with 2 Axes>"
      ]
     },
     "metadata": {},
     "output_type": "display_data"
    }
   ],
   "source": [
    "import seaborn as sns\n",
    "sns.heatmap(corr_mat,annot=True,fmt= '2f', square=True) \n",
    "plt.show()"
   ]
  },
  {
   "cell_type": "markdown",
   "id": "5631acc1-709b-4b45-90bd-034d069e9962",
   "metadata": {},
   "source": [
    "#### from the above matrix it is clear that Market Capitalisation and Current Price have weak possitive correlation. Current price have litlle influence of Market Capitalisation "
   ]
  },
  {
   "cell_type": "code",
   "execution_count": 65,
   "id": "12738076-7069-4e97-8474-0c280b67b46d",
   "metadata": {},
   "outputs": [
    {
     "name": "stderr",
     "output_type": "stream",
     "text": [
      "C:\\Users\\Asus\\AppData\\Local\\Temp\\ipykernel_19940\\298955866.py:2: FutureWarning: The default value of numeric_only in DataFrame.corr is deprecated. In a future version, it will default to False. Select only valid columns or specify the value of numeric_only to silence this warning.\n",
      "  df_corr = merge_df.corr()\n"
     ]
    },
    {
     "data": {
      "text/html": [
       "<div>\n",
       "<style scoped>\n",
       "    .dataframe tbody tr th:only-of-type {\n",
       "        vertical-align: middle;\n",
       "    }\n",
       "\n",
       "    .dataframe tbody tr th {\n",
       "        vertical-align: top;\n",
       "    }\n",
       "\n",
       "    .dataframe thead th {\n",
       "        text-align: right;\n",
       "    }\n",
       "</style>\n",
       "<table border=\"1\" class=\"dataframe\">\n",
       "  <thead>\n",
       "    <tr style=\"text-align: right;\">\n",
       "      <th></th>\n",
       "      <th>Market Cap (In Rs Cr.)</th>\n",
       "      <th>Current price</th>\n",
       "      <th>PE Ratio</th>\n",
       "      <th>52 Week High</th>\n",
       "      <th>% Below 52 week high</th>\n",
       "      <th>52 Week Low</th>\n",
       "      <th>% Above 52 Week low</th>\n",
       "      <th>Yesterday Closing Price</th>\n",
       "      <th>% Change</th>\n",
       "    </tr>\n",
       "  </thead>\n",
       "  <tbody>\n",
       "    <tr>\n",
       "      <th>Market Cap (In Rs Cr.)</th>\n",
       "      <td>1.000000</td>\n",
       "      <td>0.016836</td>\n",
       "      <td>-0.041204</td>\n",
       "      <td>0.009282</td>\n",
       "      <td>-0.224006</td>\n",
       "      <td>0.019630</td>\n",
       "      <td>0.023812</td>\n",
       "      <td>0.016849</td>\n",
       "      <td>0.083530</td>\n",
       "    </tr>\n",
       "    <tr>\n",
       "      <th>Current price</th>\n",
       "      <td>0.016836</td>\n",
       "      <td>1.000000</td>\n",
       "      <td>0.022290</td>\n",
       "      <td>0.993819</td>\n",
       "      <td>-0.166789</td>\n",
       "      <td>0.992406</td>\n",
       "      <td>0.045528</td>\n",
       "      <td>0.999779</td>\n",
       "      <td>-0.003788</td>\n",
       "    </tr>\n",
       "    <tr>\n",
       "      <th>PE Ratio</th>\n",
       "      <td>-0.041204</td>\n",
       "      <td>0.022290</td>\n",
       "      <td>1.000000</td>\n",
       "      <td>0.020596</td>\n",
       "      <td>0.151731</td>\n",
       "      <td>0.021018</td>\n",
       "      <td>0.060004</td>\n",
       "      <td>0.022424</td>\n",
       "      <td>-0.075479</td>\n",
       "    </tr>\n",
       "    <tr>\n",
       "      <th>52 Week High</th>\n",
       "      <td>0.009282</td>\n",
       "      <td>0.993819</td>\n",
       "      <td>0.020596</td>\n",
       "      <td>1.000000</td>\n",
       "      <td>-0.123300</td>\n",
       "      <td>0.997222</td>\n",
       "      <td>0.016565</td>\n",
       "      <td>0.994302</td>\n",
       "      <td>-0.015019</td>\n",
       "    </tr>\n",
       "    <tr>\n",
       "      <th>% Below 52 week high</th>\n",
       "      <td>-0.224006</td>\n",
       "      <td>-0.166789</td>\n",
       "      <td>0.151731</td>\n",
       "      <td>-0.123300</td>\n",
       "      <td>1.000000</td>\n",
       "      <td>-0.153566</td>\n",
       "      <td>-0.476828</td>\n",
       "      <td>-0.166288</td>\n",
       "      <td>-0.138103</td>\n",
       "    </tr>\n",
       "    <tr>\n",
       "      <th>52 Week Low</th>\n",
       "      <td>0.019630</td>\n",
       "      <td>0.992406</td>\n",
       "      <td>0.021018</td>\n",
       "      <td>0.997222</td>\n",
       "      <td>-0.153566</td>\n",
       "      <td>1.000000</td>\n",
       "      <td>0.007126</td>\n",
       "      <td>0.993047</td>\n",
       "      <td>-0.011572</td>\n",
       "    </tr>\n",
       "    <tr>\n",
       "      <th>% Above 52 Week low</th>\n",
       "      <td>0.023812</td>\n",
       "      <td>0.045528</td>\n",
       "      <td>0.060004</td>\n",
       "      <td>0.016565</td>\n",
       "      <td>-0.476828</td>\n",
       "      <td>0.007126</td>\n",
       "      <td>1.000000</td>\n",
       "      <td>0.044942</td>\n",
       "      <td>0.198785</td>\n",
       "    </tr>\n",
       "    <tr>\n",
       "      <th>Yesterday Closing Price</th>\n",
       "      <td>0.016849</td>\n",
       "      <td>0.999779</td>\n",
       "      <td>0.022424</td>\n",
       "      <td>0.994302</td>\n",
       "      <td>-0.166288</td>\n",
       "      <td>0.993047</td>\n",
       "      <td>0.044942</td>\n",
       "      <td>1.000000</td>\n",
       "      <td>-0.006334</td>\n",
       "    </tr>\n",
       "    <tr>\n",
       "      <th>% Change</th>\n",
       "      <td>0.083530</td>\n",
       "      <td>-0.003788</td>\n",
       "      <td>-0.075479</td>\n",
       "      <td>-0.015019</td>\n",
       "      <td>-0.138103</td>\n",
       "      <td>-0.011572</td>\n",
       "      <td>0.198785</td>\n",
       "      <td>-0.006334</td>\n",
       "      <td>1.000000</td>\n",
       "    </tr>\n",
       "  </tbody>\n",
       "</table>\n",
       "</div>"
      ],
      "text/plain": [
       "                         Market Cap (In Rs Cr.)  Current price  PE Ratio  \\\n",
       "Market Cap (In Rs Cr.)                 1.000000       0.016836 -0.041204   \n",
       "Current price                          0.016836       1.000000  0.022290   \n",
       "PE Ratio                              -0.041204       0.022290  1.000000   \n",
       "52 Week High                           0.009282       0.993819  0.020596   \n",
       "% Below 52 week high                  -0.224006      -0.166789  0.151731   \n",
       "52 Week Low                            0.019630       0.992406  0.021018   \n",
       "% Above 52 Week low                    0.023812       0.045528  0.060004   \n",
       "Yesterday Closing Price                0.016849       0.999779  0.022424   \n",
       "% Change                               0.083530      -0.003788 -0.075479   \n",
       "\n",
       "                         52 Week High  % Below 52 week high  52 Week Low  \\\n",
       "Market Cap (In Rs Cr.)       0.009282             -0.224006     0.019630   \n",
       "Current price                0.993819             -0.166789     0.992406   \n",
       "PE Ratio                     0.020596              0.151731     0.021018   \n",
       "52 Week High                 1.000000             -0.123300     0.997222   \n",
       "% Below 52 week high        -0.123300              1.000000    -0.153566   \n",
       "52 Week Low                  0.997222             -0.153566     1.000000   \n",
       "% Above 52 Week low          0.016565             -0.476828     0.007126   \n",
       "Yesterday Closing Price      0.994302             -0.166288     0.993047   \n",
       "% Change                    -0.015019             -0.138103    -0.011572   \n",
       "\n",
       "                         % Above 52 Week low  Yesterday Closing Price  \\\n",
       "Market Cap (In Rs Cr.)              0.023812                 0.016849   \n",
       "Current price                       0.045528                 0.999779   \n",
       "PE Ratio                            0.060004                 0.022424   \n",
       "52 Week High                        0.016565                 0.994302   \n",
       "% Below 52 week high               -0.476828                -0.166288   \n",
       "52 Week Low                         0.007126                 0.993047   \n",
       "% Above 52 Week low                 1.000000                 0.044942   \n",
       "Yesterday Closing Price             0.044942                 1.000000   \n",
       "% Change                            0.198785                -0.006334   \n",
       "\n",
       "                         % Change  \n",
       "Market Cap (In Rs Cr.)   0.083530  \n",
       "Current price           -0.003788  \n",
       "PE Ratio                -0.075479  \n",
       "52 Week High            -0.015019  \n",
       "% Below 52 week high    -0.138103  \n",
       "52 Week Low             -0.011572  \n",
       "% Above 52 Week low      0.198785  \n",
       "Yesterday Closing Price -0.006334  \n",
       "% Change                 1.000000  "
      ]
     },
     "execution_count": 65,
     "metadata": {},
     "output_type": "execute_result"
    }
   ],
   "source": [
    "#get the correlation matrix for the whole data\n",
    "df_corr = merge_df.corr()\n",
    "df_corr"
   ]
  },
  {
   "cell_type": "code",
   "execution_count": 197,
   "id": "444ced5c-d5ef-4922-add4-8ad7f4e0264f",
   "metadata": {},
   "outputs": [
    {
     "data": {
      "image/png": "[encoded data removed]",
      "text/plain": [
       "<Figure size 1000x600 with 2 Axes>"
      ]
     },
     "metadata": {},
     "output_type": "display_data"
    }
   ],
   "source": [
    "sns.heatmap((df_corr), robust=True,annot=True,xticklabels='auto')\n",
    "plt.show()"
   ]
  },
  {
   "cell_type": "markdown",
   "id": "7821f642-6fb3-412b-8603-8e0e7c3c81c0",
   "metadata": {},
   "source": [
    "### What is the relationship between the bear mode of a stock and its market capitalization?\n"
   ]
  },
  {
   "cell_type": "code",
   "execution_count": 67,
   "id": "dee12227-b45c-4dd9-97ec-cb7479db9c45",
   "metadata": {},
   "outputs": [
    {
     "data": {
      "text/html": [
       "<div>\n",
       "<style scoped>\n",
       "    .dataframe tbody tr th:only-of-type {\n",
       "        vertical-align: middle;\n",
       "    }\n",
       "\n",
       "    .dataframe tbody tr th {\n",
       "        vertical-align: top;\n",
       "    }\n",
       "\n",
       "    .dataframe thead th {\n",
       "        text-align: right;\n",
       "    }\n",
       "</style>\n",
       "<table border=\"1\" class=\"dataframe\">\n",
       "  <thead>\n",
       "    <tr style=\"text-align: right;\">\n",
       "      <th></th>\n",
       "      <th>Market Cap (In Rs Cr.)</th>\n",
       "      <th>Bear Mode1</th>\n",
       "    </tr>\n",
       "  </thead>\n",
       "  <tbody>\n",
       "    <tr>\n",
       "      <th>0</th>\n",
       "      <td>1.234545e+06</td>\n",
       "      <td>No</td>\n",
       "    </tr>\n",
       "    <tr>\n",
       "      <th>1</th>\n",
       "      <td>6.163013e+05</td>\n",
       "      <td>No</td>\n",
       "    </tr>\n",
       "    <tr>\n",
       "      <th>2</th>\n",
       "      <td>4.410274e+05</td>\n",
       "      <td>No</td>\n",
       "    </tr>\n",
       "    <tr>\n",
       "      <th>3</th>\n",
       "      <td>3.611726e+05</td>\n",
       "      <td>No</td>\n",
       "    </tr>\n",
       "    <tr>\n",
       "      <th>4</th>\n",
       "      <td>2.789601e+05</td>\n",
       "      <td>No</td>\n",
       "    </tr>\n",
       "    <tr>\n",
       "      <th>5</th>\n",
       "      <td>2.917701e+05</td>\n",
       "      <td>No</td>\n",
       "    </tr>\n",
       "    <tr>\n",
       "      <th>6</th>\n",
       "      <td>2.554384e+05</td>\n",
       "      <td>No</td>\n",
       "    </tr>\n",
       "    <tr>\n",
       "      <th>7</th>\n",
       "      <td>2.501579e+05</td>\n",
       "      <td>No</td>\n",
       "    </tr>\n",
       "    <tr>\n",
       "      <th>8</th>\n",
       "      <td>3.026172e+05</td>\n",
       "      <td>No</td>\n",
       "    </tr>\n",
       "    <tr>\n",
       "      <th>9</th>\n",
       "      <td>2.212925e+05</td>\n",
       "      <td>No</td>\n",
       "    </tr>\n",
       "    <tr>\n",
       "      <th>10</th>\n",
       "      <td>1.907522e+05</td>\n",
       "      <td>No</td>\n",
       "    </tr>\n",
       "    <tr>\n",
       "      <th>11</th>\n",
       "      <td>2.089758e+05</td>\n",
       "      <td>No</td>\n",
       "    </tr>\n",
       "    <tr>\n",
       "      <th>12</th>\n",
       "      <td>1.587854e+05</td>\n",
       "      <td>No</td>\n",
       "    </tr>\n",
       "    <tr>\n",
       "      <th>13</th>\n",
       "      <td>1.019649e+05</td>\n",
       "      <td>No</td>\n",
       "    </tr>\n",
       "    <tr>\n",
       "      <th>14</th>\n",
       "      <td>1.273400e+05</td>\n",
       "      <td>No</td>\n",
       "    </tr>\n",
       "    <tr>\n",
       "      <th>15</th>\n",
       "      <td>1.305690e+05</td>\n",
       "      <td>No</td>\n",
       "    </tr>\n",
       "    <tr>\n",
       "      <th>16</th>\n",
       "      <td>1.472936e+05</td>\n",
       "      <td>No</td>\n",
       "    </tr>\n",
       "    <tr>\n",
       "      <th>17</th>\n",
       "      <td>8.897711e+04</td>\n",
       "      <td>No</td>\n",
       "    </tr>\n",
       "    <tr>\n",
       "      <th>18</th>\n",
       "      <td>9.763102e+04</td>\n",
       "      <td>No</td>\n",
       "    </tr>\n",
       "    <tr>\n",
       "      <th>19</th>\n",
       "      <td>9.638394e+04</td>\n",
       "      <td>No</td>\n",
       "    </tr>\n",
       "  </tbody>\n",
       "</table>\n",
       "</div>"
      ],
      "text/plain": [
       "    Market Cap (In Rs Cr.) Bear Mode1\n",
       "0             1.234545e+06         No\n",
       "1             6.163013e+05         No\n",
       "2             4.410274e+05         No\n",
       "3             3.611726e+05         No\n",
       "4             2.789601e+05         No\n",
       "5             2.917701e+05         No\n",
       "6             2.554384e+05         No\n",
       "7             2.501579e+05         No\n",
       "8             3.026172e+05         No\n",
       "9             2.212925e+05         No\n",
       "10            1.907522e+05         No\n",
       "11            2.089758e+05         No\n",
       "12            1.587854e+05         No\n",
       "13            1.019649e+05         No\n",
       "14            1.273400e+05         No\n",
       "15            1.305690e+05         No\n",
       "16            1.472936e+05         No\n",
       "17            8.897711e+04         No\n",
       "18            9.763102e+04         No\n",
       "19            9.638394e+04         No"
      ]
     },
     "execution_count": 67,
     "metadata": {},
     "output_type": "execute_result"
    }
   ],
   "source": [
    "merge_df[['Market Cap (In Rs Cr.)', 'Bear Mode1']].head(20)"
   ]
  },
  {
   "cell_type": "code",
   "execution_count": 68,
   "id": "ed6ded5b-a7fd-4603-b4aa-e7bf2ba93d94",
   "metadata": {},
   "outputs": [
    {
     "data": {
      "text/html": [
       "<div>\n",
       "<style scoped>\n",
       "    .dataframe tbody tr th:only-of-type {\n",
       "        vertical-align: middle;\n",
       "    }\n",
       "\n",
       "    .dataframe tbody tr th {\n",
       "        vertical-align: top;\n",
       "    }\n",
       "\n",
       "    .dataframe thead th {\n",
       "        text-align: right;\n",
       "    }\n",
       "</style>\n",
       "<table border=\"1\" class=\"dataframe\">\n",
       "  <thead>\n",
       "    <tr style=\"text-align: right;\">\n",
       "      <th></th>\n",
       "      <th>Stock</th>\n",
       "      <th>Market Cap (In Rs Cr.)</th>\n",
       "      <th>Current price</th>\n",
       "      <th>PE Ratio</th>\n",
       "      <th>52 Week High</th>\n",
       "      <th>% Below 52 week high</th>\n",
       "      <th>52 Week Low</th>\n",
       "      <th>% Above 52 Week low</th>\n",
       "      <th>Yesterday Closing Price</th>\n",
       "      <th>% Change</th>\n",
       "      <th>Industry</th>\n",
       "      <th>NSE &amp; BSE Code</th>\n",
       "      <th>Bear Mode1</th>\n",
       "      <th>Bear Mode2</th>\n",
       "      <th>Stock Status</th>\n",
       "      <th>cap_size</th>\n",
       "    </tr>\n",
       "  </thead>\n",
       "  <tbody>\n",
       "    <tr>\n",
       "      <th>0</th>\n",
       "      <td>TCS</td>\n",
       "      <td>1.234545e+06</td>\n",
       "      <td>3374.2</td>\n",
       "      <td>30.43</td>\n",
       "      <td>4045.50</td>\n",
       "      <td>0.165937</td>\n",
       "      <td>2926.00</td>\n",
       "      <td>0.153178</td>\n",
       "      <td>3334.60</td>\n",
       "      <td>0.011875</td>\n",
       "      <td>IT</td>\n",
       "      <td>BOM:532540</td>\n",
       "      <td>No</td>\n",
       "      <td>No</td>\n",
       "      <td>Good Stock</td>\n",
       "      <td>Large Cap</td>\n",
       "    </tr>\n",
       "    <tr>\n",
       "      <th>1</th>\n",
       "      <td>HUL</td>\n",
       "      <td>6.163013e+05</td>\n",
       "      <td>2620.6</td>\n",
       "      <td>63.81</td>\n",
       "      <td>2741.60</td>\n",
       "      <td>0.044135</td>\n",
       "      <td>1901.55</td>\n",
       "      <td>0.378139</td>\n",
       "      <td>2590.05</td>\n",
       "      <td>0.011795</td>\n",
       "      <td>FMCG</td>\n",
       "      <td>HINDUNILVR</td>\n",
       "      <td>No</td>\n",
       "      <td>No</td>\n",
       "      <td>Good Stock</td>\n",
       "      <td>Small Cap</td>\n",
       "    </tr>\n",
       "    <tr>\n",
       "      <th>2</th>\n",
       "      <td>Airtel</td>\n",
       "      <td>4.410274e+05</td>\n",
       "      <td>764.6</td>\n",
       "      <td>65.86</td>\n",
       "      <td>860.55</td>\n",
       "      <td>0.111498</td>\n",
       "      <td>628.75</td>\n",
       "      <td>0.216064</td>\n",
       "      <td>756.90</td>\n",
       "      <td>0.010173</td>\n",
       "      <td>Telecom</td>\n",
       "      <td>BHARTIARTL</td>\n",
       "      <td>No</td>\n",
       "      <td>No</td>\n",
       "      <td>Good Stock</td>\n",
       "      <td>Small Cap</td>\n",
       "    </tr>\n",
       "    <tr>\n",
       "      <th>3</th>\n",
       "      <td>Bajaj Finance</td>\n",
       "      <td>3.611726e+05</td>\n",
       "      <td>5977.0</td>\n",
       "      <td>36.52</td>\n",
       "      <td>8045.00</td>\n",
       "      <td>0.257054</td>\n",
       "      <td>5220.00</td>\n",
       "      <td>0.145019</td>\n",
       "      <td>5898.40</td>\n",
       "      <td>0.013326</td>\n",
       "      <td>NBFC</td>\n",
       "      <td>BAJFINANCE</td>\n",
       "      <td>No</td>\n",
       "      <td>No</td>\n",
       "      <td>Good Stock</td>\n",
       "      <td>Small Cap</td>\n",
       "    </tr>\n",
       "    <tr>\n",
       "      <th>4</th>\n",
       "      <td>Asian Paints</td>\n",
       "      <td>2.789601e+05</td>\n",
       "      <td>2912.0</td>\n",
       "      <td>76.19</td>\n",
       "      <td>3582.90</td>\n",
       "      <td>0.187251</td>\n",
       "      <td>2560.00</td>\n",
       "      <td>0.137500</td>\n",
       "      <td>2915.95</td>\n",
       "      <td>-0.001355</td>\n",
       "      <td>Paint</td>\n",
       "      <td>ASIANPAINT</td>\n",
       "      <td>No</td>\n",
       "      <td>No</td>\n",
       "      <td>Good Stock</td>\n",
       "      <td>Small Cap</td>\n",
       "    </tr>\n",
       "  </tbody>\n",
       "</table>\n",
       "</div>"
      ],
      "text/plain": [
       "           Stock  Market Cap (In Rs Cr.)  Current price  PE Ratio  \\\n",
       "0            TCS            1.234545e+06         3374.2     30.43   \n",
       "1            HUL            6.163013e+05         2620.6     63.81   \n",
       "2         Airtel            4.410274e+05          764.6     65.86   \n",
       "3  Bajaj Finance            3.611726e+05         5977.0     36.52   \n",
       "4   Asian Paints            2.789601e+05         2912.0     76.19   \n",
       "\n",
       "   52 Week High  % Below 52 week high  52 Week Low  % Above 52 Week low  \\\n",
       "0       4045.50              0.165937      2926.00             0.153178   \n",
       "1       2741.60              0.044135      1901.55             0.378139   \n",
       "2        860.55              0.111498       628.75             0.216064   \n",
       "3       8045.00              0.257054      5220.00             0.145019   \n",
       "4       3582.90              0.187251      2560.00             0.137500   \n",
       "\n",
       "   Yesterday Closing Price  % Change Industry NSE & BSE Code Bear Mode1  \\\n",
       "0                  3334.60  0.011875       IT     BOM:532540         No   \n",
       "1                  2590.05  0.011795     FMCG     HINDUNILVR         No   \n",
       "2                   756.90  0.010173  Telecom     BHARTIARTL         No   \n",
       "3                  5898.40  0.013326     NBFC     BAJFINANCE         No   \n",
       "4                  2915.95 -0.001355    Paint     ASIANPAINT         No   \n",
       "\n",
       "  Bear Mode2 Stock Status   cap_size  \n",
       "0         No   Good Stock  Large Cap  \n",
       "1         No   Good Stock  Small Cap  \n",
       "2         No   Good Stock  Small Cap  \n",
       "3         No   Good Stock  Small Cap  \n",
       "4         No   Good Stock  Small Cap  "
      ]
     },
     "execution_count": 68,
     "metadata": {},
     "output_type": "execute_result"
    }
   ],
   "source": [
    "merge_df.head()"
   ]
  },
  {
   "cell_type": "code",
   "execution_count": 198,
   "id": "1545aac9-d312-48b0-a348-0be6ca4c87bb",
   "metadata": {},
   "outputs": [
    {
     "name": "stdout",
     "output_type": "stream",
     "text": [
      "<class 'pandas.core.frame.DataFrame'>\n",
      "Int64Index: 210 entries, 0 to 209\n",
      "Data columns (total 16 columns):\n",
      " #   Column                   Non-Null Count  Dtype  \n",
      "---  ------                   --------------  -----  \n",
      " 0   Stock                    210 non-null    object \n",
      " 1   Market Cap (In Rs Cr.)   210 non-null    float64\n",
      " 2   Current price            210 non-null    float64\n",
      " 3   PE Ratio                 210 non-null    float64\n",
      " 4   52 Week High             210 non-null    float64\n",
      " 5   % Below 52 week high     210 non-null    float64\n",
      " 6   52 Week Low              210 non-null    float64\n",
      " 7   % Above 52 Week low      210 non-null    float64\n",
      " 8   Yesterday Closing Price  210 non-null    float64\n",
      " 9   % Change                 210 non-null    float64\n",
      " 10  Industry                 210 non-null    object \n",
      " 11  NSE & BSE Code           210 non-null    object \n",
      " 12  Bear Mode1               210 non-null    object \n",
      " 13  Bear Mode2               210 non-null    object \n",
      " 14  Stock Status             210 non-null    object \n",
      " 15  cap_size                 210 non-null    object \n",
      "dtypes: float64(9), object(7)\n",
      "memory usage: 36.0+ KB\n"
     ]
    }
   ],
   "source": [
    "merge_df.info()"
   ]
  },
  {
   "cell_type": "code",
   "execution_count": null,
   "id": "634c4380-8670-4ea8-b9e6-a53624e06b7b",
   "metadata": {},
   "outputs": [],
   "source": []
  },
  {
   "cell_type": "code",
   "execution_count": null,
   "id": "954e0f09-7638-4295-a093-2a4699d1aa69",
   "metadata": {},
   "outputs": [],
   "source": []
  },
  {
   "cell_type": "code",
   "execution_count": null,
   "id": "f98436c9-38a8-4bcf-85ef-e26f660d3e72",
   "metadata": {},
   "outputs": [],
   "source": []
  },
  {
   "cell_type": "code",
   "execution_count": null,
   "id": "4b025e81-6fef-4db6-a7fe-340073941801",
   "metadata": {},
   "outputs": [],
   "source": []
  },
  {
   "cell_type": "code",
   "execution_count": null,
   "id": "918a160b-d3dd-467f-ba69-97d386d776a6",
   "metadata": {},
   "outputs": [],
   "source": []
  },
  {
   "cell_type": "code",
   "execution_count": null,
   "id": "dd0ca7c3-1fcc-4072-a1a0-3a5fc19a25a9",
   "metadata": {},
   "outputs": [],
   "source": []
  },
  {
   "cell_type": "code",
   "execution_count": null,
   "id": "ee0a47ff-893a-4516-9346-6489340dd075",
   "metadata": {},
   "outputs": [],
   "source": []
  },
  {
   "cell_type": "code",
   "execution_count": null,
   "id": "de6fedfd-8381-4ba6-a098-8098f3067870",
   "metadata": {},
   "outputs": [],
   "source": []
  },
  {
   "cell_type": "code",
   "execution_count": null,
   "id": "a2f4689e-c3ba-4f3d-86cd-70ffb7ecb75f",
   "metadata": {},
   "outputs": [],
   "source": []
  },
  {
   "cell_type": "code",
   "execution_count": null,
   "id": "cb23ad2e-63da-4fd0-b29a-ccfea99d4577",
   "metadata": {},
   "outputs": [],
   "source": []
  },
  {
   "cell_type": "code",
   "execution_count": null,
   "id": "32d93cd4-d6ab-4929-ad40-21edb40abe9a",
   "metadata": {},
   "outputs": [],
   "source": []
  },
  {
   "cell_type": "code",
   "execution_count": null,
   "id": "b11c5ef2-90ef-4ae9-8d50-5a18707c0f12",
   "metadata": {},
   "outputs": [],
   "source": []
  },
  {
   "cell_type": "code",
   "execution_count": null,
   "id": "3b8a3588-dcf0-43e1-a394-c8d03066c555",
   "metadata": {},
   "outputs": [],
   "source": []
  },
  {
   "cell_type": "code",
   "execution_count": 201,
   "id": "b31f035e-b4df-4677-9f74-e84ff800eff4",
   "metadata": {},
   "outputs": [
    {
     "data": {
      "text/plain": [
       "'C:\\\\Users\\\\Asus\\\\python'"
      ]
     },
     "execution_count": 201,
     "metadata": {},
     "output_type": "execute_result"
    }
   ],
   "source": []
  },
  {
   "cell_type": "code",
   "execution_count": null,
   "id": "6b0bb1ab-7aa0-4430-a59c-c59e1a992c94",
   "metadata": {},
   "outputs": [],
   "source": []
  },
  {
   "cell_type": "code",
   "execution_count": null,
   "id": "ced17be9-ff47-45fa-9540-bc9f52fbdccc",
   "metadata": {},
   "outputs": [],
   "source": []
  },
  {
   "cell_type": "code",
   "execution_count": null,
   "id": "bec36ee5-ec23-4a3f-9ed9-6eb95d8b08da",
   "metadata": {},
   "outputs": [],
   "source": []
  },
  {
   "cell_type": "code",
   "execution_count": null,
   "id": "36cf7d9b-e886-4757-a468-91e81769df8a",
   "metadata": {},
   "outputs": [],
   "source": []
  },
  {
   "cell_type": "code",
   "execution_count": null,
   "id": "c1becfa2-8bb0-4499-87eb-51a05e0143fe",
   "metadata": {},
   "outputs": [],
   "source": []
  },
  {
   "cell_type": "code",
   "execution_count": null,
   "id": "9a467fa3-4e66-4657-855b-35701b8e7057",
   "metadata": {},
   "outputs": [],
   "source": []
  },
  {
   "cell_type": "code",
   "execution_count": null,
   "id": "9b95912b-1fc6-47dc-988f-58732c5ef7ec",
   "metadata": {},
   "outputs": [],
   "source": []
  },
  {
   "cell_type": "code",
   "execution_count": null,
   "id": "2206d003-18f3-4f84-b460-8a2afca70189",
   "metadata": {},
   "outputs": [],
   "source": []
  },
  {
   "cell_type": "code",
   "execution_count": null,
   "id": "e7db8f49-8b2b-422c-b457-793dc9d631de",
   "metadata": {},
   "outputs": [],
   "source": []
  },
  {
   "cell_type": "code",
   "execution_count": null,
   "id": "56a858d3-b563-46ca-bce7-2ec8480507a6",
   "metadata": {},
   "outputs": [],
   "source": []
  },
  {
   "cell_type": "code",
   "execution_count": null,
   "id": "5257f91a-ff47-44a5-b717-6e68cec6fc88",
   "metadata": {},
   "outputs": [],
   "source": []
  },
  {
   "cell_type": "code",
   "execution_count": null,
   "id": "a2ed3072-94dc-4c42-9b21-9badec0f6706",
   "metadata": {},
   "outputs": [],
   "source": []
  },
  {
   "cell_type": "code",
   "execution_count": null,
   "id": "46ef650e-8c05-47bb-9bb9-1ef8959510aa",
   "metadata": {},
   "outputs": [],
   "source": []
  },
  {
   "cell_type": "code",
   "execution_count": null,
   "id": "d5b55a55-1917-4920-918d-db9cec1f6e5c",
   "metadata": {},
   "outputs": [],
   "source": []
  },
  {
   "cell_type": "code",
   "execution_count": null,
   "id": "80432b7d-bee9-47d7-b8ed-376898e0b68f",
   "metadata": {},
   "outputs": [],
   "source": []
  },
  {
   "cell_type": "code",
   "execution_count": null,
   "id": "e123af31-8e97-4629-91f4-33a611281e2e",
   "metadata": {},
   "outputs": [],
   "source": []
  }
 ],
 "metadata": {
  "kernelspec": {
   "display_name": "Python 3 (ipykernel)",
   "language": "python",
   "name": "python3"
  },
  "language_info": {
   "codemirror_mode": {
    "name": "ipython",
    "version": 3
   },
   "file_extension": ".py",
   "mimetype": "text/x-python",
   "name": "python",
   "nbconvert_exporter": "python",
   "pygments_lexer": "ipython3",
   "version": "3.10.9"
  }
 },
 "nbformat": 4,
 "nbformat_minor": 5
}
